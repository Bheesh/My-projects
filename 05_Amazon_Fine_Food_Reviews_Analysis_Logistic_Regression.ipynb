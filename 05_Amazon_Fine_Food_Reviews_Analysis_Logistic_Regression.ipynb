{
  "nbformat": 4,
  "nbformat_minor": 0,
  "metadata": {
    "colab": {
      "name": "05 Amazon Fine Food Reviews Analysis_Logistic Regression.ipynb",
      "version": "0.3.2",
      "provenance": [],
      "collapsed_sections": []
    },
    "kernelspec": {
      "name": "python3",
      "display_name": "Python 3"
    },
    "accelerator": "GPU"
  },
  "cells": [
    {
      "metadata": {
        "id": "AM7jsfwALPlp",
        "colab_type": "text"
      },
      "cell_type": "markdown",
      "source": [
        "# Amazon Fine Food Reviews Analysis\n",
        "\n",
        "\n",
        "Data Source: https://www.kaggle.com/snap/amazon-fine-food-reviews <br>\n",
        "\n",
        "EDA: https://nycdatascience.com/blog/student-works/amazon-fine-foods-visualization/\n",
        "\n",
        "\n",
        "The Amazon Fine Food Reviews dataset consists of reviews of fine foods from Amazon.<br>\n",
        "\n",
        "Number of reviews: 568,454<br>\n",
        "Number of users: 256,059<br>\n",
        "Number of products: 74,258<br>\n",
        "Timespan: Oct 1999 - Oct 2012<br>\n",
        "Number of Attributes/Columns in data: 10 \n",
        "\n",
        "Attribute Information:\n",
        "\n",
        "1. Id\n",
        "2. ProductId - unique identifier for the product\n",
        "3. UserId - unqiue identifier for the user\n",
        "4. ProfileName\n",
        "5. HelpfulnessNumerator - number of users who found the review helpful\n",
        "6. HelpfulnessDenominator - number of users who indicated whether they found the review helpful or not\n",
        "7. Score - rating between 1 and 5\n",
        "8. Time - timestamp for the review\n",
        "9. Summary - brief summary of the review\n",
        "10. Text - text of the review\n",
        "\n",
        "\n",
        "#### Objective:\n",
        "Given a review, determine whether the review is positive (rating of 4 or 5) or negative (rating of 1 or 2).\n",
        "\n",
        "<br>\n",
        "[Q] How to determine if a review is positive or negative?<br>\n",
        "<br> \n",
        "[Ans] We could use Score/Rating. A rating of 4 or 5 can be cosnidered as a positive review. A rating of 1 or 2 can be considered as negative one. A review of rating 3 is considered nuetral and such reviews are ignored from our analysis. This is an approximate and proxy way of determining the polarity (positivity/negativity) of a review.\n",
        "\n",
        "\n"
      ]
    },
    {
      "metadata": {
        "id": "CaQ7XJ4OLPls",
        "colab_type": "text"
      },
      "cell_type": "markdown",
      "source": [
        "# [1]. Reading Data"
      ]
    },
    {
      "metadata": {
        "id": "5VnEBjKRLPlu",
        "colab_type": "text"
      },
      "cell_type": "markdown",
      "source": [
        "## [1.1] Loading the data\n",
        "\n",
        "The dataset is available in two forms\n",
        "1. .csv file\n",
        "2. SQLite Database\n",
        "\n",
        "In order to load the data, We have used the SQLITE dataset as it is easier to query the data and visualise the data efficiently.\n",
        "<br> \n",
        "\n",
        "Here as we only want to get the global sentiment of the recommendations (positive or negative), we will purposefully ignore all Scores equal to 3. If the score is above 3, then the recommendation wil be set to \"positive\". Otherwise, it will be set to \"negative\"."
      ]
    },
    {
      "metadata": {
        "id": "x6YclOzXLPlv",
        "colab_type": "code",
        "colab": {}
      },
      "cell_type": "code",
      "source": [
        "%matplotlib inline\n",
        "import warnings\n",
        "warnings.filterwarnings(\"ignore\")\n",
        "\n",
        "\n",
        "import sqlite3\n",
        "import pandas as pd\n",
        "import numpy as np\n",
        "import nltk\n",
        "import string\n",
        "import matplotlib.pyplot as plt\n",
        "import seaborn as sns\n",
        "from sklearn.feature_extraction.text import TfidfTransformer\n",
        "from sklearn.feature_extraction.text import TfidfVectorizer\n",
        "\n",
        "from sklearn.feature_extraction.text import CountVectorizer\n",
        "from sklearn.metrics import confusion_matrix\n",
        "from sklearn import metrics\n",
        "from sklearn.metrics import roc_curve, auc\n",
        "from nltk.stem.porter import PorterStemmer\n",
        "\n",
        "import re\n",
        "# Tutorial about Python regular expressions: https://pymotw.com/2/re/\n",
        "import string\n",
        "from nltk.corpus import stopwords\n",
        "from nltk.stem import PorterStemmer\n",
        "from nltk.stem.wordnet import WordNetLemmatizer\n",
        "\n",
        "from gensim.models import Word2Vec\n",
        "from gensim.models import KeyedVectors\n",
        "import pickle\n",
        "\n",
        "from tqdm import tqdm\n",
        "import os"
      ],
      "execution_count": 0,
      "outputs": []
    },
    {
      "metadata": {
        "id": "gs0CsyhpcfOD",
        "colab_type": "code",
        "colab": {}
      },
      "cell_type": "code",
      "source": [
        "link = 'https://drive.google.com/open?id=1ANUjFD-iRBZuo1i15vgYmknoheh0rtkN'"
      ],
      "execution_count": 0,
      "outputs": []
    },
    {
      "metadata": {
        "id": "HRWSuirkcfSh",
        "colab_type": "code",
        "outputId": "ec3095f0-279c-46bb-dac9-2d3c0b7388e4",
        "colab": {
          "base_uri": "https://localhost:8080/",
          "height": 34
        }
      },
      "cell_type": "code",
      "source": [
        "fluff, id = link.split('=')\n",
        "print (id) # Verify that you have everything after '='"
      ],
      "execution_count": 3,
      "outputs": [
        {
          "output_type": "stream",
          "text": [
            "1ANUjFD-iRBZuo1i15vgYmknoheh0rtkN\n"
          ],
          "name": "stdout"
        }
      ]
    },
    {
      "metadata": {
        "id": "i_O5M62vcf0c",
        "colab_type": "code",
        "outputId": "01ce4dab-e00a-4872-d647-fbc78183d601",
        "colab": {
          "base_uri": "https://localhost:8080/",
          "height": 34
        }
      },
      "cell_type": "code",
      "source": [
        "import sqlite3\n",
        "from google.colab import drive\n",
        "drive.mount('/content/drive')\n",
        "con1 = sqlite3.connect('/content/drive/My Drive/Asgn/database.sqlite')\n",
        "#/content/drive/My Drive/Asgn/\n",
        "\n"
      ],
      "execution_count": 4,
      "outputs": [
        {
          "output_type": "stream",
          "text": [
            "Drive already mounted at /content/drive; to attempt to forcibly remount, call drive.mount(\"/content/drive\", force_remount=True).\n"
          ],
          "name": "stdout"
        }
      ]
    },
    {
      "metadata": {
        "id": "NZ4OSpSiLPl0",
        "colab_type": "code",
        "outputId": "11b44df5-9d09-41d6-f423-669dbc9e36b3",
        "colab": {
          "base_uri": "https://localhost:8080/",
          "height": 158
        }
      },
      "cell_type": "code",
      "source": [
        "\n",
        "filtered_data = pd.read_sql_query(\"\"\" SELECT * FROM Reviews WHERE Score != 3\"\"\", con1) \n",
        "\n",
        "# Give reviews with Score>3 a positive rating(1), and reviews with a score<3 a negative rating(0).\n",
        "def partition(x):\n",
        "    if x < 3:\n",
        "        return 0\n",
        "    return 1\n",
        "\n",
        "#changing reviews with score less than 3 to be positive and vice-versa\n",
        "actualScore = filtered_data['Score']\n",
        "positiveNegative = actualScore.map(partition) \n",
        "filtered_data['Score'] = positiveNegative\n",
        "print(\"Number of data points in our data\", filtered_data.shape)\n",
        "filtered_data.head(3)"
      ],
      "execution_count": 5,
      "outputs": [
        {
          "output_type": "stream",
          "text": [
            "Number of data points in our data (525814, 10)\n"
          ],
          "name": "stdout"
        },
        {
          "output_type": "execute_result",
          "data": {
            "text/html": [
              "<div>\n",
              "<style scoped>\n",
              "    .dataframe tbody tr th:only-of-type {\n",
              "        vertical-align: middle;\n",
              "    }\n",
              "\n",
              "    .dataframe tbody tr th {\n",
              "        vertical-align: top;\n",
              "    }\n",
              "\n",
              "    .dataframe thead th {\n",
              "        text-align: right;\n",
              "    }\n",
              "</style>\n",
              "<table border=\"1\" class=\"dataframe\">\n",
              "  <thead>\n",
              "    <tr style=\"text-align: right;\">\n",
              "      <th></th>\n",
              "      <th>Id</th>\n",
              "      <th>ProductId</th>\n",
              "      <th>UserId</th>\n",
              "      <th>ProfileName</th>\n",
              "      <th>HelpfulnessNumerator</th>\n",
              "      <th>HelpfulnessDenominator</th>\n",
              "      <th>Score</th>\n",
              "      <th>Time</th>\n",
              "      <th>Summary</th>\n",
              "      <th>Text</th>\n",
              "    </tr>\n",
              "  </thead>\n",
              "  <tbody>\n",
              "    <tr>\n",
              "      <th>0</th>\n",
              "      <td>1</td>\n",
              "      <td>B001E4KFG0</td>\n",
              "      <td>A3SGXH7AUHU8GW</td>\n",
              "      <td>delmartian</td>\n",
              "      <td>1</td>\n",
              "      <td>1</td>\n",
              "      <td>1</td>\n",
              "      <td>1303862400</td>\n",
              "      <td>Good Quality Dog Food</td>\n",
              "      <td>I have bought several of the Vitality canned d...</td>\n",
              "    </tr>\n",
              "    <tr>\n",
              "      <th>1</th>\n",
              "      <td>2</td>\n",
              "      <td>B00813GRG4</td>\n",
              "      <td>A1D87F6ZCVE5NK</td>\n",
              "      <td>dll pa</td>\n",
              "      <td>0</td>\n",
              "      <td>0</td>\n",
              "      <td>0</td>\n",
              "      <td>1346976000</td>\n",
              "      <td>Not as Advertised</td>\n",
              "      <td>Product arrived labeled as Jumbo Salted Peanut...</td>\n",
              "    </tr>\n",
              "    <tr>\n",
              "      <th>2</th>\n",
              "      <td>3</td>\n",
              "      <td>B000LQOCH0</td>\n",
              "      <td>ABXLMWJIXXAIN</td>\n",
              "      <td>Natalia Corres \"Natalia Corres\"</td>\n",
              "      <td>1</td>\n",
              "      <td>1</td>\n",
              "      <td>1</td>\n",
              "      <td>1219017600</td>\n",
              "      <td>\"Delight\" says it all</td>\n",
              "      <td>This is a confection that has been around a fe...</td>\n",
              "    </tr>\n",
              "  </tbody>\n",
              "</table>\n",
              "</div>"
            ],
            "text/plain": [
              "   Id   ProductId          UserId                      ProfileName  \\\n",
              "0   1  B001E4KFG0  A3SGXH7AUHU8GW                       delmartian   \n",
              "1   2  B00813GRG4  A1D87F6ZCVE5NK                           dll pa   \n",
              "2   3  B000LQOCH0   ABXLMWJIXXAIN  Natalia Corres \"Natalia Corres\"   \n",
              "\n",
              "   HelpfulnessNumerator  HelpfulnessDenominator  Score        Time  \\\n",
              "0                     1                       1      1  1303862400   \n",
              "1                     0                       0      0  1346976000   \n",
              "2                     1                       1      1  1219017600   \n",
              "\n",
              "                 Summary                                               Text  \n",
              "0  Good Quality Dog Food  I have bought several of the Vitality canned d...  \n",
              "1      Not as Advertised  Product arrived labeled as Jumbo Salted Peanut...  \n",
              "2  \"Delight\" says it all  This is a confection that has been around a fe...  "
            ]
          },
          "metadata": {
            "tags": []
          },
          "execution_count": 5
        }
      ]
    },
    {
      "metadata": {
        "id": "r44Y4VDjLPl7",
        "colab_type": "code",
        "colab": {}
      },
      "cell_type": "code",
      "source": [
        "display = pd.read_sql_query(\"\"\"\n",
        "SELECT UserId, ProductId, ProfileName, Time, Score, Text, COUNT(*)\n",
        "FROM Reviews\n",
        "GROUP BY UserId\n",
        "HAVING COUNT(*)>1\n",
        "\"\"\", con1)"
      ],
      "execution_count": 0,
      "outputs": []
    },
    {
      "metadata": {
        "scrolled": true,
        "id": "tTwINQv1LPl_",
        "colab_type": "code",
        "outputId": "6703a1cf-b69f-42ae-bb0c-af3210bf79b3",
        "colab": {
          "base_uri": "https://localhost:8080/",
          "height": 220
        }
      },
      "cell_type": "code",
      "source": [
        "print(display.shape)\n",
        "display.head()"
      ],
      "execution_count": 7,
      "outputs": [
        {
          "output_type": "stream",
          "text": [
            "(80668, 7)\n"
          ],
          "name": "stdout"
        },
        {
          "output_type": "execute_result",
          "data": {
            "text/html": [
              "<div>\n",
              "<style scoped>\n",
              "    .dataframe tbody tr th:only-of-type {\n",
              "        vertical-align: middle;\n",
              "    }\n",
              "\n",
              "    .dataframe tbody tr th {\n",
              "        vertical-align: top;\n",
              "    }\n",
              "\n",
              "    .dataframe thead th {\n",
              "        text-align: right;\n",
              "    }\n",
              "</style>\n",
              "<table border=\"1\" class=\"dataframe\">\n",
              "  <thead>\n",
              "    <tr style=\"text-align: right;\">\n",
              "      <th></th>\n",
              "      <th>UserId</th>\n",
              "      <th>ProductId</th>\n",
              "      <th>ProfileName</th>\n",
              "      <th>Time</th>\n",
              "      <th>Score</th>\n",
              "      <th>Text</th>\n",
              "      <th>COUNT(*)</th>\n",
              "    </tr>\n",
              "  </thead>\n",
              "  <tbody>\n",
              "    <tr>\n",
              "      <th>0</th>\n",
              "      <td>#oc-R115TNMSPFT9I7</td>\n",
              "      <td>B007Y59HVM</td>\n",
              "      <td>Breyton</td>\n",
              "      <td>1331510400</td>\n",
              "      <td>2</td>\n",
              "      <td>Overall its just OK when considering the price...</td>\n",
              "      <td>2</td>\n",
              "    </tr>\n",
              "    <tr>\n",
              "      <th>1</th>\n",
              "      <td>#oc-R11D9D7SHXIJB9</td>\n",
              "      <td>B005HG9ET0</td>\n",
              "      <td>Louis E. Emory \"hoppy\"</td>\n",
              "      <td>1342396800</td>\n",
              "      <td>5</td>\n",
              "      <td>My wife has recurring extreme muscle spasms, u...</td>\n",
              "      <td>3</td>\n",
              "    </tr>\n",
              "    <tr>\n",
              "      <th>2</th>\n",
              "      <td>#oc-R11DNU2NBKQ23Z</td>\n",
              "      <td>B007Y59HVM</td>\n",
              "      <td>Kim Cieszykowski</td>\n",
              "      <td>1348531200</td>\n",
              "      <td>1</td>\n",
              "      <td>This coffee is horrible and unfortunately not ...</td>\n",
              "      <td>2</td>\n",
              "    </tr>\n",
              "    <tr>\n",
              "      <th>3</th>\n",
              "      <td>#oc-R11O5J5ZVQE25C</td>\n",
              "      <td>B005HG9ET0</td>\n",
              "      <td>Penguin Chick</td>\n",
              "      <td>1346889600</td>\n",
              "      <td>5</td>\n",
              "      <td>This will be the bottle that you grab from the...</td>\n",
              "      <td>3</td>\n",
              "    </tr>\n",
              "    <tr>\n",
              "      <th>4</th>\n",
              "      <td>#oc-R12KPBODL2B5ZD</td>\n",
              "      <td>B007OSBE1U</td>\n",
              "      <td>Christopher P. Presta</td>\n",
              "      <td>1348617600</td>\n",
              "      <td>1</td>\n",
              "      <td>I didnt like this coffee. Instead of telling y...</td>\n",
              "      <td>2</td>\n",
              "    </tr>\n",
              "  </tbody>\n",
              "</table>\n",
              "</div>"
            ],
            "text/plain": [
              "               UserId   ProductId             ProfileName        Time  Score  \\\n",
              "0  #oc-R115TNMSPFT9I7  B007Y59HVM                 Breyton  1331510400      2   \n",
              "1  #oc-R11D9D7SHXIJB9  B005HG9ET0  Louis E. Emory \"hoppy\"  1342396800      5   \n",
              "2  #oc-R11DNU2NBKQ23Z  B007Y59HVM        Kim Cieszykowski  1348531200      1   \n",
              "3  #oc-R11O5J5ZVQE25C  B005HG9ET0           Penguin Chick  1346889600      5   \n",
              "4  #oc-R12KPBODL2B5ZD  B007OSBE1U   Christopher P. Presta  1348617600      1   \n",
              "\n",
              "                                                Text  COUNT(*)  \n",
              "0  Overall its just OK when considering the price...         2  \n",
              "1  My wife has recurring extreme muscle spasms, u...         3  \n",
              "2  This coffee is horrible and unfortunately not ...         2  \n",
              "3  This will be the bottle that you grab from the...         3  \n",
              "4  I didnt like this coffee. Instead of telling y...         2  "
            ]
          },
          "metadata": {
            "tags": []
          },
          "execution_count": 7
        }
      ]
    },
    {
      "metadata": {
        "id": "EOslHQgnLPmF",
        "colab_type": "code",
        "outputId": "9d08c950-f798-470d-a9d4-b429bc89d732",
        "colab": {
          "base_uri": "https://localhost:8080/",
          "height": 80
        }
      },
      "cell_type": "code",
      "source": [
        "display[display['UserId']=='AZY10LLTJ71NX']"
      ],
      "execution_count": 8,
      "outputs": [
        {
          "output_type": "execute_result",
          "data": {
            "text/html": [
              "<div>\n",
              "<style scoped>\n",
              "    .dataframe tbody tr th:only-of-type {\n",
              "        vertical-align: middle;\n",
              "    }\n",
              "\n",
              "    .dataframe tbody tr th {\n",
              "        vertical-align: top;\n",
              "    }\n",
              "\n",
              "    .dataframe thead th {\n",
              "        text-align: right;\n",
              "    }\n",
              "</style>\n",
              "<table border=\"1\" class=\"dataframe\">\n",
              "  <thead>\n",
              "    <tr style=\"text-align: right;\">\n",
              "      <th></th>\n",
              "      <th>UserId</th>\n",
              "      <th>ProductId</th>\n",
              "      <th>ProfileName</th>\n",
              "      <th>Time</th>\n",
              "      <th>Score</th>\n",
              "      <th>Text</th>\n",
              "      <th>COUNT(*)</th>\n",
              "    </tr>\n",
              "  </thead>\n",
              "  <tbody>\n",
              "    <tr>\n",
              "      <th>80638</th>\n",
              "      <td>AZY10LLTJ71NX</td>\n",
              "      <td>B006P7E5ZI</td>\n",
              "      <td>undertheshrine \"undertheshrine\"</td>\n",
              "      <td>1334707200</td>\n",
              "      <td>5</td>\n",
              "      <td>I was recommended to try green tea extract to ...</td>\n",
              "      <td>5</td>\n",
              "    </tr>\n",
              "  </tbody>\n",
              "</table>\n",
              "</div>"
            ],
            "text/plain": [
              "              UserId   ProductId                      ProfileName        Time  \\\n",
              "80638  AZY10LLTJ71NX  B006P7E5ZI  undertheshrine \"undertheshrine\"  1334707200   \n",
              "\n",
              "       Score                                               Text  COUNT(*)  \n",
              "80638      5  I was recommended to try green tea extract to ...         5  "
            ]
          },
          "metadata": {
            "tags": []
          },
          "execution_count": 8
        }
      ]
    },
    {
      "metadata": {
        "id": "pSwF4sdoLPmM",
        "colab_type": "code",
        "outputId": "3f824921-e384-4be1-a9a1-7fb19f84b93b",
        "colab": {
          "base_uri": "https://localhost:8080/",
          "height": 34
        }
      },
      "cell_type": "code",
      "source": [
        "display['COUNT(*)'].sum()"
      ],
      "execution_count": 9,
      "outputs": [
        {
          "output_type": "execute_result",
          "data": {
            "text/plain": [
              "393063"
            ]
          },
          "metadata": {
            "tags": []
          },
          "execution_count": 9
        }
      ]
    },
    {
      "metadata": {
        "id": "PuNkhjz0LPmQ",
        "colab_type": "text"
      },
      "cell_type": "markdown",
      "source": [
        "#  [2] Exploratory Data Analysis"
      ]
    },
    {
      "metadata": {
        "id": "oCJaTWrTLPmS",
        "colab_type": "text"
      },
      "cell_type": "markdown",
      "source": [
        "## [2.1] Data Cleaning: Deduplication\n",
        "\n",
        "It is observed (as shown in the table below) that the reviews data had many duplicate entries. Hence it was necessary to remove duplicates in order to get unbiased results for the analysis of the data.  Following is an example:"
      ]
    },
    {
      "metadata": {
        "scrolled": false,
        "id": "3lvzRwWVLPmT",
        "colab_type": "code",
        "outputId": "4f121645-a984-4331-e188-c10f65d5a3ac",
        "colab": {
          "base_uri": "https://localhost:8080/",
          "height": 202
        }
      },
      "cell_type": "code",
      "source": [
        "display= pd.read_sql_query(\"\"\"\n",
        "SELECT *\n",
        "FROM Reviews\n",
        "WHERE Score != 3 AND UserId=\"AR5J8UI46CURR\"\n",
        "ORDER BY ProductID\n",
        "\"\"\", con1)\n",
        "display.head()"
      ],
      "execution_count": 10,
      "outputs": [
        {
          "output_type": "execute_result",
          "data": {
            "text/html": [
              "<div>\n",
              "<style scoped>\n",
              "    .dataframe tbody tr th:only-of-type {\n",
              "        vertical-align: middle;\n",
              "    }\n",
              "\n",
              "    .dataframe tbody tr th {\n",
              "        vertical-align: top;\n",
              "    }\n",
              "\n",
              "    .dataframe thead th {\n",
              "        text-align: right;\n",
              "    }\n",
              "</style>\n",
              "<table border=\"1\" class=\"dataframe\">\n",
              "  <thead>\n",
              "    <tr style=\"text-align: right;\">\n",
              "      <th></th>\n",
              "      <th>Id</th>\n",
              "      <th>ProductId</th>\n",
              "      <th>UserId</th>\n",
              "      <th>ProfileName</th>\n",
              "      <th>HelpfulnessNumerator</th>\n",
              "      <th>HelpfulnessDenominator</th>\n",
              "      <th>Score</th>\n",
              "      <th>Time</th>\n",
              "      <th>Summary</th>\n",
              "      <th>Text</th>\n",
              "    </tr>\n",
              "  </thead>\n",
              "  <tbody>\n",
              "    <tr>\n",
              "      <th>0</th>\n",
              "      <td>78445</td>\n",
              "      <td>B000HDL1RQ</td>\n",
              "      <td>AR5J8UI46CURR</td>\n",
              "      <td>Geetha Krishnan</td>\n",
              "      <td>2</td>\n",
              "      <td>2</td>\n",
              "      <td>5</td>\n",
              "      <td>1199577600</td>\n",
              "      <td>LOACKER QUADRATINI VANILLA WAFERS</td>\n",
              "      <td>DELICIOUS WAFERS. I FIND THAT EUROPEAN WAFERS ...</td>\n",
              "    </tr>\n",
              "    <tr>\n",
              "      <th>1</th>\n",
              "      <td>138317</td>\n",
              "      <td>B000HDOPYC</td>\n",
              "      <td>AR5J8UI46CURR</td>\n",
              "      <td>Geetha Krishnan</td>\n",
              "      <td>2</td>\n",
              "      <td>2</td>\n",
              "      <td>5</td>\n",
              "      <td>1199577600</td>\n",
              "      <td>LOACKER QUADRATINI VANILLA WAFERS</td>\n",
              "      <td>DELICIOUS WAFERS. I FIND THAT EUROPEAN WAFERS ...</td>\n",
              "    </tr>\n",
              "    <tr>\n",
              "      <th>2</th>\n",
              "      <td>138277</td>\n",
              "      <td>B000HDOPYM</td>\n",
              "      <td>AR5J8UI46CURR</td>\n",
              "      <td>Geetha Krishnan</td>\n",
              "      <td>2</td>\n",
              "      <td>2</td>\n",
              "      <td>5</td>\n",
              "      <td>1199577600</td>\n",
              "      <td>LOACKER QUADRATINI VANILLA WAFERS</td>\n",
              "      <td>DELICIOUS WAFERS. I FIND THAT EUROPEAN WAFERS ...</td>\n",
              "    </tr>\n",
              "    <tr>\n",
              "      <th>3</th>\n",
              "      <td>73791</td>\n",
              "      <td>B000HDOPZG</td>\n",
              "      <td>AR5J8UI46CURR</td>\n",
              "      <td>Geetha Krishnan</td>\n",
              "      <td>2</td>\n",
              "      <td>2</td>\n",
              "      <td>5</td>\n",
              "      <td>1199577600</td>\n",
              "      <td>LOACKER QUADRATINI VANILLA WAFERS</td>\n",
              "      <td>DELICIOUS WAFERS. I FIND THAT EUROPEAN WAFERS ...</td>\n",
              "    </tr>\n",
              "    <tr>\n",
              "      <th>4</th>\n",
              "      <td>155049</td>\n",
              "      <td>B000PAQ75C</td>\n",
              "      <td>AR5J8UI46CURR</td>\n",
              "      <td>Geetha Krishnan</td>\n",
              "      <td>2</td>\n",
              "      <td>2</td>\n",
              "      <td>5</td>\n",
              "      <td>1199577600</td>\n",
              "      <td>LOACKER QUADRATINI VANILLA WAFERS</td>\n",
              "      <td>DELICIOUS WAFERS. I FIND THAT EUROPEAN WAFERS ...</td>\n",
              "    </tr>\n",
              "  </tbody>\n",
              "</table>\n",
              "</div>"
            ],
            "text/plain": [
              "       Id   ProductId         UserId      ProfileName  HelpfulnessNumerator  \\\n",
              "0   78445  B000HDL1RQ  AR5J8UI46CURR  Geetha Krishnan                     2   \n",
              "1  138317  B000HDOPYC  AR5J8UI46CURR  Geetha Krishnan                     2   \n",
              "2  138277  B000HDOPYM  AR5J8UI46CURR  Geetha Krishnan                     2   \n",
              "3   73791  B000HDOPZG  AR5J8UI46CURR  Geetha Krishnan                     2   \n",
              "4  155049  B000PAQ75C  AR5J8UI46CURR  Geetha Krishnan                     2   \n",
              "\n",
              "   HelpfulnessDenominator  Score        Time  \\\n",
              "0                       2      5  1199577600   \n",
              "1                       2      5  1199577600   \n",
              "2                       2      5  1199577600   \n",
              "3                       2      5  1199577600   \n",
              "4                       2      5  1199577600   \n",
              "\n",
              "                             Summary  \\\n",
              "0  LOACKER QUADRATINI VANILLA WAFERS   \n",
              "1  LOACKER QUADRATINI VANILLA WAFERS   \n",
              "2  LOACKER QUADRATINI VANILLA WAFERS   \n",
              "3  LOACKER QUADRATINI VANILLA WAFERS   \n",
              "4  LOACKER QUADRATINI VANILLA WAFERS   \n",
              "\n",
              "                                                Text  \n",
              "0  DELICIOUS WAFERS. I FIND THAT EUROPEAN WAFERS ...  \n",
              "1  DELICIOUS WAFERS. I FIND THAT EUROPEAN WAFERS ...  \n",
              "2  DELICIOUS WAFERS. I FIND THAT EUROPEAN WAFERS ...  \n",
              "3  DELICIOUS WAFERS. I FIND THAT EUROPEAN WAFERS ...  \n",
              "4  DELICIOUS WAFERS. I FIND THAT EUROPEAN WAFERS ...  "
            ]
          },
          "metadata": {
            "tags": []
          },
          "execution_count": 10
        }
      ]
    },
    {
      "metadata": {
        "id": "uT7p9_deLPmb",
        "colab_type": "text"
      },
      "cell_type": "markdown",
      "source": [
        "As it can be seen above that same user has multiple reviews with same values for HelpfulnessNumerator, HelpfulnessDenominator, Score, Time, Summary and Text and on doing analysis it was found that <br>\n",
        "<br> \n",
        "ProductId=B000HDOPZG was Loacker Quadratini Vanilla Wafer Cookies, 8.82-Ounce Packages (Pack of 8)<br>\n",
        "<br> \n",
        "ProductId=B000HDL1RQ was Loacker Quadratini Lemon Wafer Cookies, 8.82-Ounce Packages (Pack of 8) and so on<br>\n",
        "\n",
        "It was inferred after analysis that reviews with same parameters other than ProductId belonged to the same product just having different flavour or quantity. Hence in order to reduce redundancy it was decided to eliminate the rows having same parameters.<br>\n",
        "\n",
        "The method used for the same was that we first sort the data according to ProductId and then just keep the first similar product review and delelte the others. for eg. in the above just the review for ProductId=B000HDL1RQ remains. This method ensures that there is only one representative for each product and deduplication without sorting would lead to possibility of different representatives still existing for the same product."
      ]
    },
    {
      "metadata": {
        "id": "mdsKFc50LPme",
        "colab_type": "code",
        "colab": {}
      },
      "cell_type": "code",
      "source": [
        "#Sorting data according to ProductId in ascending order\n",
        "sorted_data=filtered_data.sort_values('ProductId', axis=0, ascending=True, inplace=False, kind='quicksort', na_position='last')"
      ],
      "execution_count": 0,
      "outputs": []
    },
    {
      "metadata": {
        "id": "2itLgX-NLPmk",
        "colab_type": "code",
        "outputId": "fd072dcf-1679-483c-c90c-4e260b6d50df",
        "colab": {
          "base_uri": "https://localhost:8080/",
          "height": 34
        }
      },
      "cell_type": "code",
      "source": [
        "#Deduplication of entries\n",
        "final=sorted_data.drop_duplicates(subset={\"UserId\",\"ProfileName\",\"Time\",\"Text\"}, keep='first', inplace=False)\n",
        "final.shape"
      ],
      "execution_count": 12,
      "outputs": [
        {
          "output_type": "execute_result",
          "data": {
            "text/plain": [
              "(364173, 10)"
            ]
          },
          "metadata": {
            "tags": []
          },
          "execution_count": 12
        }
      ]
    },
    {
      "metadata": {
        "id": "IBU4iZk4LPmt",
        "colab_type": "code",
        "outputId": "2561963a-54f7-457b-c658-c0f534c7a439",
        "colab": {
          "base_uri": "https://localhost:8080/",
          "height": 34
        }
      },
      "cell_type": "code",
      "source": [
        "#Checking to see how much % of data still remains\n",
        "(final['Id'].size*1.0)/(filtered_data['Id'].size*1.0)*100"
      ],
      "execution_count": 13,
      "outputs": [
        {
          "output_type": "execute_result",
          "data": {
            "text/plain": [
              "69.25890143662969"
            ]
          },
          "metadata": {
            "tags": []
          },
          "execution_count": 13
        }
      ]
    },
    {
      "metadata": {
        "id": "gFBOfSe4LPmy",
        "colab_type": "text"
      },
      "cell_type": "markdown",
      "source": [
        "<b>Observation:-</b> It was also seen that in two rows given below the value of HelpfulnessNumerator is greater than HelpfulnessDenominator which is not practically possible hence these two rows too are removed from calcualtions"
      ]
    },
    {
      "metadata": {
        "id": "50flE40lLPmz",
        "colab_type": "code",
        "outputId": "ee4e1e4e-1a6f-4e25-be80-c48568b126df",
        "colab": {
          "base_uri": "https://localhost:8080/",
          "height": 110
        }
      },
      "cell_type": "code",
      "source": [
        "display= pd.read_sql_query(\"\"\"\n",
        "SELECT *\n",
        "FROM Reviews\n",
        "WHERE Score != 3 AND Id=44737 OR Id=64422\n",
        "ORDER BY ProductID\n",
        "\"\"\", con1)\n",
        "\n",
        "display.head()"
      ],
      "execution_count": 14,
      "outputs": [
        {
          "output_type": "execute_result",
          "data": {
            "text/html": [
              "<div>\n",
              "<style scoped>\n",
              "    .dataframe tbody tr th:only-of-type {\n",
              "        vertical-align: middle;\n",
              "    }\n",
              "\n",
              "    .dataframe tbody tr th {\n",
              "        vertical-align: top;\n",
              "    }\n",
              "\n",
              "    .dataframe thead th {\n",
              "        text-align: right;\n",
              "    }\n",
              "</style>\n",
              "<table border=\"1\" class=\"dataframe\">\n",
              "  <thead>\n",
              "    <tr style=\"text-align: right;\">\n",
              "      <th></th>\n",
              "      <th>Id</th>\n",
              "      <th>ProductId</th>\n",
              "      <th>UserId</th>\n",
              "      <th>ProfileName</th>\n",
              "      <th>HelpfulnessNumerator</th>\n",
              "      <th>HelpfulnessDenominator</th>\n",
              "      <th>Score</th>\n",
              "      <th>Time</th>\n",
              "      <th>Summary</th>\n",
              "      <th>Text</th>\n",
              "    </tr>\n",
              "  </thead>\n",
              "  <tbody>\n",
              "    <tr>\n",
              "      <th>0</th>\n",
              "      <td>64422</td>\n",
              "      <td>B000MIDROQ</td>\n",
              "      <td>A161DK06JJMCYF</td>\n",
              "      <td>J. E. Stephens \"Jeanne\"</td>\n",
              "      <td>3</td>\n",
              "      <td>1</td>\n",
              "      <td>5</td>\n",
              "      <td>1224892800</td>\n",
              "      <td>Bought This for My Son at College</td>\n",
              "      <td>My son loves spaghetti so I didn't hesitate or...</td>\n",
              "    </tr>\n",
              "    <tr>\n",
              "      <th>1</th>\n",
              "      <td>44737</td>\n",
              "      <td>B001EQ55RW</td>\n",
              "      <td>A2V0I904FH7ABY</td>\n",
              "      <td>Ram</td>\n",
              "      <td>3</td>\n",
              "      <td>2</td>\n",
              "      <td>4</td>\n",
              "      <td>1212883200</td>\n",
              "      <td>Pure cocoa taste with crunchy almonds inside</td>\n",
              "      <td>It was almost a 'love at first bite' - the per...</td>\n",
              "    </tr>\n",
              "  </tbody>\n",
              "</table>\n",
              "</div>"
            ],
            "text/plain": [
              "      Id   ProductId          UserId              ProfileName  \\\n",
              "0  64422  B000MIDROQ  A161DK06JJMCYF  J. E. Stephens \"Jeanne\"   \n",
              "1  44737  B001EQ55RW  A2V0I904FH7ABY                      Ram   \n",
              "\n",
              "   HelpfulnessNumerator  HelpfulnessDenominator  Score        Time  \\\n",
              "0                     3                       1      5  1224892800   \n",
              "1                     3                       2      4  1212883200   \n",
              "\n",
              "                                        Summary  \\\n",
              "0             Bought This for My Son at College   \n",
              "1  Pure cocoa taste with crunchy almonds inside   \n",
              "\n",
              "                                                Text  \n",
              "0  My son loves spaghetti so I didn't hesitate or...  \n",
              "1  It was almost a 'love at first bite' - the per...  "
            ]
          },
          "metadata": {
            "tags": []
          },
          "execution_count": 14
        }
      ]
    },
    {
      "metadata": {
        "id": "0YTPJMLTLPm7",
        "colab_type": "code",
        "colab": {}
      },
      "cell_type": "code",
      "source": [
        "final=final[final.HelpfulnessNumerator<=final.HelpfulnessDenominator]"
      ],
      "execution_count": 0,
      "outputs": []
    },
    {
      "metadata": {
        "id": "LVJ_l-x2LPnC",
        "colab_type": "code",
        "outputId": "eea50c38-4c1e-48b1-9ad6-a93c6190187f",
        "colab": {
          "base_uri": "https://localhost:8080/",
          "height": 86
        }
      },
      "cell_type": "code",
      "source": [
        "#Before starting the next phase of preprocessing lets see the number of entries left\n",
        "print(final.shape)\n",
        "\n",
        "#How many positive and negative reviews are present in our dataset?\n",
        "final['Score'].value_counts()"
      ],
      "execution_count": 16,
      "outputs": [
        {
          "output_type": "stream",
          "text": [
            "(364171, 10)\n"
          ],
          "name": "stdout"
        },
        {
          "output_type": "execute_result",
          "data": {
            "text/plain": [
              "1    307061\n",
              "0     57110\n",
              "Name: Score, dtype: int64"
            ]
          },
          "metadata": {
            "tags": []
          },
          "execution_count": 16
        }
      ]
    },
    {
      "metadata": {
        "id": "GrTYWzYrLPnH",
        "colab_type": "text"
      },
      "cell_type": "markdown",
      "source": [
        "#  [3] Preprocessing"
      ]
    },
    {
      "metadata": {
        "id": "zbvLitZeLPnI",
        "colab_type": "text"
      },
      "cell_type": "markdown",
      "source": [
        "## [3.1].  Preprocessing Review Text\n",
        "\n",
        "Now that we have finished deduplication our data requires some preprocessing before we go on further with analysis and making the prediction model.\n",
        "\n",
        "Hence in the Preprocessing phase we do the following in the order below:-\n",
        "\n",
        "1. Begin by removing the html tags\n",
        "2. Remove any punctuations or limited set of special characters like , or . or # etc.\n",
        "3. Check if the word is made up of english letters and is not alpha-numeric\n",
        "4. Check to see if the length of the word is greater than 2 (as it was researched that there is no adjective in 2-letters)\n",
        "5. Convert the word to lowercase\n",
        "6. Remove Stopwords\n",
        "7. Finally Snowball Stemming the word (it was obsereved to be better than Porter Stemming)<br>\n",
        "\n",
        "After which we collect the words used to describe positive and negative reviews"
      ]
    },
    {
      "metadata": {
        "id": "yYDc0ZXALPnK",
        "colab_type": "code",
        "outputId": "1b73ce68-0743-42f3-a639-da966415f9ff",
        "colab": {
          "base_uri": "https://localhost:8080/",
          "height": 176
        }
      },
      "cell_type": "code",
      "source": [
        "# printing some random reviews\n",
        "sent_0 = final['Text'].values[0]\n",
        "print(sent_0)\n",
        "print(\"=\"*50)\n",
        "\n",
        "sent_1000 = final['Text'].values[1000]\n",
        "print(sent_1000)\n",
        "print(\"=\"*50)\n",
        "\n",
        "sent_1500 = final['Text'].values[1500]\n",
        "print(sent_1500)\n",
        "print(\"=\"*50)\n",
        "\n",
        "sent_4900 = final['Text'].values[4900]\n",
        "print(sent_4900)\n",
        "print(\"=\"*50)"
      ],
      "execution_count": 17,
      "outputs": [
        {
          "output_type": "stream",
          "text": [
            "this witty little book makes my son laugh at loud. i recite it in the car as we're driving along and he always can sing the refrain. he's learned about whales, India, drooping roses:  i love all the new words this book  introduces and the silliness of it all.  this is a classic book i am  willing to bet my son will STILL be able to recite from memory when he is  in college\n",
            "==================================================\n",
            "I was really looking forward to these pods based on the reviews.  Starbucks is good, but I prefer bolder taste.... imagine my surprise when I ordered 2 boxes - both were expired! One expired back in 2005 for gosh sakes.  I admit that Amazon agreed to credit me for cost plus part of shipping, but geez, 2 years expired!!!  I'm hoping to find local San Diego area shoppe that carries pods so that I can try something different than starbucks.\n",
            "==================================================\n",
            "Great ingredients although, chicken should have been 1st rather than chicken broth, the only thing I do not think belongs in it is Canola oil. Canola or rapeseed is not someting a dog would ever find in nature and if it did find rapeseed in nature and eat it, it would poison them. Today's Food industries have convinced the masses that Canola oil is a safe and even better oil than olive or virgin coconut, facts though say otherwise. Until the late 70's it was poisonous until they figured out a way to fix that. I still like it but it could be better.\n",
            "==================================================\n",
            "Can't do sugar.  Have tried scores of SF Syrups.  NONE of them can touch the excellence of this product.<br /><br />Thick, delicious.  Perfect.  3 ingredients: Water, Maltitol, Natural Maple Flavor.  PERIOD.  No chemicals.  No garbage.<br /><br />Have numerous friends & family members hooked on this stuff.  My husband & son, who do NOT like \"sugar free\" prefer this over major label regular syrup.<br /><br />I use this as my SWEETENER in baking: cheesecakes, white brownies, muffins, pumpkin pies, etc... Unbelievably delicious...<br /><br />Can you tell I like it? :)\n",
            "==================================================\n"
          ],
          "name": "stdout"
        }
      ]
    },
    {
      "metadata": {
        "id": "St5JWlI6cv7t",
        "colab_type": "code",
        "colab": {}
      },
      "cell_type": "code",
      "source": [
        ""
      ],
      "execution_count": 0,
      "outputs": []
    },
    {
      "metadata": {
        "id": "PId8CDTlcvcy",
        "colab_type": "code",
        "colab": {}
      },
      "cell_type": "code",
      "source": [
        ""
      ],
      "execution_count": 0,
      "outputs": []
    },
    {
      "metadata": {
        "id": "AxYh-wPiLPnS",
        "colab_type": "code",
        "outputId": "68f5ab9d-71d9-48a4-eb5b-bf934a98007e",
        "colab": {
          "base_uri": "https://localhost:8080/",
          "height": 54
        }
      },
      "cell_type": "code",
      "source": [
        "# remove urls from text python: https://stackoverflow.com/a/40823105/4084039\n",
        "sent_0 = re.sub(r\"http\\S+\", \"\", sent_0)\n",
        "sent_1000 = re.sub(r\"http\\S+\", \"\", sent_1000)\n",
        "sent_150 = re.sub(r\"http\\S+\", \"\", sent_1500)\n",
        "sent_4900 = re.sub(r\"http\\S+\", \"\", sent_4900)\n",
        "\n",
        "print(sent_0)"
      ],
      "execution_count": 18,
      "outputs": [
        {
          "output_type": "stream",
          "text": [
            "this witty little book makes my son laugh at loud. i recite it in the car as we're driving along and he always can sing the refrain. he's learned about whales, India, drooping roses:  i love all the new words this book  introduces and the silliness of it all.  this is a classic book i am  willing to bet my son will STILL be able to recite from memory when he is  in college\n"
          ],
          "name": "stdout"
        }
      ]
    },
    {
      "metadata": {
        "id": "JMSSWjZqLPne",
        "colab_type": "code",
        "outputId": "324dfa98-137f-4581-a47c-59001a44a1f6",
        "colab": {
          "base_uri": "https://localhost:8080/",
          "height": 158
        }
      },
      "cell_type": "code",
      "source": [
        "# https://stackoverflow.com/questions/16206380/python-beautifulsoup-how-to-remove-all-tags-from-an-element\n",
        "from bs4 import BeautifulSoup\n",
        "\n",
        "soup = BeautifulSoup(sent_0, 'lxml')\n",
        "text = soup.get_text()\n",
        "print(text)\n",
        "print(\"=\"*50)\n",
        "\n",
        "soup = BeautifulSoup(sent_1000, 'lxml')\n",
        "text = soup.get_text()\n",
        "print(text)\n",
        "print(\"=\"*50)\n",
        "\n",
        "soup = BeautifulSoup(sent_1500, 'lxml')\n",
        "text = soup.get_text()\n",
        "print(text)\n",
        "print(\"=\"*50)\n",
        "\n",
        "soup = BeautifulSoup(sent_4900, 'lxml')\n",
        "text = soup.get_text()\n",
        "print(text)"
      ],
      "execution_count": 19,
      "outputs": [
        {
          "output_type": "stream",
          "text": [
            "this witty little book makes my son laugh at loud. i recite it in the car as we're driving along and he always can sing the refrain. he's learned about whales, India, drooping roses:  i love all the new words this book  introduces and the silliness of it all.  this is a classic book i am  willing to bet my son will STILL be able to recite from memory when he is  in college\n",
            "==================================================\n",
            "I was really looking forward to these pods based on the reviews.  Starbucks is good, but I prefer bolder taste.... imagine my surprise when I ordered 2 boxes - both were expired! One expired back in 2005 for gosh sakes.  I admit that Amazon agreed to credit me for cost plus part of shipping, but geez, 2 years expired!!!  I'm hoping to find local San Diego area shoppe that carries pods so that I can try something different than starbucks.\n",
            "==================================================\n",
            "Great ingredients although, chicken should have been 1st rather than chicken broth, the only thing I do not think belongs in it is Canola oil. Canola or rapeseed is not someting a dog would ever find in nature and if it did find rapeseed in nature and eat it, it would poison them. Today's Food industries have convinced the masses that Canola oil is a safe and even better oil than olive or virgin coconut, facts though say otherwise. Until the late 70's it was poisonous until they figured out a way to fix that. I still like it but it could be better.\n",
            "==================================================\n",
            "Can't do sugar.  Have tried scores of SF Syrups.  NONE of them can touch the excellence of this product.Thick, delicious.  Perfect.  3 ingredients: Water, Maltitol, Natural Maple Flavor.  PERIOD.  No chemicals.  No garbage.Have numerous friends & family members hooked on this stuff.  My husband & son, who do NOT like \"sugar free\" prefer this over major label regular syrup.I use this as my SWEETENER in baking: cheesecakes, white brownies, muffins, pumpkin pies, etc... Unbelievably delicious...Can you tell I like it? :)\n"
          ],
          "name": "stdout"
        }
      ]
    },
    {
      "metadata": {
        "id": "BEtpMkhULPnt",
        "colab_type": "code",
        "colab": {}
      },
      "cell_type": "code",
      "source": [
        "# https://stackoverflow.com/a/47091490/4084039\n",
        "import re\n",
        "\n",
        "def decontracted(phrase):\n",
        "    # specific\n",
        "    phrase = re.sub(r\"won't\", \"will not\", phrase)\n",
        "    phrase = re.sub(r\"can\\'t\", \"can not\", phrase)\n",
        "\n",
        "    # general\n",
        "    phrase = re.sub(r\"n\\'t\", \" not\", phrase)\n",
        "    phrase = re.sub(r\"\\'re\", \" are\", phrase)\n",
        "    phrase = re.sub(r\"\\'s\", \" is\", phrase)\n",
        "    phrase = re.sub(r\"\\'d\", \" would\", phrase)\n",
        "    phrase = re.sub(r\"\\'ll\", \" will\", phrase)\n",
        "    phrase = re.sub(r\"\\'t\", \" not\", phrase)\n",
        "    phrase = re.sub(r\"\\'ve\", \" have\", phrase)\n",
        "    phrase = re.sub(r\"\\'m\", \" am\", phrase)\n",
        "    return phrase"
      ],
      "execution_count": 0,
      "outputs": []
    },
    {
      "metadata": {
        "id": "GavAnzNjLPnx",
        "colab_type": "code",
        "outputId": "1d380a07-ae35-4a24-ee00-a624af49d5db",
        "colab": {
          "base_uri": "https://localhost:8080/",
          "height": 72
        }
      },
      "cell_type": "code",
      "source": [
        "sent_1500 = decontracted(sent_1500)\n",
        "print(sent_1500)\n",
        "print(\"=\"*50)"
      ],
      "execution_count": 21,
      "outputs": [
        {
          "output_type": "stream",
          "text": [
            "Great ingredients although, chicken should have been 1st rather than chicken broth, the only thing I do not think belongs in it is Canola oil. Canola or rapeseed is not someting a dog would ever find in nature and if it did find rapeseed in nature and eat it, it would poison them. Today is Food industries have convinced the masses that Canola oil is a safe and even better oil than olive or virgin coconut, facts though say otherwise. Until the late 70 is it was poisonous until they figured out a way to fix that. I still like it but it could be better.\n",
            "==================================================\n"
          ],
          "name": "stdout"
        }
      ]
    },
    {
      "metadata": {
        "id": "Kl8nOoL-LPn3",
        "colab_type": "code",
        "outputId": "f8144648-a467-4548-e217-59d7a383aa53",
        "colab": {
          "base_uri": "https://localhost:8080/",
          "height": 54
        }
      },
      "cell_type": "code",
      "source": [
        "#remove words with numbers python: https://stackoverflow.com/a/18082370/4084039\n",
        "sent_0 = re.sub(\"\\S*\\d\\S*\", \"\", sent_0).strip()\n",
        "print(sent_0)"
      ],
      "execution_count": 22,
      "outputs": [
        {
          "output_type": "stream",
          "text": [
            "this witty little book makes my son laugh at loud. i recite it in the car as we're driving along and he always can sing the refrain. he's learned about whales, India, drooping roses:  i love all the new words this book  introduces and the silliness of it all.  this is a classic book i am  willing to bet my son will STILL be able to recite from memory when he is  in college\n"
          ],
          "name": "stdout"
        }
      ]
    },
    {
      "metadata": {
        "id": "EGB6X2uxLPn7",
        "colab_type": "code",
        "outputId": "fd0df9ef-03d4-4627-8aea-1ddd48021ae4",
        "colab": {
          "base_uri": "https://localhost:8080/",
          "height": 54
        }
      },
      "cell_type": "code",
      "source": [
        "#remove spacial character: https://stackoverflow.com/a/5843547/4084039\n",
        "sent_1500 = re.sub('[^A-Za-z0-9]+', ' ', sent_1500)\n",
        "print(sent_1500)"
      ],
      "execution_count": 23,
      "outputs": [
        {
          "output_type": "stream",
          "text": [
            "Great ingredients although chicken should have been 1st rather than chicken broth the only thing I do not think belongs in it is Canola oil Canola or rapeseed is not someting a dog would ever find in nature and if it did find rapeseed in nature and eat it it would poison them Today is Food industries have convinced the masses that Canola oil is a safe and even better oil than olive or virgin coconut facts though say otherwise Until the late 70 is it was poisonous until they figured out a way to fix that I still like it but it could be better \n"
          ],
          "name": "stdout"
        }
      ]
    },
    {
      "metadata": {
        "id": "CCurSJJ2LPn_",
        "colab_type": "code",
        "colab": {}
      },
      "cell_type": "code",
      "source": [
        "# https://gist.github.com/sebleier/554280\n",
        "# we are removing the words from the stop words list: 'no', 'nor', 'not'\n",
        "# <br /><br /> ==> after the above steps, we are getting \"br br\"\n",
        "# we are including them into stop words list\n",
        "# instead of <br /> if we have <br/> these tags would have revmoved in the 1st step\n",
        "\n",
        "stopwords= set(['br', 'the', 'i', 'me', 'my', 'myself', 'we', 'our', 'ours', 'ourselves', 'you', \"you're\", \"you've\",\\\n",
        "            \"you'll\", \"you'd\", 'your', 'yours', 'yourself', 'yourselves', 'he', 'him', 'his', 'himself', \\\n",
        "            'she', \"she's\", 'her', 'hers', 'herself', 'it', \"it's\", 'its', 'itself', 'they', 'them', 'their',\\\n",
        "            'theirs', 'themselves', 'what', 'which', 'who', 'whom', 'this', 'that', \"that'll\", 'these', 'those', \\\n",
        "            'am', 'is', 'are', 'was', 'were', 'be', 'been', 'being', 'have', 'has', 'had', 'having', 'do', 'does', \\\n",
        "            'did', 'doing', 'a', 'an', 'the', 'and', 'but', 'if', 'or', 'because', 'as', 'until', 'while', 'of', \\\n",
        "            'at', 'by', 'for', 'with', 'about', 'against', 'between', 'into', 'through', 'during', 'before', 'after',\\\n",
        "            'above', 'below', 'to', 'from', 'up', 'down', 'in', 'out', 'on', 'off', 'over', 'under', 'again', 'further',\\\n",
        "            'then', 'once', 'here', 'there', 'when', 'where', 'why', 'how', 'all', 'any', 'both', 'each', 'few', 'more',\\\n",
        "            'most', 'other', 'some', 'such', 'only', 'own', 'same', 'so', 'than', 'too', 'very', \\\n",
        "            's', 't', 'can', 'will', 'just', 'don', \"don't\", 'should', \"should've\", 'now', 'd', 'll', 'm', 'o', 're', \\\n",
        "            've', 'y', 'ain', 'aren', \"aren't\", 'couldn', \"couldn't\", 'didn', \"didn't\", 'doesn', \"doesn't\", 'hadn',\\\n",
        "            \"hadn't\", 'hasn', \"hasn't\", 'haven', \"haven't\", 'isn', \"isn't\", 'ma', 'mightn', \"mightn't\", 'mustn',\\\n",
        "            \"mustn't\", 'needn', \"needn't\", 'shan', \"shan't\", 'shouldn', \"shouldn't\", 'wasn', \"wasn't\", 'weren', \"weren't\", \\\n",
        "            'won', \"won't\", 'wouldn', \"wouldn't\"])"
      ],
      "execution_count": 0,
      "outputs": []
    },
    {
      "metadata": {
        "id": "mFHQEvfnLPoF",
        "colab_type": "code",
        "outputId": "fcdb46dd-6de4-4945-ecee-3d2d464fbace",
        "colab": {
          "base_uri": "https://localhost:8080/",
          "height": 34
        }
      },
      "cell_type": "code",
      "source": [
        "# Combining all the above stundents \n",
        "from tqdm import tqdm\n",
        "preprocessed_reviews = []\n",
        "# tqdm is for printing the status bar\n",
        "for sentance in tqdm(final['Text'].values):\n",
        "    sentance = re.sub(r\"http\\S+\", \"\", sentance)\n",
        "    sentance = BeautifulSoup(sentance, 'lxml').get_text()\n",
        "    sentance = decontracted(sentance)\n",
        "    sentance = re.sub(\"\\S*\\d\\S*\", \"\", sentance).strip()\n",
        "    sentance = re.sub('[^A-Za-z]+', ' ', sentance)\n",
        "    # https://gist.github.com/sebleier/554280\n",
        "    sentance = ' '.join(e.lower() for e in sentance.split() if e.lower() not in stopwords)\n",
        "    preprocessed_reviews.append(sentance.strip())"
      ],
      "execution_count": 25,
      "outputs": [
        {
          "output_type": "stream",
          "text": [
            "100%|██████████| 364171/364171 [03:31<00:00, 1721.78it/s]\n"
          ],
          "name": "stderr"
        }
      ]
    },
    {
      "metadata": {
        "id": "Tqx8QUeRLPoH",
        "colab_type": "code",
        "outputId": "1c61364a-31b6-4b3c-8a9d-ed7bc957f64d",
        "colab": {
          "base_uri": "https://localhost:8080/",
          "height": 34
        }
      },
      "cell_type": "code",
      "source": [
        "preprocessed_reviews[3500]"
      ],
      "execution_count": 26,
      "outputs": [
        {
          "output_type": "execute_result",
          "data": {
            "text/plain": [
              "'tried teas yet nice really love variety able try something new'"
            ]
          },
          "metadata": {
            "tags": []
          },
          "execution_count": 26
        }
      ]
    },
    {
      "metadata": {
        "id": "unu5ds-gEUHr",
        "colab_type": "code",
        "outputId": "a92a85ac-1215-408e-a9a0-188ff5c17d56",
        "colab": {
          "base_uri": "https://localhost:8080/",
          "height": 34
        }
      },
      "cell_type": "code",
      "source": [
        "final.shape\n"
      ],
      "execution_count": 27,
      "outputs": [
        {
          "output_type": "execute_result",
          "data": {
            "text/plain": [
              "(364171, 10)"
            ]
          },
          "metadata": {
            "tags": []
          },
          "execution_count": 27
        }
      ]
    },
    {
      "metadata": {
        "id": "DXFaSSCTggfb",
        "colab_type": "code",
        "colab": {}
      },
      "cell_type": "code",
      "source": [
        "final['cleanedText']=preprocessed_reviews"
      ],
      "execution_count": 0,
      "outputs": []
    },
    {
      "metadata": {
        "id": "S6oRgakPAlc5",
        "colab_type": "code",
        "outputId": "1b3df54d-aef8-42c5-9013-d5d739b62ff7",
        "colab": {
          "base_uri": "https://localhost:8080/",
          "height": 34
        }
      },
      "cell_type": "code",
      "source": [
        "final.shape\n"
      ],
      "execution_count": 29,
      "outputs": [
        {
          "output_type": "execute_result",
          "data": {
            "text/plain": [
              "(364171, 11)"
            ]
          },
          "metadata": {
            "tags": []
          },
          "execution_count": 29
        }
      ]
    },
    {
      "metadata": {
        "id": "vBPqmZOyA6m0",
        "colab_type": "code",
        "outputId": "8ca7112d-458b-449d-91d9-5713106000ab",
        "colab": {
          "base_uri": "https://localhost:8080/",
          "height": 34
        }
      },
      "cell_type": "code",
      "source": [
        "final.shape\n"
      ],
      "execution_count": 30,
      "outputs": [
        {
          "output_type": "execute_result",
          "data": {
            "text/plain": [
              "(364171, 11)"
            ]
          },
          "metadata": {
            "tags": []
          },
          "execution_count": 30
        }
      ]
    },
    {
      "metadata": {
        "id": "9IuKp2HULPoL",
        "colab_type": "text"
      },
      "cell_type": "markdown",
      "source": [
        "<h2><font color='red'>[3.2] Preprocessing Review Summary</font></h2>"
      ]
    },
    {
      "metadata": {
        "id": "Qk7gYOmKLPoM",
        "colab_type": "code",
        "colab": {}
      },
      "cell_type": "code",
      "source": [
        "## Similartly you can do preprocessing for review summary also."
      ],
      "execution_count": 0,
      "outputs": []
    },
    {
      "metadata": {
        "id": "RGDKLvN47qla",
        "colab_type": "code",
        "outputId": "943ebbdd-5ff2-4b83-b55f-3bfa0c3bcad4",
        "colab": {
          "base_uri": "https://localhost:8080/",
          "height": 34
        }
      },
      "cell_type": "code",
      "source": [
        "#Taking random 60000 ponits\n",
        "\n",
        "final_data = final.sample(n=90000)\n",
        "\n",
        "final_data.shape"
      ],
      "execution_count": 29,
      "outputs": [
        {
          "output_type": "execute_result",
          "data": {
            "text/plain": [
              "(90000, 11)"
            ]
          },
          "metadata": {
            "tags": []
          },
          "execution_count": 29
        }
      ]
    },
    {
      "metadata": {
        "id": "TqXOocFS7zwz",
        "colab_type": "code",
        "outputId": "f67a1641-c20c-4033-8023-94d08b3b293f",
        "colab": {
          "base_uri": "https://localhost:8080/",
          "height": 220
        }
      },
      "cell_type": "code",
      "source": [
        "# Sorting data based on time\n",
        "final_data[\"Time\"] = pd.to_datetime(final_data[\"Time\"], unit = \"s\")\n",
        "final_df = final_data.sort_values(by = \"Time\")\n",
        "print(final.shape)\n",
        "final_df.head(5)"
      ],
      "execution_count": 30,
      "outputs": [
        {
          "output_type": "stream",
          "text": [
            "(364171, 11)\n"
          ],
          "name": "stdout"
        },
        {
          "output_type": "execute_result",
          "data": {
            "text/html": [
              "<div>\n",
              "<style scoped>\n",
              "    .dataframe tbody tr th:only-of-type {\n",
              "        vertical-align: middle;\n",
              "    }\n",
              "\n",
              "    .dataframe tbody tr th {\n",
              "        vertical-align: top;\n",
              "    }\n",
              "\n",
              "    .dataframe thead th {\n",
              "        text-align: right;\n",
              "    }\n",
              "</style>\n",
              "<table border=\"1\" class=\"dataframe\">\n",
              "  <thead>\n",
              "    <tr style=\"text-align: right;\">\n",
              "      <th></th>\n",
              "      <th>Id</th>\n",
              "      <th>ProductId</th>\n",
              "      <th>UserId</th>\n",
              "      <th>ProfileName</th>\n",
              "      <th>HelpfulnessNumerator</th>\n",
              "      <th>HelpfulnessDenominator</th>\n",
              "      <th>Score</th>\n",
              "      <th>Time</th>\n",
              "      <th>Summary</th>\n",
              "      <th>Text</th>\n",
              "      <th>cleanedText</th>\n",
              "    </tr>\n",
              "  </thead>\n",
              "  <tbody>\n",
              "    <tr>\n",
              "      <th>346055</th>\n",
              "      <td>374359</td>\n",
              "      <td>B00004CI84</td>\n",
              "      <td>A344SMIA5JECGM</td>\n",
              "      <td>Vincent P. Ross</td>\n",
              "      <td>1</td>\n",
              "      <td>2</td>\n",
              "      <td>1</td>\n",
              "      <td>1999-12-06</td>\n",
              "      <td>A modern day fairy tale</td>\n",
              "      <td>A twist of rumplestiskin captured on film, sta...</td>\n",
              "      <td>twist rumplestiskin captured film starring mic...</td>\n",
              "    </tr>\n",
              "    <tr>\n",
              "      <th>346116</th>\n",
              "      <td>374422</td>\n",
              "      <td>B00004CI84</td>\n",
              "      <td>A1048CYU0OV4O8</td>\n",
              "      <td>Judy L. Eans</td>\n",
              "      <td>2</td>\n",
              "      <td>2</td>\n",
              "      <td>1</td>\n",
              "      <td>2000-01-09</td>\n",
              "      <td>GREAT</td>\n",
              "      <td>THIS IS ONE MOVIE THAT SHOULD BE IN YOUR MOVIE...</td>\n",
              "      <td>one movie movie collection filled comedy actio...</td>\n",
              "    </tr>\n",
              "    <tr>\n",
              "      <th>70688</th>\n",
              "      <td>76882</td>\n",
              "      <td>B00002N8SM</td>\n",
              "      <td>A32DW342WBJ6BX</td>\n",
              "      <td>Buttersugar</td>\n",
              "      <td>0</td>\n",
              "      <td>0</td>\n",
              "      <td>1</td>\n",
              "      <td>2000-01-24</td>\n",
              "      <td>A sure death for flies</td>\n",
              "      <td>I bought a few of these after my apartment was...</td>\n",
              "      <td>bought apartment infested fruit flies hours tr...</td>\n",
              "    </tr>\n",
              "    <tr>\n",
              "      <th>417883</th>\n",
              "      <td>451903</td>\n",
              "      <td>B00004CXX9</td>\n",
              "      <td>A2DEE7F9XKP3ZR</td>\n",
              "      <td>jerome</td>\n",
              "      <td>0</td>\n",
              "      <td>1</td>\n",
              "      <td>1</td>\n",
              "      <td>2000-06-03</td>\n",
              "      <td>Research</td>\n",
              "      <td>I'm getting crazy.&lt;p&gt;Is it really impossible t...</td>\n",
              "      <td>getting crazy really impossible today not find...</td>\n",
              "    </tr>\n",
              "    <tr>\n",
              "      <th>346094</th>\n",
              "      <td>374400</td>\n",
              "      <td>B00004CI84</td>\n",
              "      <td>A2DEE7F9XKP3ZR</td>\n",
              "      <td>jerome</td>\n",
              "      <td>0</td>\n",
              "      <td>3</td>\n",
              "      <td>1</td>\n",
              "      <td>2000-06-03</td>\n",
              "      <td>Research - Beatlejuice video - French version</td>\n",
              "      <td>I'm getting crazy.I'm looking for Beatlejuice ...</td>\n",
              "      <td>getting crazy looking beatlejuice french versi...</td>\n",
              "    </tr>\n",
              "  </tbody>\n",
              "</table>\n",
              "</div>"
            ],
            "text/plain": [
              "            Id   ProductId          UserId      ProfileName  \\\n",
              "346055  374359  B00004CI84  A344SMIA5JECGM  Vincent P. Ross   \n",
              "346116  374422  B00004CI84  A1048CYU0OV4O8     Judy L. Eans   \n",
              "70688    76882  B00002N8SM  A32DW342WBJ6BX      Buttersugar   \n",
              "417883  451903  B00004CXX9  A2DEE7F9XKP3ZR           jerome   \n",
              "346094  374400  B00004CI84  A2DEE7F9XKP3ZR           jerome   \n",
              "\n",
              "        HelpfulnessNumerator  HelpfulnessDenominator  Score       Time  \\\n",
              "346055                     1                       2      1 1999-12-06   \n",
              "346116                     2                       2      1 2000-01-09   \n",
              "70688                      0                       0      1 2000-01-24   \n",
              "417883                     0                       1      1 2000-06-03   \n",
              "346094                     0                       3      1 2000-06-03   \n",
              "\n",
              "                                              Summary  \\\n",
              "346055                        A modern day fairy tale   \n",
              "346116                                          GREAT   \n",
              "70688                          A sure death for flies   \n",
              "417883                                       Research   \n",
              "346094  Research - Beatlejuice video - French version   \n",
              "\n",
              "                                                     Text  \\\n",
              "346055  A twist of rumplestiskin captured on film, sta...   \n",
              "346116  THIS IS ONE MOVIE THAT SHOULD BE IN YOUR MOVIE...   \n",
              "70688   I bought a few of these after my apartment was...   \n",
              "417883  I'm getting crazy.<p>Is it really impossible t...   \n",
              "346094  I'm getting crazy.I'm looking for Beatlejuice ...   \n",
              "\n",
              "                                              cleanedText  \n",
              "346055  twist rumplestiskin captured film starring mic...  \n",
              "346116  one movie movie collection filled comedy actio...  \n",
              "70688   bought apartment infested fruit flies hours tr...  \n",
              "417883  getting crazy really impossible today not find...  \n",
              "346094  getting crazy looking beatlejuice french versi...  "
            ]
          },
          "metadata": {
            "tags": []
          },
          "execution_count": 30
        }
      ]
    },
    {
      "metadata": {
        "id": "mdonvaUq8CPr",
        "colab_type": "code",
        "outputId": "4509aec5-8ee3-4d28-8723-509026aed4f6",
        "colab": {
          "base_uri": "https://localhost:8080/",
          "height": 52
        }
      },
      "cell_type": "code",
      "source": [
        "# 80k data which will use to train model after vectorization\n",
        "X = final_df['cleanedText']\n",
        "print(\"shape of X:\", X.shape)\n",
        "# class label\n",
        "Y = final_df[\"Score\"]\n",
        "print(\"shape of Y:\", Y.shape)"
      ],
      "execution_count": 31,
      "outputs": [
        {
          "output_type": "stream",
          "text": [
            "shape of X: (90000,)\n",
            "shape of Y: (90000,)\n"
          ],
          "name": "stdout"
        }
      ]
    },
    {
      "metadata": {
        "id": "P91ty6DSYH7S",
        "colab_type": "code",
        "colab": {}
      },
      "cell_type": "code",
      "source": [
        "#code source: http://occam.olin.edu/sites/default/files/DataScienceMaterials/machine_learning_lecture_2/Machine%20Learning%20Lecture%202.html\n",
        "from sklearn.model_selection import train_test_split\n",
        "from sklearn.model_selection import GridSearchCV\n",
        "from sklearn.datasets import *\n",
        "from sklearn.linear_model import LogisticRegression"
      ],
      "execution_count": 0,
      "outputs": []
    },
    {
      "metadata": {
        "id": "PcYWPjs7YKhg",
        "colab_type": "code",
        "outputId": "ab8841bd-0ff6-47c5-fa84-b414bc8e74dc",
        "colab": {
          "base_uri": "https://localhost:8080/",
          "height": 69
        }
      },
      "cell_type": "code",
      "source": [
        "# X_train, X_test, y_train, y_test = train_test_split(X, Y, test_size=0.33, shuffle=Flase): this is for time series split\n",
        "X_train, X_test, Y_train, Y_test = train_test_split(X, Y, test_size=0.33) # this is random splitting\n",
        "X_train, X_cv, Y_train, Y_cv = train_test_split(X_train, Y_train, test_size=0.33) # this is random splitting\n",
        "\n",
        "\n",
        "print(X_train.shape, Y_train.shape)\n",
        "print(X_cv.shape, Y_cv.shape)\n",
        "print(X_test.shape, Y_test.shape)"
      ],
      "execution_count": 33,
      "outputs": [
        {
          "output_type": "stream",
          "text": [
            "(40401,) (40401,)\n",
            "(19899,) (19899,)\n",
            "(29700,) (29700,)\n"
          ],
          "name": "stdout"
        }
      ]
    },
    {
      "metadata": {
        "id": "B93jqKuhLPoQ",
        "colab_type": "text"
      },
      "cell_type": "markdown",
      "source": [
        "# [4] Featurization"
      ]
    },
    {
      "metadata": {
        "id": "xTLrkhh9OBJq",
        "colab_type": "text"
      },
      "cell_type": "markdown",
      "source": [
        "# [5.1.1] Applying Logistic Regression with L1 regularization on BOW, SET 1"
      ]
    },
    {
      "metadata": {
        "id": "rFXXPMVH8mTV",
        "colab_type": "code",
        "outputId": "a052c8ef-467c-44c2-bfcf-a82941429942",
        "colab": {
          "base_uri": "https://localhost:8080/",
          "height": 52
        }
      },
      "cell_type": "code",
      "source": [
        "# Training to Bow Vectorizor\n",
        "from sklearn.feature_extraction.text import CountVectorizer \n",
        "\n",
        "bow = CountVectorizer()\n",
        "X_bowtr = bow.fit_transform(X_train)\n",
        "X_bowtr"
      ],
      "execution_count": 34,
      "outputs": [
        {
          "output_type": "execute_result",
          "data": {
            "text/plain": [
              "<40401x38960 sparse matrix of type '<class 'numpy.int64'>'\n",
              "\twith 1327842 stored elements in Compressed Sparse Row format>"
            ]
          },
          "metadata": {
            "tags": []
          },
          "execution_count": 34
        }
      ]
    },
    {
      "metadata": {
        "id": "kFi9nb3BPtex",
        "colab_type": "code",
        "outputId": "0c5eb911-60f1-4c98-dc76-e371189e1909",
        "colab": {
          "base_uri": "https://localhost:8080/",
          "height": 34
        }
      },
      "cell_type": "code",
      "source": [
        "X_bowtr.shape"
      ],
      "execution_count": 35,
      "outputs": [
        {
          "output_type": "execute_result",
          "data": {
            "text/plain": [
              "(40401, 38960)"
            ]
          },
          "metadata": {
            "tags": []
          },
          "execution_count": 35
        }
      ]
    },
    {
      "metadata": {
        "id": "eFB_aYsp8uj1",
        "colab_type": "code",
        "outputId": "de1afb53-e2ff-4d09-c5c3-ae098260c261",
        "colab": {
          "base_uri": "https://localhost:8080/",
          "height": 34
        }
      },
      "cell_type": "code",
      "source": [
        "# Test Vectorizor training\n",
        "X_bowts = bow.transform(X_test)\n",
        "X_bowts.shape"
      ],
      "execution_count": 36,
      "outputs": [
        {
          "output_type": "execute_result",
          "data": {
            "text/plain": [
              "(29700, 38960)"
            ]
          },
          "metadata": {
            "tags": []
          },
          "execution_count": 36
        }
      ]
    },
    {
      "metadata": {
        "id": "YlbEeouxp4bd",
        "colab_type": "code",
        "outputId": "92f1248e-7aae-41a3-87d3-d8d9826af94a",
        "colab": {
          "base_uri": "https://localhost:8080/",
          "height": 34
        }
      },
      "cell_type": "code",
      "source": [
        "# Test Vectorizor training\n",
        "X_CVts = bow.transform(X_cv)\n",
        "X_CVts.shape"
      ],
      "execution_count": 37,
      "outputs": [
        {
          "output_type": "execute_result",
          "data": {
            "text/plain": [
              "(19899, 38960)"
            ]
          },
          "metadata": {
            "tags": []
          },
          "execution_count": 37
        }
      ]
    },
    {
      "metadata": {
        "id": "5JtCkGh5DKx-",
        "colab_type": "code",
        "outputId": "7a8e5ad8-d165-4d4d-ee79-b7cb9bad605f",
        "colab": {
          "base_uri": "https://localhost:8080/",
          "height": 121
        }
      },
      "cell_type": "code",
      "source": [
        "#Using CalibratedClassifierCV with cv=35\n",
        "from sklearn.calibration import CalibratedClassifierCV\n",
        "from sklearn.linear_model import LogisticRegression\n",
        "from sklearn.metrics import brier_score_loss\n",
        "clfb = LogisticRegression(C= 35, penalty= 'l1')\n",
        "clfb.fit(X_bowtr,Y_train)\n",
        "\n",
        "m = CalibratedClassifierCV(clfb ,  cv=5, method='sigmoid')\n",
        "m.fit(X_bowtr, Y_train)\n",
        "prob_pos_sigm = m.predict_proba(X_bowts)[2:, 1]\n",
        "print(prob_pos_sigm[1])\n",
        "\n",
        "print(\"Best parameters: \", m.get_params)\n",
        "\n",
        "\n",
        "\n"
      ],
      "execution_count": 38,
      "outputs": [
        {
          "output_type": "stream",
          "text": [
            "0.9999999824389645\n",
            "Best parameters:  <bound method BaseEstimator.get_params of CalibratedClassifierCV(base_estimator=LogisticRegression(C=35, class_weight=None, dual=False, fit_intercept=True,\n",
            "          intercept_scaling=1, max_iter=100, multi_class='warn',\n",
            "          n_jobs=None, penalty='l1', random_state=None, solver='warn',\n",
            "          tol=0.0001, verbose=0, warm_start=False),\n",
            "            cv=5, method='sigmoid')>\n"
          ],
          "name": "stdout"
        }
      ]
    },
    {
      "metadata": {
        "id": "wEPpcZLONa_h",
        "colab_type": "code",
        "outputId": "2160317e-503e-4fe6-cfa8-015578d40edd",
        "colab": {
          "base_uri": "https://localhost:8080/",
          "height": 34
        }
      },
      "cell_type": "code",
      "source": [
        "from sklearn.metrics import accuracy_score\n",
        "print(\"Accuracy on test set: %0.3f%%\"%(accuracy_score(Y_test,m.predict(X_bowts))*100))"
      ],
      "execution_count": 39,
      "outputs": [
        {
          "output_type": "stream",
          "text": [
            "Accuracy on test set: 90.121%\n"
          ],
          "name": "stdout"
        }
      ]
    },
    {
      "metadata": {
        "id": "1zv7plY_ujT7",
        "colab_type": "code",
        "outputId": "97e32206-7814-409d-c6b7-4db38ed24a00",
        "colab": {
          "base_uri": "https://localhost:8080/",
          "height": 34
        }
      },
      "cell_type": "code",
      "source": [
        "print(\"Accuracy on test set: %0.3f%%\"%(accuracy_score(Y_cv,m.predict(X_CVts))*100))"
      ],
      "execution_count": 40,
      "outputs": [
        {
          "output_type": "stream",
          "text": [
            "Accuracy on test set: 90.165%\n"
          ],
          "name": "stdout"
        }
      ]
    },
    {
      "metadata": {
        "id": "kRRR6zCVJ3qZ",
        "colab_type": "code",
        "outputId": "f05b2279-632f-44d6-af1d-1f1b2e15858c",
        "colab": {
          "base_uri": "https://localhost:8080/",
          "height": 294
        }
      },
      "cell_type": "code",
      "source": [
        "from sklearn.calibration import calibration_curve\n",
        "from matplotlib import pyplot\n",
        "# predict probabilities\n",
        "probs = m.predict_proba(X_bowts)[:, 1]\n",
        "# reliability diagram\n",
        "fop, mpv = calibration_curve(Y_test, probs, n_bins=10, normalize=True)\n",
        "# plot perfectly calibrated\n",
        "pyplot.plot([0, 1], [0, 1], linestyle='--')\n",
        "# plot calibrated reliability\n",
        "pyplot.plot(mpv, fop, marker='.')\n",
        "pyplot.title(\"Calibration curve\")\n",
        "plt.xlabel('Predicted prob ')\n",
        "plt.ylabel('Actual prob')\n",
        "pyplot.show()\n"
      ],
      "execution_count": 126,
      "outputs": [
        {
          "output_type": "display_data",
          "data": {
            "image/png": "[encoded data removed]",
            "text/plain": [
              "<Figure size 432x288 with 1 Axes>"
            ]
          },
          "metadata": {
            "tags": []
          }
        }
      ]
    },
    {
      "metadata": {
        "id": "dA8opGZtv-R2",
        "colab_type": "code",
        "outputId": "2d28c51b-eee4-480f-d021-709f41c56e41",
        "colab": {
          "base_uri": "https://localhost:8080/",
          "height": 416
        }
      },
      "cell_type": "code",
      "source": [
        "train_fpr, train_tpr, thresholds = roc_curve(Y_train, m.predict_proba(X_bowtr)[:,1])\n",
        "test_fpr, test_tpr, thresholds = roc_curve(Y_test, m.predict_proba(X_bowts)[:,1])\n",
        "\n",
        "plt.plot(train_fpr, train_tpr, label=\"train AUC =\"+str(auc(train_fpr, train_tpr)))\n",
        "plt.plot(test_fpr, test_tpr, label=\"test AUC =\"+str(auc(test_fpr, test_tpr)))\n",
        "plt.legend()\n",
        "plt.xlabel(\"Alpha\")\n",
        "plt.ylabel(\"AUC\")\n",
        "plt.title(\"ERROR PLOTS\")\n",
        "plt.show()\n",
        "\n",
        "print(\"=\"*100)\n",
        "\n",
        "from sklearn.metrics import confusion_matrix\n",
        "print(\"Train confusion matrix\")\n",
        "print(confusion_matrix(Y_train, m.predict(X_bowtr)))\n",
        "print(\"Test confusion matrix\")\n",
        "print(confusion_matrix(Y_test, m.predict(X_bowts)))"
      ],
      "execution_count": 42,
      "outputs": [
        {
          "output_type": "display_data",
          "data": {
            "image/png": "[encoded data removed]",
            "text/plain": [
              "<Figure size 432x288 with 1 Axes>"
            ]
          },
          "metadata": {
            "tags": []
          }
        },
        {
          "output_type": "stream",
          "text": [
            "====================================================================================================\n",
            "Train confusion matrix\n",
            "[[ 3392  2916]\n",
            " [    0 34093]]\n",
            "Test confusion matrix\n",
            "[[ 2177  2456]\n",
            " [  478 24589]]\n"
          ],
          "name": "stdout"
        }
      ]
    },
    {
      "metadata": {
        "id": "_71tZZm_vSvP",
        "colab_type": "text"
      },
      "cell_type": "markdown",
      "source": [
        "Test AUC score is 0.915 over train AUC 0.999."
      ]
    },
    {
      "metadata": {
        "id": "DwHQ47SFUh9y",
        "colab_type": "code",
        "outputId": "f34101e8-e394-4bbf-8fb9-e62c8e5d84f4",
        "colab": {
          "base_uri": "https://localhost:8080/",
          "height": 52
        }
      },
      "cell_type": "code",
      "source": [
        "# Confusion Matrix\n",
        "from sklearn.metrics import confusion_matrix\n",
        "cm = confusion_matrix(Y_test,m.predict(X_bowts))\n",
        "cm"
      ],
      "execution_count": 43,
      "outputs": [
        {
          "output_type": "execute_result",
          "data": {
            "text/plain": [
              "array([[ 2177,  2456],\n",
              "       [  478, 24589]])"
            ]
          },
          "metadata": {
            "tags": []
          },
          "execution_count": 43
        }
      ]
    },
    {
      "metadata": {
        "id": "HDdqRwRm_uwr",
        "colab_type": "code",
        "outputId": "5887449e-781f-4637-b614-739b291809a5",
        "colab": {
          "base_uri": "https://localhost:8080/",
          "height": 294
        }
      },
      "cell_type": "code",
      "source": [
        "# plot confusion matrix to describe the performance of classifier.\n",
        "import seaborn as sns\n",
        "class_label = [\"negative\", \"positive\"]\n",
        "df_cm = pd.DataFrame(cm, index = class_label, columns = class_label)\n",
        "sns.heatmap(df_cm, annot = True, fmt = \"d\")\n",
        "plt.title(\"Confusiion Matrix\")\n",
        "plt.xlabel(\"Predicted Label\")\n",
        "plt.ylabel(\"True Label\")\n",
        "plt.show()"
      ],
      "execution_count": 44,
      "outputs": [
        {
          "output_type": "display_data",
          "data": {
            "image/png": "[encoded data removed]",
            "text/plain": [
              "<Figure size 432x288 with 2 Axes>"
            ]
          },
          "metadata": {
            "tags": []
          }
        }
      ]
    },
    {
      "metadata": {
        "id": "Lvv_AE0SSiv5",
        "colab_type": "text"
      },
      "cell_type": "markdown",
      "source": [
        "# **[5.1.2] Applying Logistic Regression with L2 regularization on BOW, SET 1**"
      ]
    },
    {
      "metadata": {
        "id": "FW-JKndvNbPG",
        "colab_type": "code",
        "outputId": "3598584f-29d8-4f3e-bb11-91f9b4a7b626",
        "colab": {
          "base_uri": "https://localhost:8080/",
          "height": 104
        }
      },
      "cell_type": "code",
      "source": [
        "#Using CalibratedClassifierCV with cv=25\n",
        "from sklearn.calibration import CalibratedClassifierCV\n",
        "from sklearn.linear_model import LogisticRegression\n",
        "from sklearn.metrics import brier_score_loss\n",
        "clf2 = LogisticRegression(C= 60, penalty= 'l2')\n",
        "clf2.fit(X_bowtr,Y_train)\n",
        "\n",
        "m2 = CalibratedClassifierCV(clf2 ,  cv=25, method='sigmoid')\n",
        "m2.fit(X_bowtr, Y_train)\n",
        "print(\"Best parameters: \", m2.get_params)\n"
      ],
      "execution_count": 45,
      "outputs": [
        {
          "output_type": "stream",
          "text": [
            "Best parameters:  <bound method BaseEstimator.get_params of CalibratedClassifierCV(base_estimator=LogisticRegression(C=60, class_weight=None, dual=False, fit_intercept=True,\n",
            "          intercept_scaling=1, max_iter=100, multi_class='warn',\n",
            "          n_jobs=None, penalty='l2', random_state=None, solver='warn',\n",
            "          tol=0.0001, verbose=0, warm_start=False),\n",
            "            cv=25, method='sigmoid')>\n"
          ],
          "name": "stdout"
        }
      ]
    },
    {
      "metadata": {
        "id": "hgFxrMIkNhzg",
        "colab_type": "code",
        "outputId": "65ff1fca-43a3-4e2c-da12-ca9903a0379e",
        "colab": {
          "base_uri": "https://localhost:8080/",
          "height": 34
        }
      },
      "cell_type": "code",
      "source": [
        "print(\"Accuracy on test set: %0.3f%%\"%(accuracy_score(Y_test,clf2.predict(X_bowts))*100))"
      ],
      "execution_count": 46,
      "outputs": [
        {
          "output_type": "stream",
          "text": [
            "Accuracy on test set: 89.569%\n"
          ],
          "name": "stdout"
        }
      ]
    },
    {
      "metadata": {
        "id": "mMRtxtedN7lm",
        "colab_type": "code",
        "outputId": "896b4efc-8f04-42a6-f08b-63eb43dd52a3",
        "colab": {
          "base_uri": "https://localhost:8080/",
          "height": 294
        }
      },
      "cell_type": "code",
      "source": [
        "from sklearn.calibration import calibration_curve\n",
        "from matplotlib import pyplot\n",
        "# predict probabilities\n",
        "probs = m2.predict_proba(X_bowts)[:, 1]\n",
        "# reliability diagram\n",
        "fop, mpv = calibration_curve(Y_test, probs, n_bins=10, normalize=True)\n",
        "# plot perfectly calibrated\n",
        "pyplot.plot([0, 1], [0, 1], linestyle='--')\n",
        "# plot calibrated reliability\n",
        "pyplot.plot(mpv, fop, marker='.')\n",
        "pyplot.title(\"Calibration curve\")\n",
        "plt.xlabel('Predicted prob ')\n",
        "plt.ylabel('Actual prob')\n",
        "pyplot.show()"
      ],
      "execution_count": 125,
      "outputs": [
        {
          "output_type": "display_data",
          "data": {
            "image/png": "[encoded data removed]",
            "text/plain": [
              "<Figure size 432x288 with 1 Axes>"
            ]
          },
          "metadata": {
            "tags": []
          }
        }
      ]
    },
    {
      "metadata": {
        "id": "yj3uRFULyb8C",
        "colab_type": "code",
        "outputId": "1448300d-a90a-4621-e016-fd98a11acedd",
        "colab": {
          "base_uri": "https://localhost:8080/",
          "height": 416
        }
      },
      "cell_type": "code",
      "source": [
        "train_fpr, train_tpr, thresholds = roc_curve(Y_train, m2.predict_proba(X_bowtr)[:,1])\n",
        "test_fpr, test_tpr, thresholds = roc_curve(Y_test, m2.predict_proba(X_bowts)[:,1])\n",
        "\n",
        "plt.plot(train_fpr, train_tpr, label=\"train AUC =\"+str(auc(train_fpr, train_tpr)))\n",
        "plt.plot(test_fpr, test_tpr, label=\"test AUC =\"+str(auc(test_fpr, test_tpr)))\n",
        "plt.legend()\n",
        "plt.xlabel(\"Alpha\")\n",
        "plt.ylabel(\"AUC\")\n",
        "plt.title(\"ERROR PLOTS\")\n",
        "plt.show()\n",
        "\n",
        "print(\"=\"*100)\n",
        "\n",
        "from sklearn.metrics import confusion_matrix\n",
        "print(\"Train confusion matrix\")\n",
        "print(confusion_matrix(Y_train, m2.predict(X_bowtr)))\n",
        "print(\"Test confusion matrix\")\n",
        "print(confusion_matrix(Y_test, m2.predict(X_bowts)))"
      ],
      "execution_count": 49,
      "outputs": [
        {
          "output_type": "display_data",
          "data": {
            "image/png": "[encoded data removed]",
            "text/plain": [
              "<Figure size 432x288 with 1 Axes>"
            ]
          },
          "metadata": {
            "tags": []
          }
        },
        {
          "output_type": "stream",
          "text": [
            "====================================================================================================\n",
            "Train confusion matrix\n",
            "[[ 4453  1855]\n",
            " [    0 34093]]\n",
            "Test confusion matrix\n",
            "[[ 2298  2335]\n",
            " [  593 24474]]\n"
          ],
          "name": "stdout"
        }
      ]
    },
    {
      "metadata": {
        "id": "3vLSNpjTufnk",
        "colab_type": "text"
      },
      "cell_type": "markdown",
      "source": [
        "AUC score for Test is 0.904."
      ]
    },
    {
      "metadata": {
        "id": "8UJCd8PDOogB",
        "colab_type": "code",
        "outputId": "afc15e3f-c5fe-4ef7-e93e-dc9f07d609a1",
        "colab": {
          "base_uri": "https://localhost:8080/",
          "height": 52
        }
      },
      "cell_type": "code",
      "source": [
        "# Confusion Matrix\n",
        "from sklearn.metrics import confusion_matrix\n",
        "cm2 = confusion_matrix(Y_test,m2.predict(X_bowts))\n",
        "cm2"
      ],
      "execution_count": 50,
      "outputs": [
        {
          "output_type": "execute_result",
          "data": {
            "text/plain": [
              "array([[ 2298,  2335],\n",
              "       [  593, 24474]])"
            ]
          },
          "metadata": {
            "tags": []
          },
          "execution_count": 50
        }
      ]
    },
    {
      "metadata": {
        "id": "45xt_Uv6Oy4G",
        "colab_type": "code",
        "outputId": "84b2ed52-043c-4f5a-96a2-e94424033275",
        "colab": {
          "base_uri": "https://localhost:8080/",
          "height": 294
        }
      },
      "cell_type": "code",
      "source": [
        "# plot confusion matrix to describe the performance of classifier.\n",
        "import seaborn as sns\n",
        "class_label = [\"negative\", \"positive\"]\n",
        "df_cm = pd.DataFrame(cm2, index = class_label, columns = class_label)\n",
        "sns.heatmap(df_cm, annot = True, fmt = \"d\")\n",
        "plt.title(\"Confusiion Matrix\")\n",
        "plt.xlabel(\"Predicted Label\")\n",
        "plt.ylabel(\"True Label\")\n",
        "plt.show()"
      ],
      "execution_count": 51,
      "outputs": [
        {
          "output_type": "display_data",
          "data": {
            "image/png": "[encoded data removed]",
            "text/plain": [
              "<Figure size 432x288 with 2 Axes>"
            ]
          },
          "metadata": {
            "tags": []
          }
        }
      ]
    },
    {
      "metadata": {
        "id": "TP7-X_nwPjX1",
        "colab_type": "code",
        "outputId": "82cfd4d6-7d4a-4fd0-a62a-cfd6b5eeaf84",
        "colab": {
          "base_uri": "https://localhost:8080/",
          "height": 34
        }
      },
      "cell_type": "code",
      "source": [
        "X_bowtr.shape"
      ],
      "execution_count": 53,
      "outputs": [
        {
          "output_type": "execute_result",
          "data": {
            "text/plain": [
              "(40401, 39063)"
            ]
          },
          "metadata": {
            "tags": []
          },
          "execution_count": 53
        }
      ]
    },
    {
      "metadata": {
        "id": "sVBXSFf6NmJA",
        "colab_type": "code",
        "colab": {}
      },
      "cell_type": "code",
      "source": [
        "#X_bowtr['zeros']= N\n",
        "#Xnew = np.hstack((N,X_bowtr))"
      ],
      "execution_count": 0,
      "outputs": []
    },
    {
      "metadata": {
        "id": "aMh8cOeBBpgb",
        "colab_type": "code",
        "colab": {}
      },
      "cell_type": "code",
      "source": [
        "#from statsmodels.stats.outliers_influence import variance_inflation_factor\n",
        "#from statsmodels.tools.tools import add_constant\n"
      ],
      "execution_count": 0,
      "outputs": []
    },
    {
      "metadata": {
        "id": "WXtd2K-HMbx5",
        "colab_type": "code",
        "colab": {}
      },
      "cell_type": "code",
      "source": [
        "#From https://stackoverflow.com/questions/42658379/variance-inflation-factor-in-python\n",
        "#from statsmodels.stats.outliers_influence import variance_inflation_factor \n",
        "#from statsmodels.tools.tools import add_constant\n",
        "\n",
        "#def calculate_vif_(Xnew, thresh=5):\n",
        "    '''\n",
        "    Calculates VIF each feature in a pandas dataframe\n",
        "    A constant must be added to variance_inflation_factor or the results will be incorrect\n",
        "\n",
        "    :param X: the pandas dataframe\n",
        "    :param thresh: the max VIF value before the feature is removed from the dataframe\n",
        "    :return: dataframe with features removed\n",
        "    '''\n",
        "    #const = add_constant(Xnew)\n",
        "    #cols = const.columns\n",
        "    #variables = np.arange(const.shape[1])\n",
        "   # vif_df = pd.Series([variance_inflation_factor(const.values, i) \n",
        "               #for i in range(const.shape[1])], \n",
        "              #index=const.columns).to_frame()\n",
        "\n",
        "    #vif_df = vif_df.sort_values(by=0, ascending=False).rename(columns={0: 'VIF'})\n",
        "    #vif_df = vif_df.drop('const')\n",
        "    #vif_df = vif_df[vif_df['VIF'] > thresh]\n",
        "\n",
        "    #print ('Features above VIF threshold:\\n')\n",
        "   # print (vif_df[vif_df['VIF'] > thresh])"
      ],
      "execution_count": 0,
      "outputs": []
    },
    {
      "metadata": {
        "id": "0MCGLoVnMrf0",
        "colab_type": "code",
        "colab": {}
      },
      "cell_type": "code",
      "source": [
        "#calculate_vif_(Xnew)"
      ],
      "execution_count": 0,
      "outputs": []
    },
    {
      "metadata": {
        "id": "nSd8EaiOSFdv",
        "colab_type": "text"
      },
      "cell_type": "markdown",
      "source": [
        "# [5.1.2.1]** Performing pertubation test (multicollinearity check) on BOW, SET 1"
      ]
    },
    {
      "metadata": {
        "id": "D_7UD78LyM2s",
        "colab_type": "code",
        "outputId": "12238dcd-a428-4085-d7f8-2283284bc9dd",
        "colab": {
          "base_uri": "https://localhost:8080/",
          "height": 69
        }
      },
      "cell_type": "code",
      "source": [
        "from scipy.sparse import find\n",
        "#Weights before adding random noise\n",
        "w1 = clf2.coef_\n",
        "print(w1[:20])\n",
        "print(w1.size)"
      ],
      "execution_count": 0,
      "outputs": [
        {
          "output_type": "stream",
          "text": [
            "[[4.41540509e-02 1.22133274e-03 2.70087099e-04 ... 1.26664144e-05\n",
            "  1.32880715e-05 1.20821162e-03]]\n",
            "36982\n"
          ],
          "name": "stdout"
        }
      ]
    },
    {
      "metadata": {
        "id": "r-7ZXW2OsX9v",
        "colab_type": "code",
        "colab": {}
      },
      "cell_type": "code",
      "source": [
        "#Adding noise to do pertubation of the data, to check the collinearity and multicollinearity in data to check whether we can use weight in Logistic Regression or not\n",
        "#https://datascience.stackexchange.com/questions/37000/how-to-add-noise-to-supervised-binary-classifier\n",
        "\n",
        "\n",
        "#dimesions = data #to get the dimesion of the data\n",
        "#noise = np.random.rand(dimesion)\n",
        "#noisy_data = data + noise # to add noise the existing data \n",
        "\n",
        "from scipy.sparse import *\n",
        "from sklearn.datasets import *\n",
        "\n",
        "random_data = X_bowtr\n",
        "\n",
        "#Random noise\n",
        "#https://docs.scipy.org/doc/numpy-1.14.1/reference/generated/numpy.random.uniform.html\n",
        "e = np.random.uniform(low=-0.0001, high=0.0001, size=(find(random_data)[0].size,))\n",
        "\n",
        "#Return the indices and values of the nonzero elements of a matrix\n",
        "a,b,c = find(random_data)\n",
        "\n",
        "#Introducing random noise to train dataset\n",
        "random_data[a,b] = e + random_data[a,b]"
      ],
      "execution_count": 0,
      "outputs": []
    },
    {
      "metadata": {
        "id": "M46CAjbppjT_",
        "colab_type": "code",
        "outputId": "124df792-fcc1-4b6d-8272-0005a4b179cf",
        "colab": {
          "base_uri": "https://localhost:8080/",
          "height": 34
        }
      },
      "cell_type": "code",
      "source": [
        "random_data.shape"
      ],
      "execution_count": 0,
      "outputs": [
        {
          "output_type": "execute_result",
          "data": {
            "text/plain": [
              "(35912, 36982)"
            ]
          },
          "metadata": {
            "tags": []
          },
          "execution_count": 60
        }
      ]
    },
    {
      "metadata": {
        "id": "TwFlFWzbvHKX",
        "colab_type": "code",
        "outputId": "88c99ec1-b4da-4572-8e56-c540b028f341",
        "colab": {
          "base_uri": "https://localhost:8080/",
          "height": 34
        }
      },
      "cell_type": "code",
      "source": [
        "random_data[a,b].shape"
      ],
      "execution_count": 0,
      "outputs": [
        {
          "output_type": "execute_result",
          "data": {
            "text/plain": [
              "(1, 1184949)"
            ]
          },
          "metadata": {
            "tags": []
          },
          "execution_count": 61
        }
      ]
    },
    {
      "metadata": {
        "id": "dWjsHH7_lsQU",
        "colab_type": "code",
        "outputId": "99d0a935-4664-4a45-e691-18a3dd5dba83",
        "colab": {
          "base_uri": "https://localhost:8080/",
          "height": 52
        }
      },
      "cell_type": "code",
      "source": [
        "#Fitting after adding error to original data\n",
        "from sklearn.metrics import accuracy_score\n",
        "clfe = LogisticRegression(C= 50, penalty= 'l2')\n",
        "clfe.fit(random_data,Y_train)\n",
        "Y_pre = clfe.predict(X_bowts)\n",
        "\n",
        "print(\"Accuracy on test set: %0.3f%%\"%(accuracy_score(Y_test, Y_pre)*100))\n",
        "\n",
        "print(\"Non Zero weights:\",np.count_nonzero(clfe.coef_))"
      ],
      "execution_count": 0,
      "outputs": [
        {
          "output_type": "stream",
          "text": [
            "Accuracy on test set: 90.110%\n",
            "Non Zero weights: 27349\n"
          ],
          "name": "stdout"
        }
      ]
    },
    {
      "metadata": {
        "id": "qq-sqqYtaTIr",
        "colab_type": "code",
        "outputId": "d463e356-6509-4bf7-bc33-bbbb3261aed8",
        "colab": {
          "base_uri": "https://localhost:8080/",
          "height": 52
        }
      },
      "cell_type": "code",
      "source": [
        "from scipy.sparse import find\n",
        "#Weights after adding random noise\n",
        "w2 = clfe.coef_\n",
        "print(w2[:20])\n",
        "print(w2.size)"
      ],
      "execution_count": 0,
      "outputs": [
        {
          "output_type": "stream",
          "text": [
            "[[1.08242842 0.         0.00717928 ... 0.00134299 0.         0.0932569 ]]\n",
            "36982\n"
          ],
          "name": "stdout"
        }
      ]
    },
    {
      "metadata": {
        "id": "orRPyPdzk96v",
        "colab_type": "code",
        "outputId": "9955f82c-361f-463d-bf23-7c789a6b54ae",
        "colab": {
          "base_uri": "https://localhost:8080/",
          "height": 52
        }
      },
      "cell_type": "code",
      "source": [
        "#Finding absolute difference\n",
        "wd = abs((w1 - w2)/w1) * 100\n",
        "wd"
      ],
      "execution_count": 0,
      "outputs": [
        {
          "output_type": "execute_result",
          "data": {
            "text/plain": [
              "array([[2297.19006437,  100.        ,  465.25911676, ...,   32.61897411,\n",
              "         100.        , 4123.18675028]])"
            ]
          },
          "metadata": {
            "tags": []
          },
          "execution_count": 81
        }
      ]
    },
    {
      "metadata": {
        "id": "XwcoLlV8zDt2",
        "colab_type": "code",
        "outputId": "e9476cde-8463-41b4-dcce-8d0f11cd80d4",
        "colab": {
          "base_uri": "https://localhost:8080/",
          "height": 34
        }
      },
      "cell_type": "code",
      "source": [
        "print(wd[np.where(wd > 50)].size)"
      ],
      "execution_count": 0,
      "outputs": [
        {
          "output_type": "stream",
          "text": [
            "30832\n"
          ],
          "name": "stdout"
        }
      ]
    },
    {
      "metadata": {
        "id": "k8vjItTQzyhy",
        "colab_type": "code",
        "outputId": "e6c8ac9f-25eb-424f-aed6-ee070f82a667",
        "colab": {
          "base_uri": "https://localhost:8080/",
          "height": 34
        }
      },
      "cell_type": "code",
      "source": [
        "#adding a small to weights\n",
        "w1=w1+0.001\n",
        "w2=w2+0.001\n",
        "print(w1.shape , w2.shape)"
      ],
      "execution_count": 0,
      "outputs": [
        {
          "output_type": "stream",
          "text": [
            "(1, 36982) (1, 36982)\n"
          ],
          "name": "stdout"
        }
      ]
    },
    {
      "metadata": {
        "id": "01BkP88sjGTq",
        "colab_type": "code",
        "outputId": "07da1b1a-a4ed-4d2b-f884-546bf516e6f3",
        "colab": {
          "base_uri": "https://localhost:8080/",
          "height": 52
        }
      },
      "cell_type": "code",
      "source": [
        "#Calculating percentage\n",
        "per_chang=(abs(w1 - w2)/w1) * 100\n",
        "per_chang"
      ],
      "execution_count": 0,
      "outputs": [
        {
          "output_type": "execute_result",
          "data": {
            "text/plain": [
              "array([[2247.41783379,   68.95694789,  260.30701732, ...,   16.41212837,\n",
              "          50.33000919, 2837.98887697]])"
            ]
          },
          "metadata": {
            "tags": []
          },
          "execution_count": 84
        }
      ]
    },
    {
      "metadata": {
        "id": "OAE8Ww42Fgf7",
        "colab_type": "code",
        "outputId": "51e7acef-ca95-41cc-a48e-978c93ef6e55",
        "colab": {
          "base_uri": "https://localhost:8080/",
          "height": 69
        }
      },
      "cell_type": "code",
      "source": [
        "#Change for range of 0 to 100\n",
        "r=np.arange(0,100,10)\n",
        "P1 = np.percentile(per_chang,r )\n",
        "P1"
      ],
      "execution_count": 0,
      "outputs": [
        {
          "output_type": "execute_result",
          "data": {
            "text/plain": [
              "array([-4.18816252e+06, -1.03687471e+02, -3.79173573e+01,  2.06814524e+01,\n",
              "        4.99741941e+01,  5.60943027e+01,  8.56209482e+01,  9.98212057e+01,\n",
              "        2.64223789e+02,  1.56131682e+03])"
            ]
          },
          "metadata": {
            "tags": []
          },
          "execution_count": 85
        }
      ]
    },
    {
      "metadata": {
        "id": "SLFBB4UrFyk7",
        "colab_type": "code",
        "outputId": "093ff2e9-590b-4e75-adbc-90017a09f00f",
        "colab": {
          "base_uri": "https://localhost:8080/",
          "height": 69
        }
      },
      "cell_type": "code",
      "source": [
        "#Change for range of 99 to 100\n",
        "r1=np.arange(99.1,100,10)\n",
        "P2 = np.percentile(per_chang,r )\n",
        "P2"
      ],
      "execution_count": 0,
      "outputs": [
        {
          "output_type": "execute_result",
          "data": {
            "text/plain": [
              "array([-4.18816252e+06, -1.03687471e+02, -3.79173573e+01,  2.06814524e+01,\n",
              "        4.99741941e+01,  5.60943027e+01,  8.56209482e+01,  9.98212057e+01,\n",
              "        2.64223789e+02,  1.56131682e+03])"
            ]
          },
          "metadata": {
            "tags": []
          },
          "execution_count": 86
        }
      ]
    },
    {
      "metadata": {
        "id": "Fku7fgjeufGN",
        "colab_type": "code",
        "outputId": "7867afe2-56cd-42ba-efd6-f08e58f213f5",
        "colab": {
          "base_uri": "https://localhost:8080/",
          "height": 34
        }
      },
      "cell_type": "code",
      "source": [
        "print(\"No of features\",wd[np.where(wd>45)].size)\n",
        "  "
      ],
      "execution_count": 0,
      "outputs": [
        {
          "output_type": "stream",
          "text": [
            "No of features 31358\n"
          ],
          "name": "stdout"
        }
      ]
    },
    {
      "metadata": {
        "id": "5WrU4Tbu49vV",
        "colab_type": "code",
        "colab": {}
      },
      "cell_type": "code",
      "source": [
        "#Getting features\n",
        "features = bow.get_feature_names()"
      ],
      "execution_count": 0,
      "outputs": []
    },
    {
      "metadata": {
        "id": "MXP6T3NL5T5G",
        "colab_type": "code",
        "outputId": "c17295b8-3910-4dee-bb25-e63ee4f1191b",
        "colab": {
          "base_uri": "https://localhost:8080/",
          "height": 69
        }
      },
      "cell_type": "code",
      "source": [
        "#Using argsort to sort in order\n",
        "Sort=per_chang.argsort()\n",
        "k=Sort[0][-15:]\n",
        "print(b)\n",
        "array=[]\n",
        "for i in k:\n",
        "  array.append(features[i])\n",
        "print(\"Top collinear features\",array)"
      ],
      "execution_count": 0,
      "outputs": [
        {
          "output_type": "stream",
          "text": [
            "[29219 29831  3389 12114  7240 12050  1276 32846 16703 36235  1801 32545\n",
            " 23734 31666 16294]\n",
            "Top collinear features ['nigh', 'unnamed', 'sludgy', 'incremental', 'artificail', 'dusts', 'sorting', 'felines', 'delayed', 'worchestershire', 'educating', 'rouge', 'vienne', 'lethargy', 'supppose']\n"
          ],
          "name": "stdout"
        }
      ]
    },
    {
      "metadata": {
        "id": "SxJEPMCKOSlc",
        "colab_type": "text"
      },
      "cell_type": "markdown",
      "source": [
        "## [5.1.1.1] Calculating sparsity on weight vector obtained using L1 regularization on BOW, SET **1**"
      ]
    },
    {
      "metadata": {
        "id": "o5vSmo37Nndj",
        "colab_type": "code",
        "outputId": "d401fcd0-d225-4da8-a07f-8d4b14deac2e",
        "colab": {
          "base_uri": "https://localhost:8080/",
          "height": 34
        }
      },
      "cell_type": "code",
      "source": [
        "# More Sparsity (Fewer elements of W* being non-zero) by increasing Lambda (decreasing C) \n",
        "\n",
        "import numpy as np\n",
        "\n",
        "clf = LogisticRegression(C=0.1, penalty='l1');\n",
        "clf.fit(X_bowtr, Y_train);\n",
        "w = clf.coef_\n",
        "print(np.count_nonzero(w))"
      ],
      "execution_count": 0,
      "outputs": [
        {
          "output_type": "stream",
          "text": [
            "500\n"
          ],
          "name": "stdout"
        }
      ]
    },
    {
      "metadata": {
        "id": "UJlsRgRxNng3",
        "colab_type": "code",
        "outputId": "19897374-5e21-4c01-a340-24702f74b1c8",
        "colab": {
          "base_uri": "https://localhost:8080/",
          "height": 34
        }
      },
      "cell_type": "code",
      "source": [
        "# More Sparsity (Fewer elements of W* being non-zero) by increasing Lambda (decreasing C) \n",
        "\n",
        "import numpy as np\n",
        "\n",
        "clf = LogisticRegression(C=0.01, penalty='l1');\n",
        "clf.fit(X_bowtr, Y_train);\n",
        "w = clf.coef_\n",
        "print(np.count_nonzero(w))"
      ],
      "execution_count": 0,
      "outputs": [
        {
          "output_type": "stream",
          "text": [
            "47\n"
          ],
          "name": "stdout"
        }
      ]
    },
    {
      "metadata": {
        "id": "9FeMW7eXmzKg",
        "colab_type": "code",
        "outputId": "f15a768c-3af7-4834-cb7f-8aa79d13853b",
        "colab": {
          "base_uri": "https://localhost:8080/",
          "height": 34
        }
      },
      "cell_type": "code",
      "source": [
        "# More Sparsity (Fewer elements of W* being non-zero) by increasing Lambda (decreasing C) \n",
        "\n",
        "import numpy as np\n",
        "\n",
        "clf = LogisticRegression(C=0.001, penalty='l1');\n",
        "clf.fit(X_bowtr, Y_train);\n",
        "w = clf.coef_\n",
        "print(np.count_nonzero(w))"
      ],
      "execution_count": 0,
      "outputs": [
        {
          "output_type": "stream",
          "text": [
            "1\n"
          ],
          "name": "stdout"
        }
      ]
    },
    {
      "metadata": {
        "id": "wa0GVFZWTFm2",
        "colab_type": "text"
      },
      "cell_type": "markdown",
      "source": [
        "# **[5.1.3] Feature Importance on BOW, SET 1"
      ]
    },
    {
      "metadata": {
        "id": "MGT7awRKq537",
        "colab_type": "code",
        "colab": {}
      },
      "cell_type": "code",
      "source": [
        "features = bow.get_feature_names()"
      ],
      "execution_count": 0,
      "outputs": []
    },
    {
      "metadata": {
        "id": "5wtK2lvUq8JM",
        "colab_type": "code",
        "colab": {}
      },
      "cell_type": "code",
      "source": [
        "# Taken from https://stackoverflow.com/questions/11116697/how-to-get-most-informative-features-for-scikit-learn-classifiers\n",
        "\n",
        "def informative_features(bow, clfl2, n= 10):\n",
        "    feature_names = features\n",
        "    coefs_with_fns = sorted(zip(clfl2.coef_[0], feature_names))\n",
        "    top = zip(coefs_with_fns[:(n + 1): -1], coefs_with_fns[:n])\n",
        "    print(\"\\t\\tPositive\\t\\t\\t\\t\\tNegative\")\n",
        "    print(\"_________________________________________________________________________________ \\n\")\n",
        "    for (coef_1, fn_2), (coef_2, fn_1) in top:\n",
        "        print(\"\\t%.4f\\t%-15s\\t\\t\\t\\t%.4f\\t%-15s\" % (coef_1, fn_2, coef_2, fn_1))"
      ],
      "execution_count": 0,
      "outputs": []
    },
    {
      "metadata": {
        "id": "l1J6s_hRqZQe",
        "colab_type": "code",
        "outputId": "8e0ef192-79e8-4921-fc61-fe51fb062ebf",
        "colab": {
          "base_uri": "https://localhost:8080/",
          "height": 242
        }
      },
      "cell_type": "code",
      "source": [
        "\n",
        "informative_features(X_bowtr,clfb)"
      ],
      "execution_count": 0,
      "outputs": [
        {
          "output_type": "stream",
          "text": [
            "\t\tPositive\t\t\t\t\tNegative\n",
            "_________________________________________________________________________________ \n",
            "\n",
            "\t20.9632\teasiest        \t\t\t\t-18.4795\tintelligensia  \n",
            "\t19.4423\tbasics         \t\t\t\t-16.1921\takmak          \n",
            "\t18.9696\touches         \t\t\t\t-15.1593\tfusili         \n",
            "\t18.4974\tnuked          \t\t\t\t-13.8958\tdoctored       \n",
            "\t18.4689\tpinto          \t\t\t\t-13.8146\trenbur         \n",
            "\t14.4623\tstraightforward\t\t\t\t-12.4296\trecourse       \n",
            "\t14.3259\tridder         \t\t\t\t-11.8417\trepresents     \n",
            "\t13.0659\tmonster        \t\t\t\t-11.6669\tfilmy          \n",
            "\t12.1875\tdownside       \t\t\t\t-11.1082\tdh             \n",
            "\t11.9827\taddiction      \t\t\t\t-10.7242\tgroupon        \n"
          ],
          "name": "stdout"
        }
      ]
    },
    {
      "metadata": {
        "id": "yz3hqayrUUeh",
        "colab_type": "code",
        "outputId": "9c12c360-536b-4e0d-fc5a-57c324e02169",
        "colab": {
          "base_uri": "https://localhost:8080/",
          "height": 173
        }
      },
      "cell_type": "code",
      "source": [
        "### Used code from https://blancas.io/sklearn-evaluation/api/plot.html\n",
        "from sklearn.metrics import classification_report\n",
        "y_true, y_pred = Y_test, clfb.predict(X_bowts)\n",
        "print(classification_report(y_true, y_pred))"
      ],
      "execution_count": 0,
      "outputs": [
        {
          "output_type": "stream",
          "text": [
            "              precision    recall  f1-score   support\n",
            "\n",
            "           0       0.65      0.68      0.66      4101\n",
            "           1       0.94      0.93      0.94     22299\n",
            "\n",
            "   micro avg       0.89      0.89      0.89     26400\n",
            "   macro avg       0.80      0.80      0.80     26400\n",
            "weighted avg       0.89      0.89      0.89     26400\n",
            "\n"
          ],
          "name": "stdout"
        }
      ]
    },
    {
      "metadata": {
        "id": "TtWqibqfLPos",
        "colab_type": "text"
      },
      "cell_type": "markdown",
      "source": [
        "## [4.4.1] Converting text into vectors using Avg W2V, TFIDF-W2V"
      ]
    },
    {
      "metadata": {
        "id": "JriP5nZCLPot",
        "colab_type": "text"
      },
      "cell_type": "markdown",
      "source": [
        "#### [4.4.1.1] Avg W2v"
      ]
    },
    {
      "metadata": {
        "id": "9rQmWk1KnO_J",
        "colab_type": "code",
        "outputId": "8594e699-f1bb-494e-b9ec-a598d5af4d50",
        "colab": {
          "base_uri": "https://localhost:8080/",
          "height": 52
        }
      },
      "cell_type": "code",
      "source": [
        "# X_train, X_test, y_train, y_test = train_test_split(X, Y, test_size=0.33, shuffle=Flase): this is for time series split\n",
        "X_train, X_test, Y_train, Y_test = train_test_split(X, Y, test_size=0.33) # this is random splitting\n",
        "\n",
        "\n",
        "\n",
        "print(X_train.shape, Y_train.shape)\n",
        "\n",
        "print(X_test.shape, Y_test.shape)"
      ],
      "execution_count": 52,
      "outputs": [
        {
          "output_type": "stream",
          "text": [
            "(60300,) (60300,)\n",
            "(29700,) (29700,)\n"
          ],
          "name": "stdout"
        }
      ]
    },
    {
      "metadata": {
        "id": "UrV2LQOC_gtr",
        "colab_type": "code",
        "colab": {}
      },
      "cell_type": "code",
      "source": [
        "# Training for Xtrain\n",
        "i=0\n",
        "list_of_sent=[]\n",
        "for sent in X_train.values:\n",
        "    list_of_sent.append(sent.split())"
      ],
      "execution_count": 0,
      "outputs": []
    },
    {
      "metadata": {
        "id": "s0uygQmY_gzL",
        "colab_type": "code",
        "colab": {}
      },
      "cell_type": "code",
      "source": [
        "# min_count = 5 considers only words that occured atleast 5 times\n",
        "w2v_model=Word2Vec(list_of_sent,min_count=5,size=50, workers=4)"
      ],
      "execution_count": 0,
      "outputs": []
    },
    {
      "metadata": {
        "id": "hfcfcD5UAC2h",
        "colab_type": "code",
        "outputId": "0a781ac7-1009-4377-86ff-4fca99985369",
        "colab": {
          "base_uri": "https://localhost:8080/",
          "height": 72
        }
      },
      "cell_type": "code",
      "source": [
        "w2v_words = list(w2v_model.wv.vocab)\n",
        "print(\"number of words that occured minimum 5 times \",len(w2v_words))\n",
        "print(\"sample words \", w2v_words[0:50])"
      ],
      "execution_count": 55,
      "outputs": [
        {
          "output_type": "stream",
          "text": [
            "number of words that occured minimum 5 times  15007\n",
            "sample words  ['bought', 'cow', 'ears', 'labrador', 'retriever', 'lower', 'calorie', 'fat', 'alternative', 'compared', 'pig', 'dog', 'loves', 'larger', 'others', 'not', 'huge', 'majority', 'good', 'sized', 'may', 'big', 'ones', 'get', 'pet', 'store', 'pay', 'think', 'price', 'excellent', 'looking', 'change', 'teas', 'must', 'say', 'welcomed', 'hot', 'cocoa', 'fan', 'husband', 'new', 'orleans', 'community', 'coffee', 'choice', 'louisiana', 'locals', 'rich', 'without', 'bitter']\n"
          ],
          "name": "stdout"
        }
      ]
    },
    {
      "metadata": {
        "id": "kVIvf8G3ADF5",
        "colab_type": "code",
        "outputId": "7ea00aea-ad08-464b-e00f-b445abb44ba1",
        "colab": {
          "base_uri": "https://localhost:8080/",
          "height": 52
        }
      },
      "cell_type": "code",
      "source": [
        "# average Word2Vec\n",
        "# compute average word2vec for each review.\n",
        "sent_vectors_tr = []; # the avg-w2v for each sentence/review is stored in this list\n",
        "for sent in tqdm(list_of_sent): # for each review/sentence\n",
        "    sent_vec = np.zeros(50) # as word vectors are of zero length\n",
        "    cnt_words =0; # num of words with a valid vector in the sentence/review\n",
        "    for word in sent: # for each word in a review/sentence\n",
        "        if word in w2v_words:\n",
        "            vec = w2v_model.wv[word]\n",
        "            sent_vec += vec\n",
        "            cnt_words += 1\n",
        "    if cnt_words != 0:\n",
        "        sent_vec /= cnt_words\n",
        "    sent_vectors_tr.append(sent_vec)\n",
        "print(len(sent_vectors_tr))\n",
        "#print(len(sent_vectors_tr[0]))"
      ],
      "execution_count": 56,
      "outputs": [
        {
          "output_type": "stream",
          "text": [
            "100%|██████████| 60300/60300 [03:49<00:00, 532.50it/s]"
          ],
          "name": "stderr"
        },
        {
          "output_type": "stream",
          "text": [
            "60300\n"
          ],
          "name": "stdout"
        },
        {
          "output_type": "stream",
          "text": [
            "\n"
          ],
          "name": "stderr"
        }
      ]
    },
    {
      "metadata": {
        "id": "egTzIc1n9Dgu",
        "colab_type": "code",
        "colab": {}
      },
      "cell_type": "code",
      "source": [
        "from sklearn import preprocessing\n",
        "Xavg=preprocessing.normalize(sent_vectors_tr)"
      ],
      "execution_count": 0,
      "outputs": []
    },
    {
      "metadata": {
        "id": "h9rSma-r0ZB7",
        "colab_type": "code",
        "outputId": "793e2f3f-dd27-4d03-a7db-66afe2a0e4d8",
        "colab": {
          "base_uri": "https://localhost:8080/",
          "height": 34
        }
      },
      "cell_type": "code",
      "source": [
        "print(Xavg.shape)"
      ],
      "execution_count": 58,
      "outputs": [
        {
          "output_type": "stream",
          "text": [
            "(60300, 50)\n"
          ],
          "name": "stdout"
        }
      ]
    },
    {
      "metadata": {
        "id": "httkLJ2iAJaB",
        "colab_type": "code",
        "colab": {}
      },
      "cell_type": "code",
      "source": [
        "# Training for Xtrain\n",
        "i=0\n",
        "list_of_sent_ts=[]\n",
        "for sent in X_test.values:\n",
        "   list_of_sent_ts.append(sent.split())"
      ],
      "execution_count": 0,
      "outputs": []
    },
    {
      "metadata": {
        "id": "N1pvj69CAJiq",
        "colab_type": "code",
        "colab": {}
      },
      "cell_type": "code",
      "source": [
        "# min_count = 5 considers only words that occured atleast 5 times\n",
        "w2v_model_ts=Word2Vec(list_of_sent_ts,min_count=5,size=50, workers=4)"
      ],
      "execution_count": 0,
      "outputs": []
    },
    {
      "metadata": {
        "id": "1fdWJVYkAJf8",
        "colab_type": "code",
        "outputId": "3d1894ff-8f49-44a5-f8d1-34aa73a6f0a2",
        "colab": {
          "base_uri": "https://localhost:8080/",
          "height": 72
        }
      },
      "cell_type": "code",
      "source": [
        "w2v_words = list(w2v_model.wv.vocab)\n",
        "print(\"number of words that occured minimum 5 times \",len(w2v_words))\n",
        "print(\"sample words \", w2v_words[0:50])"
      ],
      "execution_count": 61,
      "outputs": [
        {
          "output_type": "stream",
          "text": [
            "number of words that occured minimum 5 times  15007\n",
            "sample words  ['bought', 'cow', 'ears', 'labrador', 'retriever', 'lower', 'calorie', 'fat', 'alternative', 'compared', 'pig', 'dog', 'loves', 'larger', 'others', 'not', 'huge', 'majority', 'good', 'sized', 'may', 'big', 'ones', 'get', 'pet', 'store', 'pay', 'think', 'price', 'excellent', 'looking', 'change', 'teas', 'must', 'say', 'welcomed', 'hot', 'cocoa', 'fan', 'husband', 'new', 'orleans', 'community', 'coffee', 'choice', 'louisiana', 'locals', 'rich', 'without', 'bitter']\n"
          ],
          "name": "stdout"
        }
      ]
    },
    {
      "metadata": {
        "id": "UnXI9NHTLPot",
        "colab_type": "code",
        "outputId": "bd3c6a04-58aa-45ba-88a5-17a98682a732",
        "colab": {
          "base_uri": "https://localhost:8080/",
          "height": 69
        }
      },
      "cell_type": "code",
      "source": [
        "# average Word2Vec\n",
        "# compute average word2vec for each review.\n",
        "sent_vectors = []; # the avg-w2v for each sentence/review is stored in this list\n",
        "for sent in tqdm(list_of_sent_ts): # for each review/sentence\n",
        "    sent_vec = np.zeros(50) # as word vectors are of zero length\n",
        "    cnt_words =0; # num of words with a valid vector in the sentence/review\n",
        "    for word in sent: # for each word in a review/sentence\n",
        "        if word in w2v_words:\n",
        "            vec = w2v_model.wv[word]\n",
        "            sent_vec += vec\n",
        "            cnt_words += 1\n",
        "    if cnt_words != 0:\n",
        "        sent_vec /= cnt_words\n",
        "    sent_vectors.append(sent_vec)\n",
        "print(len(sent_vectors))\n",
        "print(len(sent_vectors[0]))"
      ],
      "execution_count": 62,
      "outputs": [
        {
          "output_type": "stream",
          "text": [
            "100%|██████████| 29700/29700 [00:57<00:00, 513.11it/s]"
          ],
          "name": "stderr"
        },
        {
          "output_type": "stream",
          "text": [
            "29700\n",
            "50\n"
          ],
          "name": "stdout"
        },
        {
          "output_type": "stream",
          "text": [
            "\n"
          ],
          "name": "stderr"
        }
      ]
    },
    {
      "metadata": {
        "id": "R83E3L8RfJLg",
        "colab_type": "code",
        "colab": {}
      },
      "cell_type": "code",
      "source": [
        "#Xtsavg=sent_vectors_ts\n",
        "Xtsavg = preprocessing.normalize(sent_vectors)"
      ],
      "execution_count": 0,
      "outputs": []
    },
    {
      "metadata": {
        "id": "Qmba2u6Z4BMP",
        "colab_type": "code",
        "outputId": "14eb73da-4f81-4eb8-88e7-e8f0f5ba04d1",
        "colab": {
          "base_uri": "https://localhost:8080/",
          "height": 34
        }
      },
      "cell_type": "code",
      "source": [
        "print(Xtsavg.shape)"
      ],
      "execution_count": 64,
      "outputs": [
        {
          "output_type": "stream",
          "text": [
            "(29700, 50)\n"
          ],
          "name": "stdout"
        }
      ]
    },
    {
      "metadata": {
        "id": "2sHfb529LPow",
        "colab_type": "text"
      },
      "cell_type": "markdown",
      "source": [
        "#### [4.4.1.2] TFIDF weighted W2v"
      ]
    },
    {
      "metadata": {
        "id": "YvdBTvDhxb42",
        "colab_type": "code",
        "colab": {}
      },
      "cell_type": "code",
      "source": [
        "# Training for Xtrain\n",
        "i=0\n",
        "list_of_sent=[]\n",
        "for sent in X_train.values:\n",
        "    list_of_sent.append(sent.split())"
      ],
      "execution_count": 0,
      "outputs": []
    },
    {
      "metadata": {
        "id": "cIQheO5gxhQz",
        "colab_type": "code",
        "colab": {}
      },
      "cell_type": "code",
      "source": [
        "# min_count = 5 considers only words that occured atleast 5 times\n",
        "w2v_model=Word2Vec(list_of_sent,min_count=5,size=50, workers=4)"
      ],
      "execution_count": 0,
      "outputs": []
    },
    {
      "metadata": {
        "id": "oR9EDtpyxnhs",
        "colab_type": "code",
        "outputId": "5064a4d9-5c90-4557-8fd7-7542c9120383",
        "colab": {
          "base_uri": "https://localhost:8080/",
          "height": 72
        }
      },
      "cell_type": "code",
      "source": [
        "w2v_words = list(w2v_model.wv.vocab)\n",
        "print(\"number of words that occured minimum 5 times \",len(w2v_words))\n",
        "print(\"sample words \", w2v_words[0:50])"
      ],
      "execution_count": 67,
      "outputs": [
        {
          "output_type": "stream",
          "text": [
            "number of words that occured minimum 5 times  15007\n",
            "sample words  ['bought', 'cow', 'ears', 'labrador', 'retriever', 'lower', 'calorie', 'fat', 'alternative', 'compared', 'pig', 'dog', 'loves', 'larger', 'others', 'not', 'huge', 'majority', 'good', 'sized', 'may', 'big', 'ones', 'get', 'pet', 'store', 'pay', 'think', 'price', 'excellent', 'looking', 'change', 'teas', 'must', 'say', 'welcomed', 'hot', 'cocoa', 'fan', 'husband', 'new', 'orleans', 'community', 'coffee', 'choice', 'louisiana', 'locals', 'rich', 'without', 'bitter']\n"
          ],
          "name": "stdout"
        }
      ]
    },
    {
      "metadata": {
        "id": "klmiL7RjxKdl",
        "colab_type": "code",
        "colab": {}
      },
      "cell_type": "code",
      "source": [
        "# S = [\"abc def pqr\", \"def def def abc\", \"pqr pqr def\"]\n",
        "model = TfidfVectorizer()\n",
        "tf_idf_matrix = model.fit_transform(X_train)\n",
        "# we are converting a dictionary with word as a key, and the idf as a value\n",
        "dictionary = dict(zip(model.get_feature_names(), list(model.idf_)))"
      ],
      "execution_count": 0,
      "outputs": []
    },
    {
      "metadata": {
        "id": "hj8jrqo8xKnJ",
        "colab_type": "code",
        "outputId": "d77b9a10-ba9d-46db-916e-871a22c03a38",
        "colab": {
          "base_uri": "https://localhost:8080/",
          "height": 34
        }
      },
      "cell_type": "code",
      "source": [
        "# TF-IDF weighted Word2Vec\n",
        "tfidf_feat = model.get_feature_names() # tfidf words/col-names\n",
        "# final_tf_idf is the sparse matrix with row= sentence, col=word and cell_val = tfidf\n",
        "\n",
        "tfidf_sent_vectors = []; # the tfidf-w2v for each sentence/review is stored in this list\n",
        "row=0;\n",
        "for sent in tqdm(list_of_sent): # for each review/sentence \n",
        "    sent_vec = np.zeros(50) # as word vectors are of zero length\n",
        "    weight_sum =0; # num of words with a valid vector in the sentence/review\n",
        "    for word in sent: # for each word in a review/sentence\n",
        "        if word in w2v_words and word in tfidf_feat:\n",
        "            vec = w2v_model.wv[word]\n",
        "#             tf_idf = tf_idf_matrix[row, tfidf_feat.index(word)]\n",
        "            # to reduce the computation we are \n",
        "            # dictionary[word] = idf value of word in whole courpus\n",
        "            # sent.count(word) = tf valeus of word in this review\n",
        "            tf_idf = dictionary[word]*(sent.count(word)/len(sent))\n",
        "            sent_vec += (vec * tf_idf)\n",
        "            weight_sum += tf_idf\n",
        "    if weight_sum != 0:\n",
        "        sent_vec /= weight_sum\n",
        "    tfidf_sent_vectors.append(sent_vec)\n",
        "    row += 1"
      ],
      "execution_count": 69,
      "outputs": [
        {
          "output_type": "stream",
          "text": [
            "100%|██████████| 60300/60300 [28:40<00:00, 35.06it/s]\n"
          ],
          "name": "stderr"
        }
      ]
    },
    {
      "metadata": {
        "id": "0S1Zg9wH5p59",
        "colab_type": "code",
        "colab": {}
      },
      "cell_type": "code",
      "source": [
        "from sklearn import preprocessing\n",
        "xtfidf = preprocessing.normalize(tfidf_sent_vectors)\n",
        "#print(tfidf_sent_vectors.shape)"
      ],
      "execution_count": 0,
      "outputs": []
    },
    {
      "metadata": {
        "id": "Lq2IUfdxxKYo",
        "colab_type": "code",
        "colab": {}
      },
      "cell_type": "code",
      "source": [
        "# Training for Xtest\n",
        "i=0\n",
        "list_of_sent_ts=[]\n",
        "for sent in X_test.values:\n",
        "   list_of_sent_ts.append(sent.split())"
      ],
      "execution_count": 0,
      "outputs": []
    },
    {
      "metadata": {
        "id": "FJn9r2a642uW",
        "colab_type": "code",
        "colab": {}
      },
      "cell_type": "code",
      "source": [
        "# min_count = 5 considers only words that occured atleast 5 times\n",
        "w2v_model_ts=Word2Vec(list_of_sent_ts,min_count=5,size=50, workers=4)"
      ],
      "execution_count": 0,
      "outputs": []
    },
    {
      "metadata": {
        "id": "lYvOcHlA42qn",
        "colab_type": "code",
        "outputId": "92b2778b-4007-43c5-83a2-4077c3de8b0c",
        "colab": {
          "base_uri": "https://localhost:8080/",
          "height": 72
        }
      },
      "cell_type": "code",
      "source": [
        "w2v_words = list(w2v_model.wv.vocab)\n",
        "print(\"number of words that occured minimum 5 times \",len(w2v_words))\n",
        "print(\"sample words \", w2v_words[0:50])"
      ],
      "execution_count": 73,
      "outputs": [
        {
          "output_type": "stream",
          "text": [
            "number of words that occured minimum 5 times  15007\n",
            "sample words  ['bought', 'cow', 'ears', 'labrador', 'retriever', 'lower', 'calorie', 'fat', 'alternative', 'compared', 'pig', 'dog', 'loves', 'larger', 'others', 'not', 'huge', 'majority', 'good', 'sized', 'may', 'big', 'ones', 'get', 'pet', 'store', 'pay', 'think', 'price', 'excellent', 'looking', 'change', 'teas', 'must', 'say', 'welcomed', 'hot', 'cocoa', 'fan', 'husband', 'new', 'orleans', 'community', 'coffee', 'choice', 'louisiana', 'locals', 'rich', 'without', 'bitter']\n"
          ],
          "name": "stdout"
        }
      ]
    },
    {
      "metadata": {
        "id": "wFLRKJjz42lJ",
        "colab_type": "code",
        "outputId": "ed4d4252-7ec8-47dd-858e-8a93393e6092",
        "colab": {
          "base_uri": "https://localhost:8080/",
          "height": 34
        }
      },
      "cell_type": "code",
      "source": [
        "# TF-IDF weighted Word2Vec\n",
        "tfidf_feat = model.get_feature_names() # tfidf words/col-names\n",
        "# final_tf_idf is the sparse matrix with row= sentence, col=word and cell_val = tfidf\n",
        "\n",
        "tfidf_sent_vectorsts = []; # the tfidf-w2v for each sentence/review is stored in this list\n",
        "row=0;\n",
        "for sent in tqdm(list_of_sent_ts): # for each review/sentence \n",
        "    sent_vec = np.zeros(50) # as word vectors are of zero length\n",
        "    weight_sum =0; # num of words with a valid vector in the sentence/review\n",
        "    for word in sent: # for each word in a review/sentence\n",
        "        if word in w2v_words and word in tfidf_feat:\n",
        "            vec = w2v_model.wv[word]\n",
        "#             tf_idf = tf_idf_matrix[row, tfidf_feat.index(word)]\n",
        "            # to reduce the computation we are \n",
        "            # dictionary[word] = idf value of word in whole courpus\n",
        "            # sent.count(word) = tf valeus of word in this review\n",
        "            tf_idf = dictionary[word]*(sent.count(word)/len(sent))\n",
        "            sent_vec += (vec * tf_idf)\n",
        "            weight_sum += tf_idf\n",
        "    if weight_sum != 0:\n",
        "        sent_vec /= weight_sum\n",
        "    tfidf_sent_vectorsts.append(sent_vec)\n",
        "    row += 1"
      ],
      "execution_count": 74,
      "outputs": [
        {
          "output_type": "stream",
          "text": [
            "100%|██████████| 29700/29700 [14:03<00:00, 35.17it/s]\n"
          ],
          "name": "stderr"
        }
      ]
    },
    {
      "metadata": {
        "id": "zwnnPnWi5o1_",
        "colab_type": "code",
        "colab": {}
      },
      "cell_type": "code",
      "source": [
        "xtstfidf = preprocessing.normalize(tfidf_sent_vectorsts)"
      ],
      "execution_count": 0,
      "outputs": []
    },
    {
      "metadata": {
        "id": "CXy67jBI5ox4",
        "colab_type": "code",
        "colab": {}
      },
      "cell_type": "code",
      "source": [
        ""
      ],
      "execution_count": 0,
      "outputs": []
    },
    {
      "metadata": {
        "id": "-eLZbBxM5ou2",
        "colab_type": "code",
        "colab": {}
      },
      "cell_type": "code",
      "source": [
        ""
      ],
      "execution_count": 0,
      "outputs": []
    },
    {
      "metadata": {
        "id": "wWbBEICa5ofK",
        "colab_type": "code",
        "colab": {}
      },
      "cell_type": "code",
      "source": [
        ""
      ],
      "execution_count": 0,
      "outputs": []
    },
    {
      "metadata": {
        "id": "Kxx72u1hLPo1",
        "colab_type": "text"
      },
      "cell_type": "markdown",
      "source": [
        "# [5] Assignment 5: Apply Logistic Regression"
      ]
    },
    {
      "metadata": {
        "id": "KDR9We0oLPo2",
        "colab_type": "text"
      },
      "cell_type": "markdown",
      "source": [
        "<ol>\n",
        "    <li><strong>Apply Logistic Regression on these feature sets</strong>\n",
        "        <ul>\n",
        "            <li><font color='red'>SET 1:</font>Review text, preprocessed one converted into vectors using (BOW)</li>\n",
        "            <li><font color='red'>SET 2:</font>Review text, preprocessed one converted into vectors using (TFIDF)</li>\n",
        "            <li><font color='red'>SET 3:</font>Review text, preprocessed one converted into vectors using (AVG W2v)</li>\n",
        "            <li><font color='red'>SET 4:</font>Review text, preprocessed one converted into vectors using (TFIDF W2v)</li>\n",
        "        </ul>\n",
        "    </li>\n",
        "    <br>\n",
        "    <li><strong>Hyper paramter tuning (find best hyper parameters corresponding the algorithm that you choose)</strong>\n",
        "        <ul>\n",
        "    <li>Find the best hyper parameter which will give the maximum <a href='https://www.appliedaicourse.com/course/applied-ai-course-online/lessons/receiver-operating-characteristic-curve-roc-curve-and-auc-1/'>AUC</a> value</li>\n",
        "    <li>Find the best hyper paramter using k-fold cross validation or simple cross validation data</li>\n",
        "    <li>Use gridsearch cv or randomsearch cv or you can also write your own for loops to do this task of hyperparameter tuning</li>          \n",
        "        </ul>\n",
        "    </li>\n",
        "    <br>\n",
        "    <li><strong>Pertubation Test</strong>\n",
        "        <ul>\n",
        "    <li>Get the weights W after fit your model with the data X i.e Train data.</li>\n",
        "    <li>Add a noise to the X (X' = X + e) and get the new data set X' (if X is a sparse\n",
        "matrix, X.data+=e)</li>\n",
        "    <li>Fit the model again on data X' and get the weights W'</li>\n",
        "    <li>Add a small eps value(to eliminate the divisible by zero error) to W and W’ i.e\n",
        "W=W+10^-6 and W’ = W’+10^-6</li>\n",
        "    <li>Now find the % change between W and W' (| (W-W') / (W) |)*100)</li>\n",
        "    <li>Calculate the 0th, 10th, 20th, 30th, ...100th percentiles, and observe any sudden rise in the values of percentage_change_vector</li>\n",
        "    <li> Ex: consider your 99th percentile is 1.3 and your 100th percentiles are 34.6, there is sudden rise from 1.3 to 34.6, now calculate the 99.1, 99.2, 99.3,..., 100th percentile values and get the proper value after which there is sudden rise the values, assume it is 2.5</li>\n",
        "            <li> Print the feature names whose % change is more than a threshold x(in our example it's 2.5)</li>\n",
        "        </ul>\n",
        "    </li>\n",
        "    <br>\n",
        "    <li><strong>Sparsity</strong>\n",
        "        <ul>\n",
        "    <li>Calculate sparsity on weight vector obtained after using L1 regularization</li>\n",
        "        </ul>\n",
        "    </li>\n",
        "    <br><font color='red'>NOTE: Do sparsity and multicollinearity for any one of the vectorizers. Bow or tf-idf is recommended.</font>\n",
        "    <br>\n",
        "    <br>\n",
        "    <li><strong>Feature importance</strong>\n",
        "        <ul>\n",
        "    <li>Get top 10 important features for both positive and negative classes separately.</li>\n",
        "        </ul>\n",
        "    </li>\n",
        "    <br>\n",
        "    <li><strong>Feature engineering</strong>\n",
        "        <ul>\n",
        "    <li>To increase the performance of your model, you can also experiment with with feature engineering like :</li>\n",
        "            <ul>\n",
        "            <li>Taking length of reviews as another feature.</li>\n",
        "            <li>Considering some features from review summary as well.</li>\n",
        "        </ul>\n",
        "        </ul>\n",
        "    </li>\n",
        "    <br>\n",
        "    <li><strong>Representation of results</strong>\n",
        "        <ul>\n",
        "    <li>You need to plot the performance of model both on train data and cross validation data for each hyper parameter, like shown in the figure.\n",
        "    <img src='train_cv_auc.JPG' width=300px></li>\n",
        "    <li>Once after you found the best hyper parameter, you need to train your model with it, and find the AUC on test data and plot the ROC curve on both train and test.\n",
        "    <img src='train_test_auc.JPG' width=300px></li>\n",
        "    <li>Along with plotting ROC curve, you need to print the <a href='https://www.appliedaicourse.com/course/applied-ai-course-online/lessons/confusion-matrix-tpr-fpr-fnr-tnr-1/'>confusion matrix</a> with predicted and original labels of test data points. Please visualize your confusion matrices using <a href='https://seaborn.pydata.org/generated/seaborn.heatmap.html'>seaborn heatmaps.\n",
        "    <img src='confusion_matrix.png' width=300px></li>\n",
        "        </ul>\n",
        "    </li>\n",
        "    <br>\n",
        "    <li><strong>Conclusion</strong>\n",
        "        <ul>\n",
        "    <li>You need to summarize the results at the end of the notebook, summarize it in the table format. To print out a table please refer to this prettytable library<a href='http://zetcode.com/python/prettytable/'>  link</a> \n",
        "        <img src='summary.JPG' width=400px>\n",
        "    </li>\n",
        "        </ul>\n",
        "</ol>"
      ]
    },
    {
      "metadata": {
        "id": "gilb-DOVLPo2",
        "colab_type": "text"
      },
      "cell_type": "markdown",
      "source": [
        "<h4><font color='red'>Note: Data Leakage</font></h4>\n",
        "\n",
        "1. There will be an issue of data-leakage if you vectorize the entire data and then split it into train/cv/test.\n",
        "2. To avoid the issue of data-leakag, make sure to split your data first and then vectorize it. \n",
        "3. While vectorizing your data, apply the method fit_transform() on you train data, and apply the method transform() on cv/test data.\n",
        "4. For more details please go through this <a href='https://soundcloud.com/applied-ai-course/leakage-bow-and-tfidf'>link.</a>"
      ]
    },
    {
      "metadata": {
        "id": "jiYocvSHLPo4",
        "colab_type": "text"
      },
      "cell_type": "markdown",
      "source": [
        "# Applying Logistic Regression"
      ]
    },
    {
      "metadata": {
        "id": "nKn3VXcZLPpN",
        "colab_type": "text"
      },
      "cell_type": "markdown",
      "source": [
        "## [5.2] Logistic Regression on TFIDF,<font color='red'> SET 2</font>"
      ]
    },
    {
      "metadata": {
        "id": "naTBSzm6LPpN",
        "colab_type": "text"
      },
      "cell_type": "markdown",
      "source": [
        "### [5.2.1] Applying Logistic Regression with L1 regularization on TFIDF,<font color='red'> SET 2</font>"
      ]
    },
    {
      "metadata": {
        "id": "PEhaagXXLPpS",
        "colab_type": "code",
        "colab": {}
      },
      "cell_type": "code",
      "source": [
        "# Please write all the code with proper documentation"
      ],
      "execution_count": 0,
      "outputs": []
    },
    {
      "metadata": {
        "id": "p8I9xKUpWnij",
        "colab_type": "code",
        "outputId": "c15c66b6-d804-4a52-fca6-afb82006ba66",
        "colab": {
          "base_uri": "https://localhost:8080/",
          "height": 34
        }
      },
      "cell_type": "code",
      "source": [
        "tf_idf_vect = TfidfVectorizer(ngram_range=(1,2))\n",
        "X_tftr = tf_idf_vect.fit_transform(X_train)\n",
        "X_tftr.shape"
      ],
      "execution_count": 76,
      "outputs": [
        {
          "output_type": "execute_result",
          "data": {
            "text/plain": [
              "(60300, 1089121)"
            ]
          },
          "metadata": {
            "tags": []
          },
          "execution_count": 76
        }
      ]
    },
    {
      "metadata": {
        "id": "TFkWBNBIWnfT",
        "colab_type": "code",
        "outputId": "5a081def-cf96-4fd2-d08b-008bfac5ebcf",
        "colab": {
          "base_uri": "https://localhost:8080/",
          "height": 34
        }
      },
      "cell_type": "code",
      "source": [
        "# Convert test text data to its vectorizor\n",
        "X_tfts = tf_idf_vect.transform(X_test)\n",
        "X_tfts.shape"
      ],
      "execution_count": 77,
      "outputs": [
        {
          "output_type": "execute_result",
          "data": {
            "text/plain": [
              "(29700, 1089121)"
            ]
          },
          "metadata": {
            "tags": []
          },
          "execution_count": 77
        }
      ]
    },
    {
      "metadata": {
        "id": "2zYuiI080uHD",
        "colab_type": "code",
        "outputId": "6f243a62-17c6-451e-edba-907117dc2735",
        "colab": {
          "base_uri": "https://localhost:8080/",
          "height": 34
        }
      },
      "cell_type": "code",
      "source": [
        "# Convert test text data to its vectorizor\n",
        "X_tfcv = tf_idf_vect.transform(X_cv)\n",
        "X_tfcv.shape"
      ],
      "execution_count": 78,
      "outputs": [
        {
          "output_type": "execute_result",
          "data": {
            "text/plain": [
              "(19899, 1089121)"
            ]
          },
          "metadata": {
            "tags": []
          },
          "execution_count": 78
        }
      ]
    },
    {
      "metadata": {
        "id": "IPzNDd9wbIOp",
        "colab_type": "code",
        "outputId": "b8ca30d7-6a3d-40bc-df9c-4131cdf7e070",
        "colab": {
          "base_uri": "https://localhost:8080/",
          "height": 121
        }
      },
      "cell_type": "code",
      "source": [
        "#Using CalibratedClassifierCV with cv=5\n",
        "from sklearn.calibration import CalibratedClassifierCV\n",
        "from sklearn.linear_model import LogisticRegression\n",
        "from sklearn.metrics import brier_score_loss\n",
        "clf3 = LogisticRegression(C= 10, penalty= 'l1')\n",
        "clf3.fit(X_tftr,Y_train)\n",
        "\n",
        "m3 = CalibratedClassifierCV(clf3 ,  cv=5, method='sigmoid')\n",
        "m3.fit(X_tftr, Y_train)\n",
        "prob_pos_sigm = m3.predict_proba(X_tfts)[2:, 1]\n",
        "print(prob_pos_sigm[1])\n",
        "\n",
        "print(\"Best parameters: \", m3.get_params)\n",
        "\n",
        "\n",
        "\n"
      ],
      "execution_count": 79,
      "outputs": [
        {
          "output_type": "stream",
          "text": [
            "0.9997069008197059\n",
            "Best parameters:  <bound method BaseEstimator.get_params of CalibratedClassifierCV(base_estimator=LogisticRegression(C=10, class_weight=None, dual=False, fit_intercept=True,\n",
            "          intercept_scaling=1, max_iter=100, multi_class='warn',\n",
            "          n_jobs=None, penalty='l1', random_state=None, solver='warn',\n",
            "          tol=0.0001, verbose=0, warm_start=False),\n",
            "            cv=5, method='sigmoid')>\n"
          ],
          "name": "stdout"
        }
      ]
    },
    {
      "metadata": {
        "id": "GriRI9dCL-Jp",
        "colab_type": "code",
        "outputId": "e640268b-66cf-41ee-df6d-38c05c5f9190",
        "colab": {
          "base_uri": "https://localhost:8080/",
          "height": 34
        }
      },
      "cell_type": "code",
      "source": [
        "print(\"Accuracy on test set: %0.3f%%\"%(accuracy_score(Y_test, clf3.predict(X_tfts))*100))"
      ],
      "execution_count": 80,
      "outputs": [
        {
          "output_type": "stream",
          "text": [
            "Accuracy on test set: 93.061%\n"
          ],
          "name": "stdout"
        }
      ]
    },
    {
      "metadata": {
        "id": "4BqWTJ0ub8lY",
        "colab_type": "code",
        "outputId": "f9d151f9-0c79-4d56-c988-f7628dcbc806",
        "colab": {
          "base_uri": "https://localhost:8080/",
          "height": 294
        }
      },
      "cell_type": "code",
      "source": [
        "from sklearn.calibration import calibration_curve\n",
        "from matplotlib import pyplot\n",
        "# predict probabilities\n",
        "probs = m3.predict_proba(X_tfts)[:, 1]\n",
        "# reliability diagram\n",
        "fop, mpv = calibration_curve(Y_test, probs, n_bins=10, normalize=True)\n",
        "# plot perfectly calibrated\n",
        "pyplot.plot([0, 1], [0, 1], linestyle='--')\n",
        "# plot calibrated reliability\n",
        "pyplot.title(\"Calibration curve\")\n",
        "plt.xlabel('Predicted prob ')\n",
        "plt.ylabel('Actual prob')\n",
        "pyplot.plot(mpv, fop, marker='.')\n",
        "pyplot.show()"
      ],
      "execution_count": 119,
      "outputs": [
        {
          "output_type": "display_data",
          "data": {
            "image/png": "[encoded data removed]",
            "text/plain": [
              "<Figure size 432x288 with 1 Axes>"
            ]
          },
          "metadata": {
            "tags": []
          }
        }
      ]
    },
    {
      "metadata": {
        "id": "h_5E4wlS1TTG",
        "colab_type": "code",
        "outputId": "1356146f-3b7a-42b6-807a-9de139e2ca2a",
        "colab": {
          "base_uri": "https://localhost:8080/",
          "height": 416
        }
      },
      "cell_type": "code",
      "source": [
        "train_fpr, train_tpr, thresholds = roc_curve(Y_train, m3.predict_proba(X_tftr)[:,1])\n",
        "test_fpr, test_tpr, thresholds = roc_curve(Y_test, m3.predict_proba(X_tfts)[:,1])\n",
        "\n",
        "plt.plot(train_fpr, train_tpr, label=\"train AUC =\"+str(auc(train_fpr, train_tpr)))\n",
        "plt.plot(test_fpr, test_tpr, label=\"train AUC =\"+str(auc(test_fpr, test_tpr)))\n",
        "plt.legend()\n",
        "plt.xlabel(\"Alpha\")\n",
        "plt.ylabel(\"AUC\")\n",
        "plt.title(\"ERROR PLOTS\")\n",
        "plt.show()\n",
        "\n",
        "print(\"=\"*100)\n",
        "\n",
        "from sklearn.metrics import confusion_matrix\n",
        "print(\"Train confusion matrix\")\n",
        "print(confusion_matrix(Y_train, m3.predict(X_tftr)))\n",
        "print(\"Test confusion matrix\")\n",
        "print(confusion_matrix(Y_test, m3.predict(X_tfts)))"
      ],
      "execution_count": 82,
      "outputs": [
        {
          "output_type": "display_data",
          "data": {
            "image/png": "[encoded data removed]",
            "text/plain": [
              "<Figure size 432x288 with 1 Axes>"
            ]
          },
          "metadata": {
            "tags": []
          }
        },
        {
          "output_type": "stream",
          "text": [
            "====================================================================================================\n",
            "Train confusion matrix\n",
            "[[ 8648   817]\n",
            " [  126 50709]]\n",
            "Test confusion matrix\n",
            "[[ 3408  1199]\n",
            " [  784 24309]]\n"
          ],
          "name": "stdout"
        }
      ]
    },
    {
      "metadata": {
        "id": "5w0zlql7uWSz",
        "colab_type": "text"
      },
      "cell_type": "markdown",
      "source": [
        "Test AUC is 0.958"
      ]
    },
    {
      "metadata": {
        "id": "MzdxJ99IRNK-",
        "colab_type": "code",
        "outputId": "d2d54dbd-34af-4253-9e16-42e73b66baba",
        "colab": {
          "base_uri": "https://localhost:8080/",
          "height": 52
        }
      },
      "cell_type": "code",
      "source": [
        "# Confusion Matrix\n",
        "from sklearn.metrics import confusion_matrix\n",
        "cm3 = confusion_matrix(Y_test,m3.predict(X_tfts))\n",
        "cm3"
      ],
      "execution_count": 83,
      "outputs": [
        {
          "output_type": "execute_result",
          "data": {
            "text/plain": [
              "array([[ 3408,  1199],\n",
              "       [  784, 24309]])"
            ]
          },
          "metadata": {
            "tags": []
          },
          "execution_count": 83
        }
      ]
    },
    {
      "metadata": {
        "id": "TDPzMd7FRNHS",
        "colab_type": "code",
        "outputId": "854d2fb6-8063-4825-d1bb-52cc3987c04f",
        "colab": {
          "base_uri": "https://localhost:8080/",
          "height": 294
        }
      },
      "cell_type": "code",
      "source": [
        "# plot confusion matrix to describe the performance of classifier.\n",
        "import seaborn as sns\n",
        "class_label = [\"negative\", \"positive\"]\n",
        "df_cm = pd.DataFrame(cm3, index = class_label, columns = class_label)\n",
        "sns.heatmap(df_cm, annot = True, fmt = \"d\")\n",
        "plt.title(\"Confusiion Matrix\")\n",
        "plt.xlabel(\"Predicted Label\")\n",
        "plt.ylabel(\"True Label\")\n",
        "plt.show()"
      ],
      "execution_count": 84,
      "outputs": [
        {
          "output_type": "display_data",
          "data": {
            "image/png": "[encoded data removed]",
            "text/plain": [
              "<Figure size 432x288 with 2 Axes>"
            ]
          },
          "metadata": {
            "tags": []
          }
        }
      ]
    },
    {
      "metadata": {
        "id": "Ub7VEnReRM7p",
        "colab_type": "code",
        "colab": {}
      },
      "cell_type": "code",
      "source": [
        ""
      ],
      "execution_count": 0,
      "outputs": []
    },
    {
      "metadata": {
        "id": "NdFShHQJLPpV",
        "colab_type": "text"
      },
      "cell_type": "markdown",
      "source": [
        "### [5.2.2] Applying Logistic Regression with L2 regularization on TFIDF,<font color='red'> SET 2</font>"
      ]
    },
    {
      "metadata": {
        "id": "Jyhq3JDzLPpW",
        "colab_type": "code",
        "colab": {}
      },
      "cell_type": "code",
      "source": [
        "# Please write all the code with proper documentation"
      ],
      "execution_count": 0,
      "outputs": []
    },
    {
      "metadata": {
        "id": "vE3YDNqF_ROz",
        "colab_type": "code",
        "outputId": "81f432c8-81aa-4aa5-cc2e-0205370df06f",
        "colab": {
          "base_uri": "https://localhost:8080/",
          "height": 121
        }
      },
      "cell_type": "code",
      "source": [
        "#Using CalibratedClassifierCV with cv=5\n",
        "from sklearn.calibration import CalibratedClassifierCV\n",
        "from sklearn.linear_model import LogisticRegression\n",
        "from sklearn.metrics import brier_score_loss\n",
        "clf4 = LogisticRegression(C= 10, penalty= 'l2')\n",
        "clf4.fit(X_tftr,Y_train)\n",
        "\n",
        "m4 = CalibratedClassifierCV(clf4 ,  cv=5, method='sigmoid')\n",
        "m4.fit(X_tftr, Y_train)\n",
        "prob_pos_sigm = m4.predict_proba(X_tfts)[2:, 1]\n",
        "print(prob_pos_sigm[1])\n",
        "\n",
        "print(\"Best parameters: \", m4.get_params)\n",
        "\n"
      ],
      "execution_count": 85,
      "outputs": [
        {
          "output_type": "stream",
          "text": [
            "0.9950452526915005\n",
            "Best parameters:  <bound method BaseEstimator.get_params of CalibratedClassifierCV(base_estimator=LogisticRegression(C=10, class_weight=None, dual=False, fit_intercept=True,\n",
            "          intercept_scaling=1, max_iter=100, multi_class='warn',\n",
            "          n_jobs=None, penalty='l2', random_state=None, solver='warn',\n",
            "          tol=0.0001, verbose=0, warm_start=False),\n",
            "            cv=5, method='sigmoid')>\n"
          ],
          "name": "stdout"
        }
      ]
    },
    {
      "metadata": {
        "id": "8fbTIXkoPyGp",
        "colab_type": "code",
        "outputId": "af6ec82f-cd09-41bf-82fe-c382d9ea43b4",
        "colab": {
          "base_uri": "https://localhost:8080/",
          "height": 34
        }
      },
      "cell_type": "code",
      "source": [
        "print(\"Accuracy on test set: %0.3f%%\"%(accuracy_score(Y_test, m4.predict(X_tfts))*100))"
      ],
      "execution_count": 86,
      "outputs": [
        {
          "output_type": "stream",
          "text": [
            "Accuracy on test set: 93.508%\n"
          ],
          "name": "stdout"
        }
      ]
    },
    {
      "metadata": {
        "id": "iq4y1qv8BVOk",
        "colab_type": "code",
        "outputId": "0d337e89-427f-4b87-d83a-9466883eb5c6",
        "colab": {
          "base_uri": "https://localhost:8080/",
          "height": 294
        }
      },
      "cell_type": "code",
      "source": [
        "from sklearn.calibration import calibration_curve\n",
        "from matplotlib import pyplot\n",
        "# predict probabilities\n",
        "probs = m4.predict_proba(X_tfts)[:, 1]\n",
        "# reliability diagram\n",
        "fop, mpv = calibration_curve(Y_test, probs, n_bins=10, normalize=True)\n",
        "# plot perfectly calibrated\n",
        "pyplot.plot([0, 1], [0, 1], linestyle='--')\n",
        "# plot calibrated reliability\n",
        "pyplot.plot(mpv, fop, marker='.')\n",
        "pyplot.title(\"Calibration curve\")\n",
        "plt.xlabel('Predicted prob ')\n",
        "plt.ylabel('Actual prob')\n",
        "pyplot.show()"
      ],
      "execution_count": 118,
      "outputs": [
        {
          "output_type": "display_data",
          "data": {
            "image/png": "[encoded data removed]",
            "text/plain": [
              "<Figure size 432x288 with 1 Axes>"
            ]
          },
          "metadata": {
            "tags": []
          }
        }
      ]
    },
    {
      "metadata": {
        "id": "RFkEIwH82UMM",
        "colab_type": "code",
        "outputId": "2295b4ac-ccf6-4977-a829-0d9bb58bd237",
        "colab": {
          "base_uri": "https://localhost:8080/",
          "height": 416
        }
      },
      "cell_type": "code",
      "source": [
        "train_fpr, train_tpr, thresholds = roc_curve(Y_train, m4.predict_proba(X_tftr)[:,1])\n",
        "test_fpr, test_tpr, thresholds = roc_curve(Y_test, m4.predict_proba(X_tfts)[:,1])\n",
        "\n",
        "plt.plot(train_fpr, train_tpr, label=\"train AUC =\"+str(auc(train_fpr, train_tpr)))\n",
        "plt.plot(test_fpr, test_tpr, label=\"train AUC =\"+str(auc(test_fpr, test_tpr)))\n",
        "plt.legend()\n",
        "plt.xlabel(\"Alpha\")\n",
        "plt.ylabel(\"AUC\")\n",
        "plt.title(\"ERROR PLOTS\")\n",
        "plt.show()\n",
        "\n",
        "print(\"=\"*100)\n",
        "\n",
        "from sklearn.metrics import confusion_matrix\n",
        "print(\"Train confusion matrix\")\n",
        "print(confusion_matrix(Y_train, m4.predict(X_tftr)))\n",
        "print(\"Test confusion matrix\")\n",
        "print(confusion_matrix(Y_test, m4.predict(X_tfts)))"
      ],
      "execution_count": 88,
      "outputs": [
        {
          "output_type": "display_data",
          "data": {
            "image/png": "[encoded data removed]",
            "text/plain": [
              "<Figure size 432x288 with 1 Axes>"
            ]
          },
          "metadata": {
            "tags": []
          }
        },
        {
          "output_type": "stream",
          "text": [
            "====================================================================================================\n",
            "Train confusion matrix\n",
            "[[ 9429    36]\n",
            " [   97 50738]]\n",
            "Test confusion matrix\n",
            "[[ 3516  1091]\n",
            " [  837 24256]]\n"
          ],
          "name": "stdout"
        }
      ]
    },
    {
      "metadata": {
        "id": "oFgaVI0jtbd3",
        "colab_type": "text"
      },
      "cell_type": "markdown",
      "source": [
        "Auc score for test set is near to Train AUC improved model training."
      ]
    },
    {
      "metadata": {
        "id": "x8OtR3zmR4ib",
        "colab_type": "code",
        "outputId": "53300721-c3ca-4d29-9627-3f13a76adc78",
        "colab": {
          "base_uri": "https://localhost:8080/",
          "height": 52
        }
      },
      "cell_type": "code",
      "source": [
        "# Confusion Matrix\n",
        "from sklearn.metrics import confusion_matrix\n",
        "cm4 = confusion_matrix(Y_test,m4.predict(X_tfts))\n",
        "cm4"
      ],
      "execution_count": 89,
      "outputs": [
        {
          "output_type": "execute_result",
          "data": {
            "text/plain": [
              "array([[ 3516,  1091],\n",
              "       [  837, 24256]])"
            ]
          },
          "metadata": {
            "tags": []
          },
          "execution_count": 89
        }
      ]
    },
    {
      "metadata": {
        "id": "3me8bV7rR4qO",
        "colab_type": "code",
        "outputId": "7bb21a7c-9e92-4481-b5b1-98327f05ae27",
        "colab": {
          "base_uri": "https://localhost:8080/",
          "height": 294
        }
      },
      "cell_type": "code",
      "source": [
        "# plot confusion matrix to describe the performance of classifier.\n",
        "import seaborn as sns\n",
        "class_label = [\"negative\", \"positive\"]\n",
        "df_cm = pd.DataFrame(cm4, index = class_label, columns = class_label)\n",
        "sns.heatmap(df_cm, annot = True, fmt = \"d\")\n",
        "plt.title(\"Confusiion Matrix\")\n",
        "plt.xlabel(\"Predicted Label\")\n",
        "plt.ylabel(\"True Label\")\n",
        "plt.show()"
      ],
      "execution_count": 90,
      "outputs": [
        {
          "output_type": "display_data",
          "data": {
            "image/png": "[encoded data removed]",
            "text/plain": [
              "<Figure size 432x288 with 2 Axes>"
            ]
          },
          "metadata": {
            "tags": []
          }
        }
      ]
    },
    {
      "metadata": {
        "id": "xeeJ8eVvLPpX",
        "colab_type": "text"
      },
      "cell_type": "markdown",
      "source": [
        "### [5.2.3] Feature Importance on TFIDF,<font color='red'> SET 2</font>"
      ]
    },
    {
      "metadata": {
        "id": "ZPZY-JFZqc3R",
        "colab_type": "code",
        "colab": {}
      },
      "cell_type": "code",
      "source": [
        "feat = tf_idf_vect.get_feature_names()"
      ],
      "execution_count": 0,
      "outputs": []
    },
    {
      "metadata": {
        "id": "yvvoGxnOpw7P",
        "colab_type": "code",
        "colab": {}
      },
      "cell_type": "code",
      "source": [
        "#https://stackoverflow.com/questions/11116697/how-to-get-most-informative-features-for-scikit-learn-classifiers\n",
        "def show_most_informative_features(tf_idf_vect, clf4, n= 10):\n",
        "    feature_names = feat\n",
        "    coefs_with_fns = sorted(zip(clf4.coef_[0], feature_names))\n",
        "    top = zip(coefs_with_fns[:(n + 1): -1], coefs_with_fns[:n])\n",
        "    print(\"\\t\\tPositive\\t\\t\\t\\t\\tNegative\")\n",
        "    print(\"_________________________________________________________________________________ \\n\")\n",
        "    for (coef_1, fn_2), (coef_2, fn_1) in top:\n",
        "        print(\"\\t%.4f\\t%-15s\\t\\t\\t\\t%.4f\\t%-15s\" % (coef_1, fn_2, coef_2, fn_1))"
      ],
      "execution_count": 0,
      "outputs": []
    },
    {
      "metadata": {
        "id": "3YJBi-bCrHGV",
        "colab_type": "code",
        "outputId": "42568e13-01cb-45a4-b972-ca48fb6c6b72",
        "colab": {
          "base_uri": "https://localhost:8080/",
          "height": 242
        }
      },
      "cell_type": "code",
      "source": [
        "show_most_informative_features(tf_idf_vect, clf4)"
      ],
      "execution_count": 93,
      "outputs": [
        {
          "output_type": "stream",
          "text": [
            "\t\tPositive\t\t\t\t\tNegative\n",
            "_________________________________________________________________________________ \n",
            "\n",
            "\t22.2916\tgreat          \t\t\t\t-16.7640\tdisappointed   \n",
            "\t16.8111\tdelicious      \t\t\t\t-14.6569\tworst          \n",
            "\t16.4957\tbest           \t\t\t\t-13.7557\tawful          \n",
            "\t14.7796\tperfect        \t\t\t\t-13.6748\tnot worth      \n",
            "\t14.2071\tgood           \t\t\t\t-13.3984\tdisappointing  \n",
            "\t12.8695\tlove           \t\t\t\t-13.3439\tterrible       \n",
            "\t12.6072\tloves          \t\t\t\t-13.2498\tnot            \n",
            "\t12.4443\texcellent      \t\t\t\t-13.1705\tnot recommend  \n",
            "\t12.4157\twonderful      \t\t\t\t-11.7275\tdisappointment \n",
            "\t11.2895\tnot disappointed\t\t\t\t-11.2892\tnot good       \n"
          ],
          "name": "stdout"
        }
      ]
    },
    {
      "metadata": {
        "id": "sqYadGOgLPpi",
        "colab_type": "text"
      },
      "cell_type": "markdown",
      "source": [
        "## [5.3] Logistic Regression on AVG W2V,<font color='red'> SET 3</font>"
      ]
    },
    {
      "metadata": {
        "id": "kByBCEA1LPpj",
        "colab_type": "text"
      },
      "cell_type": "markdown",
      "source": [
        "### [5.3.1] Applying Logistic Regression with L1 regularization on AVG W2V<font color='red'> SET 3</font>"
      ]
    },
    {
      "metadata": {
        "id": "yCQ_4iJkLPpj",
        "colab_type": "code",
        "colab": {}
      },
      "cell_type": "code",
      "source": [
        "# Please write all the code with proper documentation"
      ],
      "execution_count": 0,
      "outputs": []
    },
    {
      "metadata": {
        "id": "XxxusT1sCnM_",
        "colab_type": "code",
        "outputId": "2c4060a6-a155-4384-bd06-f1a94852d9b2",
        "colab": {
          "base_uri": "https://localhost:8080/",
          "height": 121
        }
      },
      "cell_type": "code",
      "source": [
        "#Using CalibratedClassifierCV with cv=5\n",
        "from sklearn.calibration import CalibratedClassifierCV\n",
        "from sklearn.linear_model import LogisticRegression\n",
        "from sklearn.metrics import brier_score_loss\n",
        "clf5 = LogisticRegression(C= 50, penalty= 'l1')\n",
        "clf5.fit(Xavg,Y_train)\n",
        "\n",
        "m5= CalibratedClassifierCV(clf5,  cv=25, method='sigmoid')\n",
        "m5.fit(Xavg, Y_train)\n",
        "prob_pos_sigm = m5.predict_proba(Xtsavg)[2:, 1]\n",
        "print(prob_pos_sigm[1])\n",
        "\n",
        "print(\"Best parameters: \",  m5.get_params)\n",
        "\n",
        "\n",
        "\n"
      ],
      "execution_count": 94,
      "outputs": [
        {
          "output_type": "stream",
          "text": [
            "0.9012701518746694\n",
            "Best parameters:  <bound method BaseEstimator.get_params of CalibratedClassifierCV(base_estimator=LogisticRegression(C=50, class_weight=None, dual=False, fit_intercept=True,\n",
            "          intercept_scaling=1, max_iter=100, multi_class='warn',\n",
            "          n_jobs=None, penalty='l1', random_state=None, solver='warn',\n",
            "          tol=0.0001, verbose=0, warm_start=False),\n",
            "            cv=25, method='sigmoid')>\n"
          ],
          "name": "stdout"
        }
      ]
    },
    {
      "metadata": {
        "id": "gnNST_jlM3AV",
        "colab_type": "code",
        "outputId": "3c0a7839-5ad8-42e3-e39e-c1f5e39c74f7",
        "colab": {
          "base_uri": "https://localhost:8080/",
          "height": 34
        }
      },
      "cell_type": "code",
      "source": [
        "print(\"Accuracy on test set: %0.3f%%\"%(accuracy_score(Y_test,clf5.predict(Xtsavg))*100))"
      ],
      "execution_count": 95,
      "outputs": [
        {
          "output_type": "stream",
          "text": [
            "Accuracy on test set: 89.293%\n"
          ],
          "name": "stdout"
        }
      ]
    },
    {
      "metadata": {
        "id": "gJm4i2SgiGrS",
        "colab_type": "code",
        "outputId": "472b7e97-45d3-4dc2-8c42-7b5356e6b437",
        "colab": {
          "base_uri": "https://localhost:8080/",
          "height": 312
        }
      },
      "cell_type": "code",
      "source": [
        "from sklearn.calibration import calibration_curve\n",
        "from matplotlib import pyplot\n",
        "# predict probabilities\n",
        "probs1 = clf5.predict_proba(Xtsavg)[:, 1]\n",
        "# reliability diagram\n",
        "fop, mpv = calibration_curve(Y_test, probs1, n_bins=10, normalize=True)\n",
        "# plot perfectly calibrated\n",
        "pyplot.plot([0, 1], [0, 1], linestyle='--')\n",
        "# plot calibrated reliability\n",
        "pyplot.plot(mpv, fop, marker='.')\n",
        "pyplot.title(\"Calibration curve\")\n",
        "plt.xlabel('Predicted prob ')\n",
        "plt.ylabel('Actual prob')\n",
        "pyplot.show()\n",
        "print(probs1)\n"
      ],
      "execution_count": 120,
      "outputs": [
        {
          "output_type": "display_data",
          "data": {
            "image/png": "[encoded data removed]",
            "text/plain": [
              "<Figure size 432x288 with 1 Axes>"
            ]
          },
          "metadata": {
            "tags": []
          }
        },
        {
          "output_type": "stream",
          "text": [
            "[0.99527653 0.99485349 0.48081203 ... 0.91172653 0.93646202 0.90819177]\n"
          ],
          "name": "stdout"
        }
      ]
    },
    {
      "metadata": {
        "id": "SaGWZrHM3H7L",
        "colab_type": "code",
        "outputId": "760973bc-517c-47e5-c07c-7ab1fb003603",
        "colab": {
          "base_uri": "https://localhost:8080/",
          "height": 416
        }
      },
      "cell_type": "code",
      "source": [
        "train_fpr, train_tpr, thresholds = roc_curve(Y_train, m5.predict_proba(Xavg)[:,1])\n",
        "test_fpr, test_tpr, thresholds = roc_curve(Y_test, m5.predict_proba(Xtsavg)[:,1])\n",
        "\n",
        "plt.plot(train_fpr, train_tpr, label=\"train AUC =\"+str(auc(train_fpr, train_tpr)))\n",
        "plt.plot(test_fpr, test_tpr, label=\"train AUC =\"+str(auc(test_fpr, test_tpr)))\n",
        "plt.legend()\n",
        "plt.xlabel(\"Alpha\")\n",
        "plt.ylabel(\"AUC\")\n",
        "plt.title(\"ERROR PLOTS\")\n",
        "plt.show()\n",
        "\n",
        "print(\"=\"*100)\n",
        "\n",
        "from sklearn.metrics import confusion_matrix\n",
        "print(\"Train confusion matrix\")\n",
        "print(confusion_matrix(Y_train, m5.predict(Xavg)))\n",
        "print(\"Test confusion matrix\")\n",
        "print(confusion_matrix(Y_test, m5.predict(Xtsavg)))"
      ],
      "execution_count": 97,
      "outputs": [
        {
          "output_type": "display_data",
          "data": {
            "image/png": "[encoded data removed]",
            "text/plain": [
              "<Figure size 432x288 with 1 Axes>"
            ]
          },
          "metadata": {
            "tags": []
          }
        },
        {
          "output_type": "stream",
          "text": [
            "====================================================================================================\n",
            "Train confusion matrix\n",
            "[[ 4759  4706]\n",
            " [ 1783 49052]]\n",
            "Test confusion matrix\n",
            "[[ 2332  2275]\n",
            " [  901 24192]]\n"
          ],
          "name": "stdout"
        }
      ]
    },
    {
      "metadata": {
        "id": "Orlv0i41sWJl",
        "colab_type": "text"
      },
      "cell_type": "markdown",
      "source": [
        "Test AUC score is pimprovised over training."
      ]
    },
    {
      "metadata": {
        "id": "K9tcOrtxTAnE",
        "colab_type": "code",
        "outputId": "ebbaf6c9-9c6e-432d-e0e3-f8f87ef56ce4",
        "colab": {
          "base_uri": "https://localhost:8080/",
          "height": 52
        }
      },
      "cell_type": "code",
      "source": [
        "# Confusion Matrix\n",
        "from sklearn.metrics import confusion_matrix\n",
        "cm5 = confusion_matrix(Y_test,m5.predict(Xtsavg))\n",
        "cm5"
      ],
      "execution_count": 98,
      "outputs": [
        {
          "output_type": "execute_result",
          "data": {
            "text/plain": [
              "array([[ 2332,  2275],\n",
              "       [  901, 24192]])"
            ]
          },
          "metadata": {
            "tags": []
          },
          "execution_count": 98
        }
      ]
    },
    {
      "metadata": {
        "id": "4Q7nW-_KTArH",
        "colab_type": "code",
        "outputId": "c9c689aa-228c-469f-b28b-017592777538",
        "colab": {
          "base_uri": "https://localhost:8080/",
          "height": 294
        }
      },
      "cell_type": "code",
      "source": [
        "# plot confusion matrix to describe the performance of classifier.\n",
        "import seaborn as sns\n",
        "class_label = [\"negative\", \"positive\"]\n",
        "df_cm = pd.DataFrame(cm5, index = class_label, columns = class_label)\n",
        "sns.heatmap(df_cm, annot = True, fmt = \"d\")\n",
        "plt.title(\"Confusiion Matrix\")\n",
        "plt.xlabel(\"Predicted Label\")\n",
        "plt.ylabel(\"True Label\")\n",
        "plt.show()"
      ],
      "execution_count": 99,
      "outputs": [
        {
          "output_type": "display_data",
          "data": {
            "image/png": "[encoded data removed]",
            "text/plain": [
              "<Figure size 432x288 with 2 Axes>"
            ]
          },
          "metadata": {
            "tags": []
          }
        }
      ]
    },
    {
      "metadata": {
        "id": "O_8Gu2SfLPpn",
        "colab_type": "text"
      },
      "cell_type": "markdown",
      "source": [
        "### [5.3.2] Applying Logistic Regression with L2 regularization on AVG W2V,<font color='red'> SET 3</font>"
      ]
    },
    {
      "metadata": {
        "id": "Zy3s4jk1LPpn",
        "colab_type": "code",
        "colab": {}
      },
      "cell_type": "code",
      "source": [
        "# Please write all the code with proper documentation"
      ],
      "execution_count": 0,
      "outputs": []
    },
    {
      "metadata": {
        "id": "9Q5FoizOhVnf",
        "colab_type": "code",
        "outputId": "8eb6b2ee-f718-45e6-c304-318384378ba2",
        "colab": {
          "base_uri": "https://localhost:8080/",
          "height": 121
        }
      },
      "cell_type": "code",
      "source": [
        "#Using CalibratedClassifierCV with cv=5\n",
        "from sklearn.calibration import CalibratedClassifierCV\n",
        "from sklearn.linear_model import LogisticRegression\n",
        "from sklearn.metrics import brier_score_loss\n",
        "clf6 = LogisticRegression(C= 75, penalty= 'l2')\n",
        "clf6.fit(Xavg,Y_train)\n",
        "\n",
        "m6 = CalibratedClassifierCV(clf6 ,  cv=50, method='sigmoid')\n",
        "m6.fit(Xavg, Y_train)\n",
        "prob_pos_sigm = m6.predict_proba(Xtsavg)[2:, 1]\n",
        "print(prob_pos_sigm[1])\n",
        "\n",
        "print(\"Best parameters: \", m6.get_params)\n",
        "\n",
        "\n",
        "\n"
      ],
      "execution_count": 100,
      "outputs": [
        {
          "output_type": "stream",
          "text": [
            "0.9005254640752572\n",
            "Best parameters:  <bound method BaseEstimator.get_params of CalibratedClassifierCV(base_estimator=LogisticRegression(C=75, class_weight=None, dual=False, fit_intercept=True,\n",
            "          intercept_scaling=1, max_iter=100, multi_class='warn',\n",
            "          n_jobs=None, penalty='l2', random_state=None, solver='warn',\n",
            "          tol=0.0001, verbose=0, warm_start=False),\n",
            "            cv=50, method='sigmoid')>\n"
          ],
          "name": "stdout"
        }
      ]
    },
    {
      "metadata": {
        "id": "uP35w1GEM-LX",
        "colab_type": "code",
        "outputId": "f810394a-1d1f-435a-f3f8-708751940773",
        "colab": {
          "base_uri": "https://localhost:8080/",
          "height": 34
        }
      },
      "cell_type": "code",
      "source": [
        "print(\"Accuracy on test set: %0.3f%%\"%(accuracy_score(Y_test,clf6.predict(Xtsavg))*100))"
      ],
      "execution_count": 101,
      "outputs": [
        {
          "output_type": "stream",
          "text": [
            "Accuracy on test set: 89.293%\n"
          ],
          "name": "stdout"
        }
      ]
    },
    {
      "metadata": {
        "id": "NKZoKB_tiU1W",
        "colab_type": "code",
        "outputId": "160e7e14-d283-47f2-978b-c36ff278f13d",
        "colab": {
          "base_uri": "https://localhost:8080/",
          "height": 312
        }
      },
      "cell_type": "code",
      "source": [
        "from sklearn.calibration import calibration_curve\n",
        "from matplotlib import pyplot\n",
        "# predict probabilities\n",
        "probs2 = m6.predict_proba(Xtsavg)[:, 1]\n",
        "# reliability diagram\n",
        "fop, mpv = calibration_curve(Y_test, probs2, n_bins=10, normalize=True)\n",
        "# plot perfectly calibrated\n",
        "pyplot.plot([0, 1], [0, 1], linestyle='--')\n",
        "# plot calibrated reliability\n",
        "pyplot.plot(mpv, fop, marker='.')\n",
        "pyplot.title(\"Calibration curve\")\n",
        "plt.xlabel('Predicted prob ')\n",
        "plt.ylabel('Actual prob')\n",
        "pyplot.show()\n",
        "print(probs)"
      ],
      "execution_count": 121,
      "outputs": [
        {
          "output_type": "display_data",
          "data": {
            "image/png": "[encoded data removed]",
            "text/plain": [
              "<Figure size 432x288 with 1 Axes>"
            ]
          },
          "metadata": {
            "tags": []
          }
        },
        {
          "output_type": "stream",
          "text": [
            "[0.99933527 0.9978416  0.86819428 ... 0.98761015 0.2234879  0.97166158]\n"
          ],
          "name": "stdout"
        }
      ]
    },
    {
      "metadata": {
        "id": "3uNB_dJqNEVw",
        "colab_type": "code",
        "outputId": "ed4cd268-b197-41ca-eccc-696bf95e9f6e",
        "colab": {
          "base_uri": "https://localhost:8080/",
          "height": 416
        }
      },
      "cell_type": "code",
      "source": [
        "train_fpr, train_tpr, thresholds = roc_curve(Y_train, m6.predict_proba(Xavg)[:,1])\n",
        "test_fpr, test_tpr, thresholds = roc_curve(Y_test, m6.predict_proba(Xtsavg)[:,1])\n",
        "\n",
        "plt.plot(train_fpr, train_tpr, label=\"train AUC =\"+str(auc(train_fpr, train_tpr)))\n",
        "plt.plot(test_fpr, test_tpr, label=\"test AUC =\"+str(auc(test_fpr, test_tpr)))\n",
        "plt.legend()\n",
        "plt.xlabel(\"Alpha\")\n",
        "plt.ylabel(\"AUC\")\n",
        "plt.title(\"ERROR PLOTS\")\n",
        "plt.show()\n",
        "\n",
        "print(\"=\"*100)\n",
        "\n",
        "from sklearn.metrics import confusion_matrix\n",
        "print(\"Train confusion matrix\")\n",
        "print(confusion_matrix(Y_train, m6.predict(Xavg)))\n",
        "print(\"Test confusion matrix\")\n",
        "print(confusion_matrix(Y_test, m6.predict(Xtsavg)))"
      ],
      "execution_count": 103,
      "outputs": [
        {
          "output_type": "display_data",
          "data": {
            "image/png": "[encoded data removed]",
            "text/plain": [
              "<Figure size 432x288 with 1 Axes>"
            ]
          },
          "metadata": {
            "tags": []
          }
        },
        {
          "output_type": "stream",
          "text": [
            "====================================================================================================\n",
            "Train confusion matrix\n",
            "[[ 4742  4723]\n",
            " [ 1770 49065]]\n",
            "Test confusion matrix\n",
            "[[ 2325  2282]\n",
            " [  891 24202]]\n"
          ],
          "name": "stdout"
        }
      ]
    },
    {
      "metadata": {
        "id": "Z05fme3FrjGK",
        "colab_type": "text"
      },
      "cell_type": "markdown",
      "source": [
        "Test AUC is improved with model training."
      ]
    },
    {
      "metadata": {
        "id": "OPzDDJ9dVdXF",
        "colab_type": "code",
        "outputId": "40ba3a4d-5f74-4920-f8ec-0112e85483e5",
        "colab": {
          "base_uri": "https://localhost:8080/",
          "height": 52
        }
      },
      "cell_type": "code",
      "source": [
        "# Confusion Matrix\n",
        "from sklearn.metrics import confusion_matrix\n",
        "cm6 = confusion_matrix(Y_test,m6.predict(Xtsavg))\n",
        "cm6"
      ],
      "execution_count": 104,
      "outputs": [
        {
          "output_type": "execute_result",
          "data": {
            "text/plain": [
              "array([[ 2325,  2282],\n",
              "       [  891, 24202]])"
            ]
          },
          "metadata": {
            "tags": []
          },
          "execution_count": 104
        }
      ]
    },
    {
      "metadata": {
        "id": "fK9wDtcbVdgJ",
        "colab_type": "code",
        "outputId": "2b2747ce-c8b1-4f2a-ec7f-c9ac132bf226",
        "colab": {
          "base_uri": "https://localhost:8080/",
          "height": 294
        }
      },
      "cell_type": "code",
      "source": [
        "# plot confusion matrix to describe the performance of classifier.\n",
        "import seaborn as sns\n",
        "class_label = [\"negative\", \"positive\"]\n",
        "df_cm = pd.DataFrame(cm6, index = class_label, columns = class_label)\n",
        "sns.heatmap(df_cm, annot = True, fmt = \"d\")\n",
        "plt.title(\"Confusiion Matrix\")\n",
        "plt.xlabel(\"Predicted Label\")\n",
        "plt.ylabel(\"True Label\")\n",
        "plt.show()"
      ],
      "execution_count": 105,
      "outputs": [
        {
          "output_type": "display_data",
          "data": {
            "image/png": "[encoded data removed]",
            "text/plain": [
              "<Figure size 432x288 with 2 Axes>"
            ]
          },
          "metadata": {
            "tags": []
          }
        }
      ]
    },
    {
      "metadata": {
        "id": "pdXTwVIPLPpp",
        "colab_type": "text"
      },
      "cell_type": "markdown",
      "source": [
        "## [5.4] Logistic Regression on TFIDF W2V,<font color='red'> SET 4</font>"
      ]
    },
    {
      "metadata": {
        "id": "WP9NjwNSLPpp",
        "colab_type": "text"
      },
      "cell_type": "markdown",
      "source": [
        "### [5.4.1] Applying Logistic Regression with L1 regularization on TFIDF W2V,<font color='red'> SET 4</font>"
      ]
    },
    {
      "metadata": {
        "id": "207gYymwLPpq",
        "colab_type": "code",
        "colab": {}
      },
      "cell_type": "code",
      "source": [
        "# Please write all the code with proper documentation"
      ],
      "execution_count": 0,
      "outputs": []
    },
    {
      "metadata": {
        "id": "ZgNc8ybkP5df",
        "colab_type": "code",
        "outputId": "6cdb784a-9f8a-4c59-da5f-e6f3359461a3",
        "colab": {
          "base_uri": "https://localhost:8080/",
          "height": 121
        }
      },
      "cell_type": "code",
      "source": [
        "#Using CalibratedClassifierCV with cv=5\n",
        "from sklearn.calibration import CalibratedClassifierCV\n",
        "from sklearn.linear_model import LogisticRegression\n",
        "from sklearn.metrics import brier_score_loss\n",
        "clf7 = LogisticRegression(C= 150, penalty= 'l1')\n",
        "clf7.fit(xtfidf,Y_train)\n",
        "\n",
        "m7 = CalibratedClassifierCV(clf7 ,  cv=25, method='sigmoid')\n",
        "m7.fit(xtfidf,Y_train)\n",
        "prob_pos_sigm = m7.predict_proba(xtstfidf)[2:, 1]\n",
        "print(prob_pos_sigm[1])\n",
        "\n",
        "print(\"Best parameters: \", m7.get_params)\n"
      ],
      "execution_count": 106,
      "outputs": [
        {
          "output_type": "stream",
          "text": [
            "0.8922679174158467\n",
            "Best parameters:  <bound method BaseEstimator.get_params of CalibratedClassifierCV(base_estimator=LogisticRegression(C=150, class_weight=None, dual=False, fit_intercept=True,\n",
            "          intercept_scaling=1, max_iter=100, multi_class='warn',\n",
            "          n_jobs=None, penalty='l1', random_state=None, solver='warn',\n",
            "          tol=0.0001, verbose=0, warm_start=False),\n",
            "            cv=25, method='sigmoid')>\n"
          ],
          "name": "stdout"
        }
      ]
    },
    {
      "metadata": {
        "id": "PTH1ayo4cfTr",
        "colab_type": "code",
        "colab": {
          "base_uri": "https://localhost:8080/",
          "height": 294
        },
        "outputId": "6e683f7d-9149-4413-fa6b-145489243b5d"
      },
      "cell_type": "code",
      "source": [
        "from sklearn.calibration import calibration_curve\n",
        "from matplotlib import pyplot\n",
        "# predict probabilities\n",
        "probs2 = m7.predict_proba(xtstfidf)[:, 1]\n",
        "# reliability diagram\n",
        "fop, mpv = calibration_curve(Y_test, probs2, n_bins=10, normalize=True)\n",
        "# plot perfectly calibrated\n",
        "pyplot.plot([0, 1], [0, 1], linestyle='--')\n",
        "# plot calibrated reliability\n",
        "pyplot.plot(mpv, fop, marker='.')\n",
        "pyplot.title(\"Calibration curve\")\n",
        "plt.xlabel('Predicted prob ')\n",
        "plt.ylabel('Actual prob')\n",
        "pyplot.show()\n"
      ],
      "execution_count": 123,
      "outputs": [
        {
          "output_type": "display_data",
          "data": {
            "image/png": "[encoded data removed]",
            "text/plain": [
              "<Figure size 432x288 with 1 Axes>"
            ]
          },
          "metadata": {
            "tags": []
          }
        }
      ]
    },
    {
      "metadata": {
        "id": "EU3Pm4HPP9T4",
        "colab_type": "code",
        "outputId": "7bc7fa94-43de-40d6-c3be-33b8e3bf69c2",
        "colab": {
          "base_uri": "https://localhost:8080/",
          "height": 34
        }
      },
      "cell_type": "code",
      "source": [
        "from sklearn.metrics import accuracy_score\n",
        "print(\"Accuracy on test set: %0.3f%%\"%(accuracy_score(Y_test, m7.predict(xtstfidf))*100))"
      ],
      "execution_count": 107,
      "outputs": [
        {
          "output_type": "stream",
          "text": [
            "Accuracy on test set: 87.771%\n"
          ],
          "name": "stdout"
        }
      ]
    },
    {
      "metadata": {
        "id": "02rguyO3QISL",
        "colab_type": "code",
        "outputId": "cf44fe9d-3299-478a-dc0f-94aed9a4a4ff",
        "colab": {
          "base_uri": "https://localhost:8080/",
          "height": 416
        }
      },
      "cell_type": "code",
      "source": [
        "train_fpr, train_tpr, thresholds = roc_curve(Y_train, m7.predict_proba(xtfidf)[:,1])\n",
        "test_fpr, test_tpr, thresholds = roc_curve(Y_test, m7.predict_proba(xtstfidf)[:,1])\n",
        "\n",
        "plt.plot(train_fpr, train_tpr, label=\"train AUC =\"+str(auc(train_fpr, train_tpr)))\n",
        "plt.plot(test_fpr, test_tpr, label=\"train AUC =\"+str(auc(test_fpr, test_tpr)))\n",
        "plt.legend()\n",
        "plt.xlabel(\"Alpha\")\n",
        "plt.ylabel(\"AUC\")\n",
        "plt.title(\"ERROR PLOTS\")\n",
        "plt.show()\n",
        "\n",
        "print(\"=\"*100)\n",
        "\n",
        "from sklearn.metrics import confusion_matrix\n",
        "print(\"Train confusion matrix\")\n",
        "print(confusion_matrix(Y_train, m7.predict(xtfidf)))\n",
        "print(\"Test confusion matrix\")\n",
        "print(confusion_matrix(Y_test, m7.predict(xtstfidf)))"
      ],
      "execution_count": 108,
      "outputs": [
        {
          "output_type": "display_data",
          "data": {
            "image/png": "[encoded data removed]",
            "text/plain": [
              "<Figure size 432x288 with 1 Axes>"
            ]
          },
          "metadata": {
            "tags": []
          }
        },
        {
          "output_type": "stream",
          "text": [
            "====================================================================================================\n",
            "Train confusion matrix\n",
            "[[ 3771  5694]\n",
            " [ 1638 49197]]\n",
            "Test confusion matrix\n",
            "[[ 1804  2803]\n",
            " [  829 24264]]\n"
          ],
          "name": "stdout"
        }
      ]
    },
    {
      "metadata": {
        "id": "jBsN9wNfrbJK",
        "colab_type": "text"
      },
      "cell_type": "markdown",
      "source": [
        "Test AUC is nearer to Train AUC score."
      ]
    },
    {
      "metadata": {
        "id": "PJ747QDgBi0n",
        "colab_type": "code",
        "outputId": "d75e0899-7063-46b6-a6d1-08ef2dedc7fa",
        "colab": {
          "base_uri": "https://localhost:8080/",
          "height": 52
        }
      },
      "cell_type": "code",
      "source": [
        "# Confusion Matrix\n",
        "from sklearn.metrics import confusion_matrix\n",
        "cm7 = confusion_matrix(Y_test,m7.predict(xtstfidf))\n",
        "cm7"
      ],
      "execution_count": 109,
      "outputs": [
        {
          "output_type": "execute_result",
          "data": {
            "text/plain": [
              "array([[ 1804,  2803],\n",
              "       [  829, 24264]])"
            ]
          },
          "metadata": {
            "tags": []
          },
          "execution_count": 109
        }
      ]
    },
    {
      "metadata": {
        "id": "Tgkhnxd3Bi_Q",
        "colab_type": "code",
        "outputId": "2763dd7d-2770-49d0-cebf-427c9741e580",
        "colab": {
          "base_uri": "https://localhost:8080/",
          "height": 294
        }
      },
      "cell_type": "code",
      "source": [
        "# plot confusion matrix to describe the performance of classifier.\n",
        "import seaborn as sns\n",
        "class_label = [\"negative\", \"positive\"]\n",
        "df_cm = pd.DataFrame(cm7, index = class_label, columns = class_label)\n",
        "sns.heatmap(df_cm, annot = True, fmt = \"d\")\n",
        "plt.title(\"Confusiion Matrix\")\n",
        "plt.xlabel(\"Predicted Label\")\n",
        "plt.ylabel(\"True Label\")\n",
        "plt.show()"
      ],
      "execution_count": 110,
      "outputs": [
        {
          "output_type": "display_data",
          "data": {
            "image/png": "[encoded data removed]",
            "text/plain": [
              "<Figure size 432x288 with 2 Axes>"
            ]
          },
          "metadata": {
            "tags": []
          }
        }
      ]
    },
    {
      "metadata": {
        "id": "hwckWJHwBi79",
        "colab_type": "code",
        "colab": {}
      },
      "cell_type": "code",
      "source": [
        ""
      ],
      "execution_count": 0,
      "outputs": []
    },
    {
      "metadata": {
        "id": "M0_FZTfyBivb",
        "colab_type": "code",
        "colab": {}
      },
      "cell_type": "code",
      "source": [
        ""
      ],
      "execution_count": 0,
      "outputs": []
    },
    {
      "metadata": {
        "id": "ynUK2tYDLPps",
        "colab_type": "text"
      },
      "cell_type": "markdown",
      "source": [
        "### [5.4.2] Applying Logistic Regression with L2 regularization on TFIDF W2V,<font color='red'> SET 4</font>"
      ]
    },
    {
      "metadata": {
        "id": "hVYuiXl2LPpt",
        "colab_type": "code",
        "colab": {}
      },
      "cell_type": "code",
      "source": [
        "# Please write all the code with proper documentation"
      ],
      "execution_count": 0,
      "outputs": []
    },
    {
      "metadata": {
        "id": "UFWQhqZikr-Y",
        "colab_type": "code",
        "outputId": "e7521960-8b2e-4d69-ab2c-9853fb57d688",
        "colab": {
          "base_uri": "https://localhost:8080/",
          "height": 121
        }
      },
      "cell_type": "code",
      "source": [
        "#Using CalibratedClassifierCV with cv=5\n",
        "from sklearn.calibration import CalibratedClassifierCV\n",
        "from sklearn.linear_model import LogisticRegression\n",
        "from sklearn.metrics import brier_score_loss\n",
        "clf = LogisticRegression(C= 20, penalty= 'l2')\n",
        "clf.fit(xtfidf,Y_train)\n",
        "\n",
        "m8 = CalibratedClassifierCV(clf ,  cv=250, method='sigmoid')\n",
        "m8.fit(xtfidf,Y_train)\n",
        "prob_pos_sigm = m8.predict_proba(xtstfidf)[2:, 1]\n",
        "print(prob_pos_sigm[1])\n",
        "\n",
        "print(\"Best parameters: \", m8.get_params)\n"
      ],
      "execution_count": 111,
      "outputs": [
        {
          "output_type": "stream",
          "text": [
            "0.8879020578580783\n",
            "Best parameters:  <bound method BaseEstimator.get_params of CalibratedClassifierCV(base_estimator=LogisticRegression(C=20, class_weight=None, dual=False, fit_intercept=True,\n",
            "          intercept_scaling=1, max_iter=100, multi_class='warn',\n",
            "          n_jobs=None, penalty='l2', random_state=None, solver='warn',\n",
            "          tol=0.0001, verbose=0, warm_start=False),\n",
            "            cv=250, method='sigmoid')>\n"
          ],
          "name": "stdout"
        }
      ]
    },
    {
      "metadata": {
        "id": "Zrqxrjabcrg5",
        "colab_type": "code",
        "colab": {
          "base_uri": "https://localhost:8080/",
          "height": 294
        },
        "outputId": "0b499839-50d9-4f79-87df-1067dc2260b2"
      },
      "cell_type": "code",
      "source": [
        "from sklearn.calibration import calibration_curve\n",
        "from matplotlib import pyplot\n",
        "# predict probabilities\n",
        "probs2 = m8.predict_proba(xtstfidf)[:, 1]\n",
        "# reliability diagram\n",
        "fop, mpv = calibration_curve(Y_test, probs2, n_bins=10, normalize=True)\n",
        "# plot perfectly calibrated\n",
        "pyplot.plot([0, 1], [0, 1], linestyle='--')\n",
        "# plot calibrated reliability\n",
        "pyplot.plot(mpv, fop, marker='.')\n",
        "pyplot.title(\"Calibration curve\")\n",
        "plt.xlabel('Predicted prob ')\n",
        "plt.ylabel('Actual prob')\n",
        "pyplot.show()\n"
      ],
      "execution_count": 124,
      "outputs": [
        {
          "output_type": "display_data",
          "data": {
            "image/png": "[encoded data removed]",
            "text/plain": [
              "<Figure size 432x288 with 1 Axes>"
            ]
          },
          "metadata": {
            "tags": []
          }
        }
      ]
    },
    {
      "metadata": {
        "id": "dnEvUKkJQwTN",
        "colab_type": "code",
        "outputId": "72dec913-33bb-452c-be32-75dc36f51e03",
        "colab": {
          "base_uri": "https://localhost:8080/",
          "height": 34
        }
      },
      "cell_type": "code",
      "source": [
        "from sklearn.metrics import accuracy_score\n",
        "print(\"Accuracy on test set: %0.3f%%\"%(accuracy_score(Y_test, m8.predict(xtstfidf))*100))"
      ],
      "execution_count": 112,
      "outputs": [
        {
          "output_type": "stream",
          "text": [
            "Accuracy on test set: 87.801%\n"
          ],
          "name": "stdout"
        }
      ]
    },
    {
      "metadata": {
        "id": "ibHutWRYrKNu",
        "colab_type": "code",
        "outputId": "a3cff2eb-50fd-4838-ebb2-4859941cdadc",
        "colab": {
          "base_uri": "https://localhost:8080/",
          "height": 416
        }
      },
      "cell_type": "code",
      "source": [
        "train_fpr, train_tpr, thresholds = roc_curve(Y_train, m8.predict_proba(xtfidf)[:,1])\n",
        "test_fpr, test_tpr, thresholds = roc_curve(Y_test, m8.predict_proba(xtstfidf)[:,1])\n",
        "\n",
        "plt.plot(train_fpr, train_tpr, label=\"train AUC =\"+str(auc(train_fpr, train_tpr)))\n",
        "plt.plot(test_fpr, test_tpr, label=\"train AUC =\"+str(auc(test_fpr, test_tpr)))\n",
        "plt.legend()\n",
        "plt.xlabel(\"Alpha\")\n",
        "plt.ylabel(\"AUC\")\n",
        "plt.title(\"ERROR PLOTS\")\n",
        "plt.show()\n",
        "\n",
        "print(\"=\"*100)\n",
        "\n",
        "from sklearn.metrics import confusion_matrix\n",
        "print(\"Train confusion matrix\")\n",
        "print(confusion_matrix(Y_train, m8.predict(xtfidf)))\n",
        "print(\"Test confusion matrix\")\n",
        "print(confusion_matrix(Y_test, m8.predict(xtstfidf)))"
      ],
      "execution_count": 113,
      "outputs": [
        {
          "output_type": "display_data",
          "data": {
            "image/png": "[encoded data removed]",
            "text/plain": [
              "<Figure size 432x288 with 1 Axes>"
            ]
          },
          "metadata": {
            "tags": []
          }
        },
        {
          "output_type": "stream",
          "text": [
            "====================================================================================================\n",
            "Train confusion matrix\n",
            "[[ 3666  5799]\n",
            " [ 1549 49286]]\n",
            "Test confusion matrix\n",
            "[[ 1765  2842]\n",
            " [  781 24312]]\n"
          ],
          "name": "stdout"
        }
      ]
    },
    {
      "metadata": {
        "id": "ZSuOVCgDrU5t",
        "colab_type": "text"
      },
      "cell_type": "markdown",
      "source": [
        "AUC score is close to training AUC"
      ]
    },
    {
      "metadata": {
        "id": "HrEtF5HRCCUd",
        "colab_type": "code",
        "outputId": "7f46410d-8380-4803-f4f8-b088832cd902",
        "colab": {
          "base_uri": "https://localhost:8080/",
          "height": 52
        }
      },
      "cell_type": "code",
      "source": [
        "# Confusion Matrix\n",
        "from sklearn.metrics import confusion_matrix\n",
        "cm8 = confusion_matrix(Y_test,m8.predict(xtstfidf))\n",
        "cm8"
      ],
      "execution_count": 114,
      "outputs": [
        {
          "output_type": "execute_result",
          "data": {
            "text/plain": [
              "array([[ 1765,  2842],\n",
              "       [  781, 24312]])"
            ]
          },
          "metadata": {
            "tags": []
          },
          "execution_count": 114
        }
      ]
    },
    {
      "metadata": {
        "id": "oUR1TFp0C7Z_",
        "colab_type": "code",
        "outputId": "abc41c33-3da1-4163-e836-d5a19a0293db",
        "colab": {
          "base_uri": "https://localhost:8080/",
          "height": 294
        }
      },
      "cell_type": "code",
      "source": [
        "# plot confusion matrix to describe the performance of classifier.\n",
        "import seaborn as sns\n",
        "class_label = [\"negative\", \"positive\"]\n",
        "df_cm = pd.DataFrame(cm8, index = class_label, columns = class_label)\n",
        "sns.heatmap(df_cm, annot = True, fmt = \"d\")\n",
        "plt.title(\"Confusiion Matrix\")\n",
        "plt.xlabel(\"Predicted Label\")\n",
        "plt.ylabel(\"True Label\")\n",
        "plt.show()"
      ],
      "execution_count": 115,
      "outputs": [
        {
          "output_type": "display_data",
          "data": {
            "image/png": "[encoded data removed]",
            "text/plain": [
              "<Figure size 432x288 with 2 Axes>"
            ]
          },
          "metadata": {
            "tags": []
          }
        }
      ]
    },
    {
      "metadata": {
        "id": "nOvsBNf2LPpv",
        "colab_type": "text"
      },
      "cell_type": "markdown",
      "source": [
        "# [6] Conclusions"
      ]
    },
    {
      "metadata": {
        "id": "T7VxD0q2LPpw",
        "colab_type": "code",
        "colab": {}
      },
      "cell_type": "code",
      "source": [
        "# Please compare all your models using Prettytable library"
      ],
      "execution_count": 0,
      "outputs": []
    },
    {
      "metadata": {
        "id": "xQESk6XpOYDA",
        "colab_type": "code",
        "outputId": "16136f9f-d75f-49a6-916e-402b819583d5",
        "colab": {
          "base_uri": "https://localhost:8080/",
          "height": 225
        }
      },
      "cell_type": "code",
      "source": [
        "#pretty table\n",
        "\n",
        "from prettytable import PrettyTable\n",
        "    \n",
        "p = PrettyTable()\n",
        "\n",
        "p.field_names = [\"Vectoriser model\",\"Regularisation\" , \"AUC\", ]\n",
        "\n",
        "p.add_row([\"BOW\", \"L1\", 0.91,] )\n",
        "p.add_row([\"BOW\", \"L2\", 0.90,] )\n",
        "p.add_row([\"TFIDF\",\"L1\" , 0.95,])\n",
        "p.add_row([\"TFIDF\",\"L2\",  0.96,])\n",
        "p.add_row([\"Avg Word2vec\",\"L1\" , 0.90,] )\n",
        "p.add_row([\"Avg Word2vec\",\"L2\",  0.90,] )\n",
        "p.add_row([\"Avg TFIDFW2vec\",\"L1\" , 0.87,] )\n",
        "p.add_row([\"Avg TFIDFW2vec\",\"L2\",  0.88,] )\n",
        "print(p)"
      ],
      "execution_count": 127,
      "outputs": [
        {
          "output_type": "stream",
          "text": [
            "+------------------+----------------+------+\n",
            "| Vectoriser model | Regularisation | AUC  |\n",
            "+------------------+----------------+------+\n",
            "|       BOW        |       L1       | 0.91 |\n",
            "|       BOW        |       L2       | 0.9  |\n",
            "|      TFIDF       |       L1       | 0.95 |\n",
            "|      TFIDF       |       L2       | 0.96 |\n",
            "|   Avg Word2vec   |       L1       | 0.9  |\n",
            "|   Avg Word2vec   |       L2       | 0.9  |\n",
            "|  Avg TFIDFW2vec  |       L1       | 0.87 |\n",
            "|  Avg TFIDFW2vec  |       L2       | 0.88 |\n",
            "+------------------+----------------+------+\n"
          ],
          "name": "stdout"
        }
      ]
    },
    {
      "metadata": {
        "id": "teTbeWEhwCsD",
        "colab_type": "text"
      },
      "cell_type": "markdown",
      "source": [
        "Observations\n",
        "\n",
        "*   Trained models for all vectorisers.\n",
        "*  AUC curves are plotted for all the models.\n",
        "*  Performance is improved with more number of validations.\n",
        "*  Confusiom matrix is  printed .\n",
        "* Accuracy is increasewd with L2 regularisation in most of the models.\n",
        "*  Results are represented in Pretty table.\n",
        "* Calibration curve is provided for all models.\n",
        "\n",
        "\n"
      ]
    }
  ]
}