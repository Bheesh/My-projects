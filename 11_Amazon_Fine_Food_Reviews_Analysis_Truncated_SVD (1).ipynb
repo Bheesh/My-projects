{
  "nbformat": 4,
  "nbformat_minor": 0,
  "metadata": {
    "colab": {
      "name": "11 Amazon Fine Food Reviews Analysis_Truncated SVD.ipynb",
      "version": "0.3.2",
      "provenance": [],
      "collapsed_sections": []
    },
    "kernelspec": {
      "name": "python3",
      "display_name": "Python 3"
    },
    "accelerator": "GPU"
  },
  "cells": [
    {
      "cell_type": "markdown",
      "metadata": {
        "id": "jNC8HEoBChWf",
        "colab_type": "text"
      },
      "source": [
        "# Amazon Fine Food Reviews Analysis\n",
        "\n",
        "\n",
        "Data Source: https://www.kaggle.com/snap/amazon-fine-food-reviews <br>\n",
        "\n",
        "EDA: https://nycdatascience.com/blog/student-works/amazon-fine-foods-visualization/\n",
        "\n",
        "\n",
        "The Amazon Fine Food Reviews dataset consists of reviews of fine foods from Amazon.<br>\n",
        "\n",
        "Number of reviews: 568,454<br>\n",
        "Number of users: 256,059<br>\n",
        "Number of products: 74,258<br>\n",
        "Timespan: Oct 1999 - Oct 2012<br>\n",
        "Number of Attributes/Columns in data: 10 \n",
        "\n",
        "Attribute Information:\n",
        "\n",
        "1. Id\n",
        "2. ProductId - unique identifier for the product\n",
        "3. UserId - unqiue identifier for the user\n",
        "4. ProfileName\n",
        "5. HelpfulnessNumerator - number of users who found the review helpful\n",
        "6. HelpfulnessDenominator - number of users who indicated whether they found the review helpful or not\n",
        "7. Score - rating between 1 and 5\n",
        "8. Time - timestamp for the review\n",
        "9. Summary - brief summary of the review\n",
        "10. Text - text of the review\n",
        "\n",
        "\n",
        "#### Objective:\n",
        "Given a review, determine whether the review is positive (rating of 4 or 5) or negative (rating of 1 or 2).\n",
        "\n",
        "<br>\n",
        "[Q] How to determine if a review is positive or negative?<br>\n",
        "<br> \n",
        "[Ans] We could use Score/Rating. A rating of 4 or 5 can be cosnidered as a positive review. A rating of 1 or 2 can be considered as negative one. A review of rating 3 is considered nuetral and such reviews are ignored from our analysis. This is an approximate and proxy way of determining the polarity (positivity/negativity) of a review.\n",
        "\n",
        "\n"
      ]
    },
    {
      "cell_type": "markdown",
      "metadata": {
        "id": "8wugXnjtChWj",
        "colab_type": "text"
      },
      "source": [
        "# [1]. Reading Data"
      ]
    },
    {
      "cell_type": "markdown",
      "metadata": {
        "id": "YmKFSMRoChWm",
        "colab_type": "text"
      },
      "source": [
        "## [1.1] Loading the data\n",
        "\n",
        "The dataset is available in two forms\n",
        "1. .csv file\n",
        "2. SQLite Database"
      ]
    },
    {
      "cell_type": "code",
      "metadata": {
        "id": "Q_rK3P8xChWq",
        "colab_type": "code",
        "colab": {}
      },
      "source": [
        "%matplotlib inline\n",
        "import warnings\n",
        "warnings.filterwarnings(\"ignore\")\n",
        "\n",
        "\n",
        "import sqlite3\n",
        "import pandas as pd\n",
        "import numpy as np\n",
        "import nltk\n",
        "import string\n",
        "import matplotlib.pyplot as plt\n",
        "import seaborn as sns\n",
        "from sklearn.feature_extraction.text import TfidfTransformer\n",
        "from sklearn.feature_extraction.text import TfidfVectorizer\n",
        "\n",
        "from sklearn.feature_extraction.text import CountVectorizer\n",
        "from sklearn.metrics import confusion_matrix\n",
        "from sklearn import metrics\n",
        "from sklearn.metrics import roc_curve, auc\n",
        "from nltk.stem.porter import PorterStemmer\n",
        "\n",
        "import re\n",
        "# Tutorial about Python regular expressions: https://pymotw.com/2/re/\n",
        "import string\n",
        "from nltk.corpus import stopwords\n",
        "from nltk.stem import PorterStemmer\n",
        "from nltk.stem.wordnet import WordNetLemmatizer\n",
        "\n",
        "from gensim.models import Word2Vec\n",
        "from gensim.models import KeyedVectors\n",
        "import pickle\n",
        "\n",
        "from tqdm import tqdm\n",
        "import os"
      ],
      "execution_count": 0,
      "outputs": []
    },
    {
      "cell_type": "code",
      "metadata": {
        "id": "IdNcn00Lx3Po",
        "colab_type": "code",
        "outputId": "8d266e8f-d774-43a2-b477-d7defbcfb582",
        "colab": {
          "base_uri": "https://localhost:8080/",
          "height": 124
        }
      },
      "source": [
        "import sqlite3\n",
        "from google.colab import drive\n",
        "drive.mount('/content/drive')\n",
        "con = sqlite3.connect('/content/drive/My Drive/Asgn/database.sqlite')"
      ],
      "execution_count": 0,
      "outputs": [
        {
          "output_type": "stream",
          "text": [
            "Go to this URL in a browser: https://accounts.google.com/o/oauth2/auth?client_id=947318989803-6bn6qk8qdgf4n4g3pfee6491hc0brc4i.apps.googleusercontent.com&redirect_uri=urn%3Aietf%3Awg%3Aoauth%3A2.0%3Aoob&scope=email%20https%3A%2F%2Fwww.googleapis.com%2Fauth%2Fdocs.test%20https%3A%2F%2Fwww.googleapis.com%2Fauth%2Fdrive%20https%3A%2F%2Fwww.googleapis.com%2Fauth%2Fdrive.photos.readonly%20https%3A%2F%2Fwww.googleapis.com%2Fauth%2Fpeopleapi.readonly&response_type=code\n",
            "\n",
            "Enter your authorization code:\n",
            "··········\n",
            "Mounted at /content/drive\n"
          ],
          "name": "stdout"
        }
      ]
    },
    {
      "cell_type": "code",
      "metadata": {
        "id": "qGFlKpmUChWz",
        "colab_type": "code",
        "outputId": "60ad0fe9-55c7-42cf-f930-3d80817e1969",
        "colab": {
          "base_uri": "https://localhost:8080/",
          "height": 158
        }
      },
      "source": [
        "filtered_data = pd.read_sql_query(\"\"\" SELECT * FROM Reviews WHERE Score != 3 limit 300000\"\"\", con) \n",
        "\n",
        "# Give reviews with Score>3 a positive rating(1), and reviews with a score<3 a negative rating(0).\n",
        "def partition(x):\n",
        "    if x < 3:\n",
        "        return 0\n",
        "    return 1\n",
        "\n",
        "#changing reviews with score less than 3 to be positive and vice-versa\n",
        "actualScore = filtered_data['Score']\n",
        "positiveNegative = actualScore.map(partition) \n",
        "filtered_data['Score'] = positiveNegative\n",
        "print(\"Number of data points in our data\", filtered_data.shape)\n",
        "filtered_data.head(3)"
      ],
      "execution_count": 0,
      "outputs": [
        {
          "output_type": "stream",
          "text": [
            "Number of data points in our data (300000, 10)\n"
          ],
          "name": "stdout"
        },
        {
          "output_type": "execute_result",
          "data": {
            "text/html": [
              "<div>\n",
              "<style scoped>\n",
              "    .dataframe tbody tr th:only-of-type {\n",
              "        vertical-align: middle;\n",
              "    }\n",
              "\n",
              "    .dataframe tbody tr th {\n",
              "        vertical-align: top;\n",
              "    }\n",
              "\n",
              "    .dataframe thead th {\n",
              "        text-align: right;\n",
              "    }\n",
              "</style>\n",
              "<table border=\"1\" class=\"dataframe\">\n",
              "  <thead>\n",
              "    <tr style=\"text-align: right;\">\n",
              "      <th></th>\n",
              "      <th>Id</th>\n",
              "      <th>ProductId</th>\n",
              "      <th>UserId</th>\n",
              "      <th>ProfileName</th>\n",
              "      <th>HelpfulnessNumerator</th>\n",
              "      <th>HelpfulnessDenominator</th>\n",
              "      <th>Score</th>\n",
              "      <th>Time</th>\n",
              "      <th>Summary</th>\n",
              "      <th>Text</th>\n",
              "    </tr>\n",
              "  </thead>\n",
              "  <tbody>\n",
              "    <tr>\n",
              "      <th>0</th>\n",
              "      <td>1</td>\n",
              "      <td>B001E4KFG0</td>\n",
              "      <td>A3SGXH7AUHU8GW</td>\n",
              "      <td>delmartian</td>\n",
              "      <td>1</td>\n",
              "      <td>1</td>\n",
              "      <td>1</td>\n",
              "      <td>1303862400</td>\n",
              "      <td>Good Quality Dog Food</td>\n",
              "      <td>I have bought several of the Vitality canned d...</td>\n",
              "    </tr>\n",
              "    <tr>\n",
              "      <th>1</th>\n",
              "      <td>2</td>\n",
              "      <td>B00813GRG4</td>\n",
              "      <td>A1D87F6ZCVE5NK</td>\n",
              "      <td>dll pa</td>\n",
              "      <td>0</td>\n",
              "      <td>0</td>\n",
              "      <td>0</td>\n",
              "      <td>1346976000</td>\n",
              "      <td>Not as Advertised</td>\n",
              "      <td>Product arrived labeled as Jumbo Salted Peanut...</td>\n",
              "    </tr>\n",
              "    <tr>\n",
              "      <th>2</th>\n",
              "      <td>3</td>\n",
              "      <td>B000LQOCH0</td>\n",
              "      <td>ABXLMWJIXXAIN</td>\n",
              "      <td>Natalia Corres \"Natalia Corres\"</td>\n",
              "      <td>1</td>\n",
              "      <td>1</td>\n",
              "      <td>1</td>\n",
              "      <td>1219017600</td>\n",
              "      <td>\"Delight\" says it all</td>\n",
              "      <td>This is a confection that has been around a fe...</td>\n",
              "    </tr>\n",
              "  </tbody>\n",
              "</table>\n",
              "</div>"
            ],
            "text/plain": [
              "   Id  ...                                               Text\n",
              "0   1  ...  I have bought several of the Vitality canned d...\n",
              "1   2  ...  Product arrived labeled as Jumbo Salted Peanut...\n",
              "2   3  ...  This is a confection that has been around a fe...\n",
              "\n",
              "[3 rows x 10 columns]"
            ]
          },
          "metadata": {
            "tags": []
          },
          "execution_count": 3
        }
      ]
    },
    {
      "cell_type": "code",
      "metadata": {
        "id": "Oy6FbbqIChW9",
        "colab_type": "code",
        "colab": {}
      },
      "source": [
        "display = pd.read_sql_query(\"\"\"\n",
        "SELECT UserId, ProductId, ProfileName, Time, Score, Text, COUNT(*)\n",
        "FROM Reviews\n",
        "GROUP BY UserId\n",
        "HAVING COUNT(*)>1\n",
        "\"\"\", con)"
      ],
      "execution_count": 0,
      "outputs": []
    },
    {
      "cell_type": "code",
      "metadata": {
        "scrolled": true,
        "id": "VxmpGW-WChXD",
        "colab_type": "code",
        "outputId": "e86e5f46-cdfb-451c-d964-0efa952d72b9",
        "colab": {
          "base_uri": "https://localhost:8080/",
          "height": 220
        }
      },
      "source": [
        "print(display.shape)\n",
        "display.head()"
      ],
      "execution_count": 0,
      "outputs": [
        {
          "output_type": "stream",
          "text": [
            "(80668, 7)\n"
          ],
          "name": "stdout"
        },
        {
          "output_type": "execute_result",
          "data": {
            "text/html": [
              "<div>\n",
              "<style scoped>\n",
              "    .dataframe tbody tr th:only-of-type {\n",
              "        vertical-align: middle;\n",
              "    }\n",
              "\n",
              "    .dataframe tbody tr th {\n",
              "        vertical-align: top;\n",
              "    }\n",
              "\n",
              "    .dataframe thead th {\n",
              "        text-align: right;\n",
              "    }\n",
              "</style>\n",
              "<table border=\"1\" class=\"dataframe\">\n",
              "  <thead>\n",
              "    <tr style=\"text-align: right;\">\n",
              "      <th></th>\n",
              "      <th>UserId</th>\n",
              "      <th>ProductId</th>\n",
              "      <th>ProfileName</th>\n",
              "      <th>Time</th>\n",
              "      <th>Score</th>\n",
              "      <th>Text</th>\n",
              "      <th>COUNT(*)</th>\n",
              "    </tr>\n",
              "  </thead>\n",
              "  <tbody>\n",
              "    <tr>\n",
              "      <th>0</th>\n",
              "      <td>#oc-R115TNMSPFT9I7</td>\n",
              "      <td>B007Y59HVM</td>\n",
              "      <td>Breyton</td>\n",
              "      <td>1331510400</td>\n",
              "      <td>2</td>\n",
              "      <td>Overall its just OK when considering the price...</td>\n",
              "      <td>2</td>\n",
              "    </tr>\n",
              "    <tr>\n",
              "      <th>1</th>\n",
              "      <td>#oc-R11D9D7SHXIJB9</td>\n",
              "      <td>B005HG9ET0</td>\n",
              "      <td>Louis E. Emory \"hoppy\"</td>\n",
              "      <td>1342396800</td>\n",
              "      <td>5</td>\n",
              "      <td>My wife has recurring extreme muscle spasms, u...</td>\n",
              "      <td>3</td>\n",
              "    </tr>\n",
              "    <tr>\n",
              "      <th>2</th>\n",
              "      <td>#oc-R11DNU2NBKQ23Z</td>\n",
              "      <td>B007Y59HVM</td>\n",
              "      <td>Kim Cieszykowski</td>\n",
              "      <td>1348531200</td>\n",
              "      <td>1</td>\n",
              "      <td>This coffee is horrible and unfortunately not ...</td>\n",
              "      <td>2</td>\n",
              "    </tr>\n",
              "    <tr>\n",
              "      <th>3</th>\n",
              "      <td>#oc-R11O5J5ZVQE25C</td>\n",
              "      <td>B005HG9ET0</td>\n",
              "      <td>Penguin Chick</td>\n",
              "      <td>1346889600</td>\n",
              "      <td>5</td>\n",
              "      <td>This will be the bottle that you grab from the...</td>\n",
              "      <td>3</td>\n",
              "    </tr>\n",
              "    <tr>\n",
              "      <th>4</th>\n",
              "      <td>#oc-R12KPBODL2B5ZD</td>\n",
              "      <td>B007OSBE1U</td>\n",
              "      <td>Christopher P. Presta</td>\n",
              "      <td>1348617600</td>\n",
              "      <td>1</td>\n",
              "      <td>I didnt like this coffee. Instead of telling y...</td>\n",
              "      <td>2</td>\n",
              "    </tr>\n",
              "  </tbody>\n",
              "</table>\n",
              "</div>"
            ],
            "text/plain": [
              "               UserId  ... COUNT(*)\n",
              "0  #oc-R115TNMSPFT9I7  ...        2\n",
              "1  #oc-R11D9D7SHXIJB9  ...        3\n",
              "2  #oc-R11DNU2NBKQ23Z  ...        2\n",
              "3  #oc-R11O5J5ZVQE25C  ...        3\n",
              "4  #oc-R12KPBODL2B5ZD  ...        2\n",
              "\n",
              "[5 rows x 7 columns]"
            ]
          },
          "metadata": {
            "tags": []
          },
          "execution_count": 5
        }
      ]
    },
    {
      "cell_type": "code",
      "metadata": {
        "id": "qVYRWe1nChXK",
        "colab_type": "code",
        "outputId": "5a54dbef-0261-47b7-dfd4-6a53324ce08c",
        "colab": {
          "base_uri": "https://localhost:8080/",
          "height": 80
        }
      },
      "source": [
        "display[display['UserId']=='AZY10LLTJ71NX']"
      ],
      "execution_count": 0,
      "outputs": [
        {
          "output_type": "execute_result",
          "data": {
            "text/html": [
              "<div>\n",
              "<style scoped>\n",
              "    .dataframe tbody tr th:only-of-type {\n",
              "        vertical-align: middle;\n",
              "    }\n",
              "\n",
              "    .dataframe tbody tr th {\n",
              "        vertical-align: top;\n",
              "    }\n",
              "\n",
              "    .dataframe thead th {\n",
              "        text-align: right;\n",
              "    }\n",
              "</style>\n",
              "<table border=\"1\" class=\"dataframe\">\n",
              "  <thead>\n",
              "    <tr style=\"text-align: right;\">\n",
              "      <th></th>\n",
              "      <th>UserId</th>\n",
              "      <th>ProductId</th>\n",
              "      <th>ProfileName</th>\n",
              "      <th>Time</th>\n",
              "      <th>Score</th>\n",
              "      <th>Text</th>\n",
              "      <th>COUNT(*)</th>\n",
              "    </tr>\n",
              "  </thead>\n",
              "  <tbody>\n",
              "    <tr>\n",
              "      <th>80638</th>\n",
              "      <td>AZY10LLTJ71NX</td>\n",
              "      <td>B006P7E5ZI</td>\n",
              "      <td>undertheshrine \"undertheshrine\"</td>\n",
              "      <td>1334707200</td>\n",
              "      <td>5</td>\n",
              "      <td>I was recommended to try green tea extract to ...</td>\n",
              "      <td>5</td>\n",
              "    </tr>\n",
              "  </tbody>\n",
              "</table>\n",
              "</div>"
            ],
            "text/plain": [
              "              UserId  ... COUNT(*)\n",
              "80638  AZY10LLTJ71NX  ...        5\n",
              "\n",
              "[1 rows x 7 columns]"
            ]
          },
          "metadata": {
            "tags": []
          },
          "execution_count": 6
        }
      ]
    },
    {
      "cell_type": "code",
      "metadata": {
        "id": "bk3oC9YoChXQ",
        "colab_type": "code",
        "outputId": "e015812a-ad5a-4bfe-8d37-a61ff55e4e51",
        "colab": {
          "base_uri": "https://localhost:8080/",
          "height": 34
        }
      },
      "source": [
        "display['COUNT(*)'].sum()"
      ],
      "execution_count": 0,
      "outputs": [
        {
          "output_type": "execute_result",
          "data": {
            "text/plain": [
              "393063"
            ]
          },
          "metadata": {
            "tags": []
          },
          "execution_count": 7
        }
      ]
    },
    {
      "cell_type": "markdown",
      "metadata": {
        "id": "tUdW-oABChXZ",
        "colab_type": "text"
      },
      "source": [
        "#  [2] Exploratory Data Analysis"
      ]
    },
    {
      "cell_type": "markdown",
      "metadata": {
        "id": "1lWaQ1eFChXb",
        "colab_type": "text"
      },
      "source": [
        "## [2.1] Data Cleaning: Deduplication\n",
        "\n",
        "It is observed (as shown in the table below) that the reviews data had many duplicate entries. Hence it was necessary to remove duplicates in order to get unbiased results for the analysis of the data.  Following is an example:"
      ]
    },
    {
      "cell_type": "code",
      "metadata": {
        "scrolled": false,
        "id": "0scKI9A4ChXd",
        "colab_type": "code",
        "outputId": "baec757d-b34d-4bc0-e8d0-984ee717df22",
        "colab": {
          "base_uri": "https://localhost:8080/",
          "height": 202
        }
      },
      "source": [
        "display= pd.read_sql_query(\"\"\"\n",
        "SELECT *\n",
        "FROM Reviews\n",
        "WHERE Score != 3 AND UserId=\"AR5J8UI46CURR\"\n",
        "ORDER BY ProductID\n",
        "\"\"\", con)\n",
        "display.head()"
      ],
      "execution_count": 0,
      "outputs": [
        {
          "output_type": "execute_result",
          "data": {
            "text/html": [
              "<div>\n",
              "<style scoped>\n",
              "    .dataframe tbody tr th:only-of-type {\n",
              "        vertical-align: middle;\n",
              "    }\n",
              "\n",
              "    .dataframe tbody tr th {\n",
              "        vertical-align: top;\n",
              "    }\n",
              "\n",
              "    .dataframe thead th {\n",
              "        text-align: right;\n",
              "    }\n",
              "</style>\n",
              "<table border=\"1\" class=\"dataframe\">\n",
              "  <thead>\n",
              "    <tr style=\"text-align: right;\">\n",
              "      <th></th>\n",
              "      <th>Id</th>\n",
              "      <th>ProductId</th>\n",
              "      <th>UserId</th>\n",
              "      <th>ProfileName</th>\n",
              "      <th>HelpfulnessNumerator</th>\n",
              "      <th>HelpfulnessDenominator</th>\n",
              "      <th>Score</th>\n",
              "      <th>Time</th>\n",
              "      <th>Summary</th>\n",
              "      <th>Text</th>\n",
              "    </tr>\n",
              "  </thead>\n",
              "  <tbody>\n",
              "    <tr>\n",
              "      <th>0</th>\n",
              "      <td>78445</td>\n",
              "      <td>B000HDL1RQ</td>\n",
              "      <td>AR5J8UI46CURR</td>\n",
              "      <td>Geetha Krishnan</td>\n",
              "      <td>2</td>\n",
              "      <td>2</td>\n",
              "      <td>5</td>\n",
              "      <td>1199577600</td>\n",
              "      <td>LOACKER QUADRATINI VANILLA WAFERS</td>\n",
              "      <td>DELICIOUS WAFERS. I FIND THAT EUROPEAN WAFERS ...</td>\n",
              "    </tr>\n",
              "    <tr>\n",
              "      <th>1</th>\n",
              "      <td>138317</td>\n",
              "      <td>B000HDOPYC</td>\n",
              "      <td>AR5J8UI46CURR</td>\n",
              "      <td>Geetha Krishnan</td>\n",
              "      <td>2</td>\n",
              "      <td>2</td>\n",
              "      <td>5</td>\n",
              "      <td>1199577600</td>\n",
              "      <td>LOACKER QUADRATINI VANILLA WAFERS</td>\n",
              "      <td>DELICIOUS WAFERS. I FIND THAT EUROPEAN WAFERS ...</td>\n",
              "    </tr>\n",
              "    <tr>\n",
              "      <th>2</th>\n",
              "      <td>138277</td>\n",
              "      <td>B000HDOPYM</td>\n",
              "      <td>AR5J8UI46CURR</td>\n",
              "      <td>Geetha Krishnan</td>\n",
              "      <td>2</td>\n",
              "      <td>2</td>\n",
              "      <td>5</td>\n",
              "      <td>1199577600</td>\n",
              "      <td>LOACKER QUADRATINI VANILLA WAFERS</td>\n",
              "      <td>DELICIOUS WAFERS. I FIND THAT EUROPEAN WAFERS ...</td>\n",
              "    </tr>\n",
              "    <tr>\n",
              "      <th>3</th>\n",
              "      <td>73791</td>\n",
              "      <td>B000HDOPZG</td>\n",
              "      <td>AR5J8UI46CURR</td>\n",
              "      <td>Geetha Krishnan</td>\n",
              "      <td>2</td>\n",
              "      <td>2</td>\n",
              "      <td>5</td>\n",
              "      <td>1199577600</td>\n",
              "      <td>LOACKER QUADRATINI VANILLA WAFERS</td>\n",
              "      <td>DELICIOUS WAFERS. I FIND THAT EUROPEAN WAFERS ...</td>\n",
              "    </tr>\n",
              "    <tr>\n",
              "      <th>4</th>\n",
              "      <td>155049</td>\n",
              "      <td>B000PAQ75C</td>\n",
              "      <td>AR5J8UI46CURR</td>\n",
              "      <td>Geetha Krishnan</td>\n",
              "      <td>2</td>\n",
              "      <td>2</td>\n",
              "      <td>5</td>\n",
              "      <td>1199577600</td>\n",
              "      <td>LOACKER QUADRATINI VANILLA WAFERS</td>\n",
              "      <td>DELICIOUS WAFERS. I FIND THAT EUROPEAN WAFERS ...</td>\n",
              "    </tr>\n",
              "  </tbody>\n",
              "</table>\n",
              "</div>"
            ],
            "text/plain": [
              "       Id  ...                                               Text\n",
              "0   78445  ...  DELICIOUS WAFERS. I FIND THAT EUROPEAN WAFERS ...\n",
              "1  138317  ...  DELICIOUS WAFERS. I FIND THAT EUROPEAN WAFERS ...\n",
              "2  138277  ...  DELICIOUS WAFERS. I FIND THAT EUROPEAN WAFERS ...\n",
              "3   73791  ...  DELICIOUS WAFERS. I FIND THAT EUROPEAN WAFERS ...\n",
              "4  155049  ...  DELICIOUS WAFERS. I FIND THAT EUROPEAN WAFERS ...\n",
              "\n",
              "[5 rows x 10 columns]"
            ]
          },
          "metadata": {
            "tags": []
          },
          "execution_count": 8
        }
      ]
    },
    {
      "cell_type": "code",
      "metadata": {
        "id": "QjqRsNlrChXn",
        "colab_type": "code",
        "colab": {}
      },
      "source": [
        "#Sorting data according to ProductId in ascending order\n",
        "sorted_data=filtered_data.sort_values('ProductId', axis=0, ascending=True, inplace=False, kind='quicksort', na_position='last')"
      ],
      "execution_count": 0,
      "outputs": []
    },
    {
      "cell_type": "code",
      "metadata": {
        "id": "5f7tJRTNChXr",
        "colab_type": "code",
        "outputId": "4b3770a8-d4ba-4ae5-be6a-4221aad73fdf",
        "colab": {
          "base_uri": "https://localhost:8080/",
          "height": 34
        }
      },
      "source": [
        "#Deduplication of entries\n",
        "final=sorted_data.drop_duplicates(subset={\"UserId\",\"ProfileName\",\"Time\",\"Text\"}, keep='first', inplace=False)\n",
        "final.shape"
      ],
      "execution_count": 0,
      "outputs": [
        {
          "output_type": "execute_result",
          "data": {
            "text/plain": [
              "(228569, 10)"
            ]
          },
          "metadata": {
            "tags": []
          },
          "execution_count": 10
        }
      ]
    },
    {
      "cell_type": "code",
      "metadata": {
        "id": "OkMII7G4ChXx",
        "colab_type": "code",
        "outputId": "3d7b35b1-fab6-4150-fb57-815513093fe5",
        "colab": {
          "base_uri": "https://localhost:8080/",
          "height": 34
        }
      },
      "source": [
        "#Checking to see how much % of data still remains\n",
        "(final['Id'].size*1.0)/(filtered_data['Id'].size*1.0)*100"
      ],
      "execution_count": 0,
      "outputs": [
        {
          "output_type": "execute_result",
          "data": {
            "text/plain": [
              "76.18966666666667"
            ]
          },
          "metadata": {
            "tags": []
          },
          "execution_count": 11
        }
      ]
    },
    {
      "cell_type": "markdown",
      "metadata": {
        "id": "GqWw3R5rChX6",
        "colab_type": "text"
      },
      "source": [
        "<b>Observation:-</b> It was also seen that in two rows given below the value of HelpfulnessNumerator is greater than HelpfulnessDenominator which is not practically possible hence these two rows too are removed from calcualtions"
      ]
    },
    {
      "cell_type": "code",
      "metadata": {
        "id": "D04AzcxlChX-",
        "colab_type": "code",
        "outputId": "4b9037cf-6b1d-4c09-d9e2-6c282a94cae4",
        "colab": {
          "base_uri": "https://localhost:8080/",
          "height": 110
        }
      },
      "source": [
        "display= pd.read_sql_query(\"\"\"\n",
        "SELECT *\n",
        "FROM Reviews\n",
        "WHERE Score != 3 AND Id=44737 OR Id=64422\n",
        "ORDER BY ProductID\n",
        "\"\"\", con)\n",
        "\n",
        "display.head()"
      ],
      "execution_count": 0,
      "outputs": [
        {
          "output_type": "execute_result",
          "data": {
            "text/html": [
              "<div>\n",
              "<style scoped>\n",
              "    .dataframe tbody tr th:only-of-type {\n",
              "        vertical-align: middle;\n",
              "    }\n",
              "\n",
              "    .dataframe tbody tr th {\n",
              "        vertical-align: top;\n",
              "    }\n",
              "\n",
              "    .dataframe thead th {\n",
              "        text-align: right;\n",
              "    }\n",
              "</style>\n",
              "<table border=\"1\" class=\"dataframe\">\n",
              "  <thead>\n",
              "    <tr style=\"text-align: right;\">\n",
              "      <th></th>\n",
              "      <th>Id</th>\n",
              "      <th>ProductId</th>\n",
              "      <th>UserId</th>\n",
              "      <th>ProfileName</th>\n",
              "      <th>HelpfulnessNumerator</th>\n",
              "      <th>HelpfulnessDenominator</th>\n",
              "      <th>Score</th>\n",
              "      <th>Time</th>\n",
              "      <th>Summary</th>\n",
              "      <th>Text</th>\n",
              "    </tr>\n",
              "  </thead>\n",
              "  <tbody>\n",
              "    <tr>\n",
              "      <th>0</th>\n",
              "      <td>64422</td>\n",
              "      <td>B000MIDROQ</td>\n",
              "      <td>A161DK06JJMCYF</td>\n",
              "      <td>J. E. Stephens \"Jeanne\"</td>\n",
              "      <td>3</td>\n",
              "      <td>1</td>\n",
              "      <td>5</td>\n",
              "      <td>1224892800</td>\n",
              "      <td>Bought This for My Son at College</td>\n",
              "      <td>My son loves spaghetti so I didn't hesitate or...</td>\n",
              "    </tr>\n",
              "    <tr>\n",
              "      <th>1</th>\n",
              "      <td>44737</td>\n",
              "      <td>B001EQ55RW</td>\n",
              "      <td>A2V0I904FH7ABY</td>\n",
              "      <td>Ram</td>\n",
              "      <td>3</td>\n",
              "      <td>2</td>\n",
              "      <td>4</td>\n",
              "      <td>1212883200</td>\n",
              "      <td>Pure cocoa taste with crunchy almonds inside</td>\n",
              "      <td>It was almost a 'love at first bite' - the per...</td>\n",
              "    </tr>\n",
              "  </tbody>\n",
              "</table>\n",
              "</div>"
            ],
            "text/plain": [
              "      Id  ...                                               Text\n",
              "0  64422  ...  My son loves spaghetti so I didn't hesitate or...\n",
              "1  44737  ...  It was almost a 'love at first bite' - the per...\n",
              "\n",
              "[2 rows x 10 columns]"
            ]
          },
          "metadata": {
            "tags": []
          },
          "execution_count": 12
        }
      ]
    },
    {
      "cell_type": "code",
      "metadata": {
        "id": "jgXX4VgCChYG",
        "colab_type": "code",
        "colab": {}
      },
      "source": [
        "final=final[final.HelpfulnessNumerator<=final.HelpfulnessDenominator]"
      ],
      "execution_count": 0,
      "outputs": []
    },
    {
      "cell_type": "code",
      "metadata": {
        "id": "ItoTBxEAChYN",
        "colab_type": "code",
        "outputId": "94a8e539-4e3e-427a-d1da-cec6c057816a",
        "colab": {
          "base_uri": "https://localhost:8080/",
          "height": 86
        }
      },
      "source": [
        "#Before starting the next phase of preprocessing lets see the number of entries left\n",
        "print(final.shape)\n",
        "\n",
        "#How many positive and negative reviews are present in our dataset?\n",
        "final['Score'].value_counts()"
      ],
      "execution_count": 0,
      "outputs": [
        {
          "output_type": "stream",
          "text": [
            "(228567, 10)\n"
          ],
          "name": "stdout"
        },
        {
          "output_type": "execute_result",
          "data": {
            "text/plain": [
              "1    192377\n",
              "0     36190\n",
              "Name: Score, dtype: int64"
            ]
          },
          "metadata": {
            "tags": []
          },
          "execution_count": 14
        }
      ]
    },
    {
      "cell_type": "markdown",
      "metadata": {
        "id": "fu12_ACbChYY",
        "colab_type": "text"
      },
      "source": [
        "#  [3] Preprocessing"
      ]
    },
    {
      "cell_type": "markdown",
      "metadata": {
        "id": "3pg73rLEChYa",
        "colab_type": "text"
      },
      "source": [
        "## [3.1].  Preprocessing Review Text\n",
        "\n",
        "Now that we have finished deduplication our data requires some preprocessing before we go on further with analysis and making the prediction model.\n",
        "\n",
        "Hence in the Preprocessing phase we do the following in the order below:-\n",
        "\n",
        "1. Begin by removing the html tags\n",
        "2. Remove any punctuations or limited set of special characters like , or . or # etc.\n",
        "3. Check if the word is made up of english letters and is not alpha-numeric\n",
        "4. Check to see if the length of the word is greater than 2 (as it was researched that there is no adjective in 2-letters)\n",
        "5. Convert the word to lowercase\n",
        "6. Remove Stopwords\n",
        "7. Finally Snowball Stemming the word (it was obsereved to be better than Porter Stemming)<br>\n",
        "\n",
        "After which we collect the words used to describe positive and negative reviews"
      ]
    },
    {
      "cell_type": "code",
      "metadata": {
        "id": "BZpKtJnDChYc",
        "colab_type": "code",
        "outputId": "034e1801-4822-4e90-8656-cd8607981350",
        "colab": {
          "base_uri": "https://localhost:8080/",
          "height": 176
        }
      },
      "source": [
        "# printing some random reviews\n",
        "sent_0 = final['Text'].values[0]\n",
        "print(sent_0)\n",
        "print(\"=\"*50)\n",
        "\n",
        "sent_1000 = final['Text'].values[1000]\n",
        "print(sent_1000)\n",
        "print(\"=\"*50)\n",
        "\n",
        "sent_1500 = final['Text'].values[1500]\n",
        "print(sent_1500)\n",
        "print(\"=\"*50)\n",
        "\n",
        "sent_4900 = final['Text'].values[4900]\n",
        "print(sent_4900)\n",
        "print(\"=\"*50)"
      ],
      "execution_count": 0,
      "outputs": [
        {
          "output_type": "stream",
          "text": [
            "I set aside at least an hour each day to read to my son (3 y/o). At this point, I consider myself a connoisseur of children's books and this is one of the best. Santa Clause put this under the tree. Since then, we've read it perpetually and he loves it.<br /><br />First, this book taught him the months of the year.<br /><br />Second, it's a pleasure to read. Well suited to 1.5 y/o old to 4+.<br /><br />Very few children's books are worth owning. Most should be borrowed from the library. This book, however, deserves a permanent spot on your shelf. Sendak's best.\n",
            "==================================================\n",
            "I have a pitbull 3years old and my wife has 2 pugs 7months and a 1 year old, they are all best friends. I bought the dental Dinosaur, because my pitbull will chew up any toy in 5 minutes and they were made of a very hard plastic.I am very amazed how long they have lasted and all 3 dogs love to chew on them.\n",
            "==================================================\n",
            "Very effective at getting rid of indoor flea problem (moderate severity) in the Midwest.  Light smell - less intense & less chemically smell than Raid Flea Killer Plus Room & Carpet Spray.  Do not yet know how well this product works on eliminating fleas long term as it's only been a couple of weeks.  Dog had no problem using his dog bed after his bed was sprayed & aired.<br /><br />If you need a fine mist & are covering a small area (e.g., just pet bed/furniture), this spray nozzle could be better (Raid Flea Killer Plus nozzle allows for more even mist as per instructions).  The sprayer of my first can was defective squirting splatters/gobs of foam randomly rather than a mist (e.g., splattering foam gobs onto the walls 10 inches away rather than the carpet even while can was pointed down at the ground).  Had to get a 2nd can (the seller sent new can right away at no charge).  I prefer the flea spray for covering carpets, rooms & pet furniture to the flea powder/granules as some people experience breathing issues from the fine airborne particles of the powder/granules long after vacuuming.\n",
            "==================================================\n",
            "This is a great coconut oil-smooth as silk and I use it as a mascara remover and as a moisturizer for my legs, arms and face. It melts in my hand and doesn't feel greasy when applied. Love it\n",
            "==================================================\n"
          ],
          "name": "stdout"
        }
      ]
    },
    {
      "cell_type": "code",
      "metadata": {
        "id": "tpufjpl_ChYm",
        "colab_type": "code",
        "outputId": "6b0cb308-5c9d-4f72-bcfe-aed777554e23",
        "colab": {
          "base_uri": "https://localhost:8080/",
          "height": 54
        }
      },
      "source": [
        "# remove urls from text python: https://stackoverflow.com/a/40823105/4084039\n",
        "sent_0 = re.sub(r\"http\\S+\", \"\", sent_0)\n",
        "sent_1000 = re.sub(r\"http\\S+\", \"\", sent_1000)\n",
        "sent_150 = re.sub(r\"http\\S+\", \"\", sent_1500)\n",
        "sent_4900 = re.sub(r\"http\\S+\", \"\", sent_4900)\n",
        "\n",
        "print(sent_0)"
      ],
      "execution_count": 0,
      "outputs": [
        {
          "output_type": "stream",
          "text": [
            "I set aside at least an hour each day to read to my son (3 y/o). At this point, I consider myself a connoisseur of children's books and this is one of the best. Santa Clause put this under the tree. Since then, we've read it perpetually and he loves it.<br /><br />First, this book taught him the months of the year.<br /><br />Second, it's a pleasure to read. Well suited to 1.5 y/o old to 4+.<br /><br />Very few children's books are worth owning. Most should be borrowed from the library. This book, however, deserves a permanent spot on your shelf. Sendak's best.\n"
          ],
          "name": "stdout"
        }
      ]
    },
    {
      "cell_type": "code",
      "metadata": {
        "id": "giHr0E8zChYv",
        "colab_type": "code",
        "outputId": "9a051d8d-ce5e-4020-df7a-0a2242881402",
        "colab": {
          "base_uri": "https://localhost:8080/",
          "height": 158
        }
      },
      "source": [
        "# https://stackoverflow.com/questions/16206380/python-beautifulsoup-how-to-remove-all-tags-from-an-element\n",
        "from bs4 import BeautifulSoup\n",
        "\n",
        "soup = BeautifulSoup(sent_0, 'lxml')\n",
        "text = soup.get_text()\n",
        "print(text)\n",
        "print(\"=\"*50)\n",
        "\n",
        "soup = BeautifulSoup(sent_1000, 'lxml')\n",
        "text = soup.get_text()\n",
        "print(text)\n",
        "print(\"=\"*50)\n",
        "\n",
        "soup = BeautifulSoup(sent_1500, 'lxml')\n",
        "text = soup.get_text()\n",
        "print(text)\n",
        "print(\"=\"*50)\n",
        "\n",
        "soup = BeautifulSoup(sent_4900, 'lxml')\n",
        "text = soup.get_text()\n",
        "print(text)"
      ],
      "execution_count": 0,
      "outputs": [
        {
          "output_type": "stream",
          "text": [
            "I set aside at least an hour each day to read to my son (3 y/o). At this point, I consider myself a connoisseur of children's books and this is one of the best. Santa Clause put this under the tree. Since then, we've read it perpetually and he loves it.First, this book taught him the months of the year.Second, it's a pleasure to read. Well suited to 1.5 y/o old to 4+.Very few children's books are worth owning. Most should be borrowed from the library. This book, however, deserves a permanent spot on your shelf. Sendak's best.\n",
            "==================================================\n",
            "I have a pitbull 3years old and my wife has 2 pugs 7months and a 1 year old, they are all best friends. I bought the dental Dinosaur, because my pitbull will chew up any toy in 5 minutes and they were made of a very hard plastic.I am very amazed how long they have lasted and all 3 dogs love to chew on them.\n",
            "==================================================\n",
            "Very effective at getting rid of indoor flea problem (moderate severity) in the Midwest.  Light smell - less intense & less chemically smell than Raid Flea Killer Plus Room & Carpet Spray.  Do not yet know how well this product works on eliminating fleas long term as it's only been a couple of weeks.  Dog had no problem using his dog bed after his bed was sprayed & aired.If you need a fine mist & are covering a small area (e.g., just pet bed/furniture), this spray nozzle could be better (Raid Flea Killer Plus nozzle allows for more even mist as per instructions).  The sprayer of my first can was defective squirting splatters/gobs of foam randomly rather than a mist (e.g., splattering foam gobs onto the walls 10 inches away rather than the carpet even while can was pointed down at the ground).  Had to get a 2nd can (the seller sent new can right away at no charge).  I prefer the flea spray for covering carpets, rooms & pet furniture to the flea powder/granules as some people experience breathing issues from the fine airborne particles of the powder/granules long after vacuuming.\n",
            "==================================================\n",
            "This is a great coconut oil-smooth as silk and I use it as a mascara remover and as a moisturizer for my legs, arms and face. It melts in my hand and doesn't feel greasy when applied. Love it\n"
          ],
          "name": "stdout"
        }
      ]
    },
    {
      "cell_type": "code",
      "metadata": {
        "id": "HdhtRruPChY3",
        "colab_type": "code",
        "colab": {}
      },
      "source": [
        "# https://stackoverflow.com/a/47091490/4084039\n",
        "import re\n",
        "\n",
        "def decontracted(phrase):\n",
        "    # specific\n",
        "    phrase = re.sub(r\"won't\", \"will not\", phrase)\n",
        "    phrase = re.sub(r\"can\\'t\", \"can not\", phrase)\n",
        "\n",
        "    # general\n",
        "    phrase = re.sub(r\"n\\'t\", \" not\", phrase)\n",
        "    phrase = re.sub(r\"\\'re\", \" are\", phrase)\n",
        "    phrase = re.sub(r\"\\'s\", \" is\", phrase)\n",
        "    phrase = re.sub(r\"\\'d\", \" would\", phrase)\n",
        "    phrase = re.sub(r\"\\'ll\", \" will\", phrase)\n",
        "    phrase = re.sub(r\"\\'t\", \" not\", phrase)\n",
        "    phrase = re.sub(r\"\\'ve\", \" have\", phrase)\n",
        "    phrase = re.sub(r\"\\'m\", \" am\", phrase)\n",
        "    return phrase"
      ],
      "execution_count": 0,
      "outputs": []
    },
    {
      "cell_type": "code",
      "metadata": {
        "id": "S8yht6Y7ChY7",
        "colab_type": "code",
        "outputId": "dd8308de-4f29-4707-e426-0a735d927531",
        "colab": {
          "base_uri": "https://localhost:8080/",
          "height": 72
        }
      },
      "source": [
        "sent_1500 = decontracted(sent_1500)\n",
        "print(sent_1500)\n",
        "print(\"=\"*50)"
      ],
      "execution_count": 0,
      "outputs": [
        {
          "output_type": "stream",
          "text": [
            "Very effective at getting rid of indoor flea problem (moderate severity) in the Midwest.  Light smell - less intense & less chemically smell than Raid Flea Killer Plus Room & Carpet Spray.  Do not yet know how well this product works on eliminating fleas long term as it is only been a couple of weeks.  Dog had no problem using his dog bed after his bed was sprayed & aired.<br /><br />If you need a fine mist & are covering a small area (e.g., just pet bed/furniture), this spray nozzle could be better (Raid Flea Killer Plus nozzle allows for more even mist as per instructions).  The sprayer of my first can was defective squirting splatters/gobs of foam randomly rather than a mist (e.g., splattering foam gobs onto the walls 10 inches away rather than the carpet even while can was pointed down at the ground).  Had to get a 2nd can (the seller sent new can right away at no charge).  I prefer the flea spray for covering carpets, rooms & pet furniture to the flea powder/granules as some people experience breathing issues from the fine airborne particles of the powder/granules long after vacuuming.\n",
            "==================================================\n"
          ],
          "name": "stdout"
        }
      ]
    },
    {
      "cell_type": "code",
      "metadata": {
        "id": "zJU8V8P4ChZE",
        "colab_type": "code",
        "outputId": "3d71d9d4-d9ab-4eb9-e067-bdfb83127c45",
        "colab": {
          "base_uri": "https://localhost:8080/",
          "height": 54
        }
      },
      "source": [
        "#remove words with numbers python: https://stackoverflow.com/a/18082370/4084039\n",
        "sent_0 = re.sub(\"\\S*\\d\\S*\", \"\", sent_0).strip()\n",
        "print(sent_0)"
      ],
      "execution_count": 0,
      "outputs": [
        {
          "output_type": "stream",
          "text": [
            "I set aside at least an hour each day to read to my son  y/o). At this point, I consider myself a connoisseur of children's books and this is one of the best. Santa Clause put this under the tree. Since then, we've read it perpetually and he loves it.<br /><br />First, this book taught him the months of the year.<br /><br />Second, it's a pleasure to read. Well suited to  y/o old to  /><br />Very few children's books are worth owning. Most should be borrowed from the library. This book, however, deserves a permanent spot on your shelf. Sendak's best.\n"
          ],
          "name": "stdout"
        }
      ]
    },
    {
      "cell_type": "code",
      "metadata": {
        "id": "zUDg3iWhChZL",
        "colab_type": "code",
        "outputId": "178058dd-0dbf-44dc-dbc4-0f8b5a0aed88",
        "colab": {
          "base_uri": "https://localhost:8080/",
          "height": 54
        }
      },
      "source": [
        "#remove spacial character: https://stackoverflow.com/a/5843547/4084039\n",
        "sent_1500 = re.sub('[^A-Za-z0-9]+', ' ', sent_1500)\n",
        "print(sent_1500)"
      ],
      "execution_count": 0,
      "outputs": [
        {
          "output_type": "stream",
          "text": [
            "Very effective at getting rid of indoor flea problem moderate severity in the Midwest Light smell less intense less chemically smell than Raid Flea Killer Plus Room Carpet Spray Do not yet know how well this product works on eliminating fleas long term as it is only been a couple of weeks Dog had no problem using his dog bed after his bed was sprayed aired br br If you need a fine mist are covering a small area e g just pet bed furniture this spray nozzle could be better Raid Flea Killer Plus nozzle allows for more even mist as per instructions The sprayer of my first can was defective squirting splatters gobs of foam randomly rather than a mist e g splattering foam gobs onto the walls 10 inches away rather than the carpet even while can was pointed down at the ground Had to get a 2nd can the seller sent new can right away at no charge I prefer the flea spray for covering carpets rooms pet furniture to the flea powder granules as some people experience breathing issues from the fine airborne particles of the powder granules long after vacuuming \n"
          ],
          "name": "stdout"
        }
      ]
    },
    {
      "cell_type": "code",
      "metadata": {
        "id": "q2QebhvKChZR",
        "colab_type": "code",
        "colab": {}
      },
      "source": [
        "# https://gist.github.com/sebleier/554280\n",
        "# we are removing the words from the stop words list: 'no', 'nor', 'not'\n",
        "# <br /><br /> ==> after the above steps, we are getting \"br br\"\n",
        "# we are including them into stop words list\n",
        "# instead of <br /> if we have <br/> these tags would have revmoved in the 1st step\n",
        "\n",
        "stopwords= set(['br', 'the', 'i', 'me', 'my', 'myself', 'we', 'our', 'ours', 'ourselves', 'you', \"you're\", \"you've\",\\\n",
        "            \"you'll\", \"you'd\", 'your', 'yours', 'yourself', 'yourselves', 'he', 'him', 'his', 'himself', \\\n",
        "            'she', \"she's\", 'her', 'hers', 'herself', 'it', \"it's\", 'its', 'itself', 'they', 'them', 'their',\\\n",
        "            'theirs', 'themselves', 'what', 'which', 'who', 'whom', 'this', 'that', \"that'll\", 'these', 'those', \\\n",
        "            'am', 'is', 'are', 'was', 'were', 'be', 'been', 'being', 'have', 'has', 'had', 'having', 'do', 'does', \\\n",
        "            'did', 'doing', 'a', 'an', 'the', 'and', 'but', 'if', 'or', 'because', 'as', 'until', 'while', 'of', \\\n",
        "            'at', 'by', 'for', 'with', 'about', 'against', 'between', 'into', 'through', 'during', 'before', 'after',\\\n",
        "            'above', 'below', 'to', 'from', 'up', 'down', 'in', 'out', 'on', 'off', 'over', 'under', 'again', 'further',\\\n",
        "            'then', 'once', 'here', 'there', 'when', 'where', 'why', 'how', 'all', 'any', 'both', 'each', 'few', 'more',\\\n",
        "            'most', 'other', 'some', 'such', 'only', 'own', 'same', 'so', 'than', 'too', 'very', \\\n",
        "            's', 't', 'can', 'will', 'just', 'don', \"don't\", 'should', \"should've\", 'now', 'd', 'll', 'm', 'o', 're', \\\n",
        "            've', 'y', 'ain', 'aren', \"aren't\", 'couldn', \"couldn't\", 'didn', \"didn't\", 'doesn', \"doesn't\", 'hadn',\\\n",
        "            \"hadn't\", 'hasn', \"hasn't\", 'haven', \"haven't\", 'isn', \"isn't\", 'ma', 'mightn', \"mightn't\", 'mustn',\\\n",
        "            \"mustn't\", 'needn', \"needn't\", 'shan', \"shan't\", 'shouldn', \"shouldn't\", 'wasn', \"wasn't\", 'weren', \"weren't\", \\\n",
        "            'won', \"won't\", 'wouldn', \"wouldn't\"])"
      ],
      "execution_count": 0,
      "outputs": []
    },
    {
      "cell_type": "code",
      "metadata": {
        "id": "SxOsbLMyChZV",
        "colab_type": "code",
        "outputId": "037d4262-5001-4d88-cf0f-0024a7a77ff5",
        "colab": {
          "base_uri": "https://localhost:8080/",
          "height": 34
        }
      },
      "source": [
        "# Combining all the above stundents \n",
        "from tqdm import tqdm\n",
        "preprocessed_reviews = []\n",
        "# tqdm is for printing the status bar\n",
        "for sentance in tqdm(final['Text'].values):\n",
        "    sentance = re.sub(r\"http\\S+\", \"\", sentance)\n",
        "    sentance = BeautifulSoup(sentance, 'lxml').get_text()\n",
        "    sentance = decontracted(sentance)\n",
        "    sentance = re.sub(\"\\S*\\d\\S*\", \"\", sentance).strip()\n",
        "    sentance = re.sub('[^A-Za-z]+', ' ', sentance)\n",
        "    # https://gist.github.com/sebleier/554280\n",
        "    sentance = ' '.join(e.lower() for e in sentance.split() if e.lower() not in stopwords)\n",
        "    preprocessed_reviews.append(sentance.strip())"
      ],
      "execution_count": 0,
      "outputs": [
        {
          "output_type": "stream",
          "text": [
            "100%|██████████| 228567/228567 [01:20<00:00, 2855.48it/s]\n"
          ],
          "name": "stderr"
        }
      ]
    },
    {
      "cell_type": "code",
      "metadata": {
        "id": "QqPomIjSChZa",
        "colab_type": "code",
        "outputId": "e7c587bd-5f35-4bce-f81e-578fb8f53ada",
        "colab": {
          "base_uri": "https://localhost:8080/",
          "height": 54
        }
      },
      "source": [
        "preprocessed_reviews[1500]"
      ],
      "execution_count": 0,
      "outputs": [
        {
          "output_type": "execute_result",
          "data": {
            "text/plain": [
              "'effective getting rid indoor flea problem moderate severity midwest light smell less intense less chemically smell raid flea killer plus room carpet spray not yet know well product works eliminating fleas long term couple weeks dog no problem using dog bed bed sprayed aired need fine mist covering small area e g pet bed furniture spray nozzle could better raid flea killer plus nozzle allows even mist per instructions sprayer first defective squirting splatters gobs foam randomly rather mist e g splattering foam gobs onto walls inches away rather carpet even pointed ground get seller sent new right away no charge prefer flea spray covering carpets rooms pet furniture flea powder granules people experience breathing issues fine airborne particles powder granules long vacuuming'"
            ]
          },
          "metadata": {
            "tags": []
          },
          "execution_count": 24
        }
      ]
    },
    {
      "cell_type": "code",
      "metadata": {
        "id": "MwlcjZ3NySv5",
        "colab_type": "code",
        "colab": {}
      },
      "source": [
        "final['cleanedText']=preprocessed_reviews"
      ],
      "execution_count": 0,
      "outputs": []
    },
    {
      "cell_type": "markdown",
      "metadata": {
        "id": "HfoRNce9ChZf",
        "colab_type": "text"
      },
      "source": [
        "<h2><font color='red'>[3.2] Preprocessing Review Summary</font></h2>"
      ]
    },
    {
      "cell_type": "code",
      "metadata": {
        "id": "CcFUvOHxChZh",
        "colab_type": "code",
        "colab": {}
      },
      "source": [
        "## Similartly you can do preprocessing for review summary also."
      ],
      "execution_count": 0,
      "outputs": []
    },
    {
      "cell_type": "code",
      "metadata": {
        "id": "7E7E_85IFyEE",
        "colab_type": "code",
        "colab": {}
      },
      "source": [
        "X1=final['cleanedText']"
      ],
      "execution_count": 0,
      "outputs": []
    },
    {
      "cell_type": "markdown",
      "metadata": {
        "id": "N317lr0XChZk",
        "colab_type": "text"
      },
      "source": [
        "# [4] Featurization"
      ]
    },
    {
      "cell_type": "markdown",
      "metadata": {
        "id": "iqSqKjvwChZy",
        "colab_type": "text"
      },
      "source": [
        "## [4.3] TF-IDF"
      ]
    },
    {
      "cell_type": "code",
      "metadata": {
        "id": "bNhxI57eChZz",
        "colab_type": "code",
        "outputId": "6c77edb2-9bc6-4dd6-a27d-9629cd051b93",
        "colab": {
          "base_uri": "https://localhost:8080/",
          "height": 104
        }
      },
      "source": [
        "tf_idf_vect = TfidfVectorizer(ngram_range=(1,2), min_df=10,max_features=2000)\n",
        "tf_idf_vect.fit(X1)\n",
        "print(\"some sample features(unique words in the corpus)\",tf_idf_vect.get_feature_names()[0:10])\n",
        "print('='*50)\n",
        "\n",
        "final_tf_idf = tf_idf_vect.transform(X1)\n",
        "print(\"the type of count vectorizer \",type(final_tf_idf))\n",
        "print(\"the shape of out text TFIDF vectorizer \",final_tf_idf.get_shape())\n",
        "print(\"the number of unique words including both unigrams and bigrams \", final_tf_idf.get_shape()[1])"
      ],
      "execution_count": 0,
      "outputs": [
        {
          "output_type": "stream",
          "text": [
            "some sample features(unique words in the corpus) ['able', 'able find', 'absolute', 'absolutely', 'absolutely delicious', 'absolutely love', 'according', 'acid', 'across', 'actual']\n",
            "==================================================\n",
            "the type of count vectorizer  <class 'scipy.sparse.csr.csr_matrix'>\n",
            "the shape of out text TFIDF vectorizer  (228567, 2000)\n",
            "the number of unique words including both unigrams and bigrams  2000\n"
          ],
          "name": "stdout"
        }
      ]
    },
    {
      "cell_type": "markdown",
      "metadata": {
        "id": "rt5Z8K0NCha9",
        "colab_type": "text"
      },
      "source": [
        "# [5] Assignment 11: Truncated SVD"
      ]
    },
    {
      "cell_type": "markdown",
      "metadata": {
        "id": "B6Ssh6vvCha9",
        "colab_type": "text"
      },
      "source": [
        "<ol>\n",
        "    <li><strong>Apply Truncated-SVD on only this feature set:</strong>\n",
        "        <ul>\n",
        "            <li><font color='red'>SET 2:</font>Review text, preprocessed one converted into vectors using (TFIDF)</li>\n",
        "    <br>\n",
        "    <li><strong>Procedure:</strong>\n",
        "        <ul>\n",
        "    <li>Take top 2000 or 3000 features from tf-idf vectorizers using idf_ score.</li>\n",
        "    <li>You need to calculate the co-occurrence matrix with the selected features (Note: X.X^T\n",
        "doesn’t give the co-occurrence matrix, it returns the covariance matrix, check these\n",
        "        bolgs <a href='https://medium.com/data-science-group-iitr/word-embedding-2d05d270b285'>blog-1,</a> <a href='https://www.analyticsvidhya.com/blog/2017/06/word-embeddings-count-word2veec/'>blog-2 </a>for more information)</li>\n",
        "            <li>You should choose the n_components in truncated svd, with maximum explained\n",
        "variance. Please search on how to choose that and implement them. (hint: plot of\n",
        "cumulative explained variance ratio)</li>\n",
        "            <li>After you are done with the truncated svd, you can apply K-Means clustering and choose\n",
        "the best number of clusters based on elbow method.</li>\n",
        "            <li> Print out wordclouds for each cluster, similar to that in previous assignment. </li>\n",
        "            <li>You need to write a function that takes a word and returns the most similar words using\n",
        "cosine similarity between the vectors(vector: a row in the matrix after truncatedSVD)</li>\n",
        "        </ul>\n",
        "    </li>\n",
        "    <br>\n",
        "    \n",
        "</ol>"
      ]
    },
    {
      "cell_type": "markdown",
      "metadata": {
        "id": "9J6ObJ9dCha_",
        "colab_type": "text"
      },
      "source": [
        "## Truncated-SVD"
      ]
    },
    {
      "cell_type": "markdown",
      "metadata": {
        "id": "MkBTVWfDChbA",
        "colab_type": "text"
      },
      "source": [
        "### [5.1] Taking top features from TFIDF,<font color='red'> SET 2</font>"
      ]
    },
    {
      "cell_type": "code",
      "metadata": {
        "id": "cKI44V1HChbB",
        "colab_type": "code",
        "colab": {}
      },
      "source": [
        "# Please write all the code with proper documentation"
      ],
      "execution_count": 0,
      "outputs": []
    },
    {
      "cell_type": "code",
      "metadata": {
        "id": "xL4rZaRexD3l",
        "colab_type": "code",
        "colab": {}
      },
      "source": [
        "top_feat = tf_idf_vect.get_feature_names()"
      ],
      "execution_count": 0,
      "outputs": []
    },
    {
      "cell_type": "markdown",
      "metadata": {
        "id": "PiC8j4H4ChbF",
        "colab_type": "text"
      },
      "source": [
        "### [5.2] Calulation of Co-occurrence matrix"
      ]
    },
    {
      "cell_type": "code",
      "metadata": {
        "id": "y0arBDQtChbG",
        "colab_type": "code",
        "colab": {}
      },
      "source": [
        "# Please write all the code with proper documentation"
      ],
      "execution_count": 0,
      "outputs": []
    },
    {
      "cell_type": "code",
      "metadata": {
        "id": "4gOL5Wuu3ARi",
        "colab_type": "code",
        "colab": {}
      },
      "source": [
        "#https://stackoverflow.com/questions/41661801/python-calculate-the-co-occurrence-matrix/41663359\n",
        "#https://subscription.packtpub.com/book/big_data_and_business_intelligence/9781783989485/1/ch01lvl1sec21/using-truncated-svd-to-reduce-dimensionality\n",
        "m = np.zeros([length,length]) # n is the count of all words\n",
        "def cal_occ(sentence,m):\n",
        "    for i,word in enumerate(sentence):\n",
        "        for j in range(max(i-window,0),min(i+window,length)):\n",
        "             m[word,sentence[j]]+=1\n",
        "for sentence in X:\n",
        "    cal_occ(sentence, m)"
      ],
      "execution_count": 0,
      "outputs": []
    },
    {
      "cell_type": "code",
      "metadata": {
        "id": "Bgn5Jd4XxLAE",
        "colab_type": "code",
        "outputId": "f15afe68-6a43-4808-b5db-9655290e0fd9",
        "colab": {
          "base_uri": "https://localhost:8080/",
          "height": 34
        }
      },
      "source": [
        "#https://linguistics.stackexchange.com/questions/3641/how-to-calculate-the-co-occurrence-between-two-words-in-a-window-of-text\n",
        "#https://stackoverflow.com/questions/41661801/python-calculate-the-co-occurrence-matrix/41663359\n",
        "#https://stackoverflow.com/questions/35562789/how-do-i-calculate-a-word-word-co-occurrence-matrix-with-sklearn\n",
        "#https://www.sciencedirect.com/topics/engineering/cooccurrence-matrix\n",
        "\n",
        "from tqdm import tqdm\n",
        "n_neighbor = 5\n",
        "Cv_matrix = np.zeros((2000,2000))\n",
        "for row in tqdm(X1.values):\n",
        "    words_in_row = row.split()\n",
        "    for index,word in enumerate(words_in_row):\n",
        "        if word in top_feat:\n",
        "            for j in range(max(index-n_neighbor,0),min(index+n_neighbor,len(words_in_row)-1) + 1):\n",
        "                if words_in_row[j] in top_feat:\n",
        "                    Cv_matrix[top_feat.index(word),top_feat.index(words_in_row[j])] += 1\n",
        "                else:\n",
        "                    pass\n",
        "        else:\n",
        "            pass"
      ],
      "execution_count": 0,
      "outputs": [
        {
          "output_type": "stream",
          "text": [
            "100%|██████████| 228567/228567 [50:23<00:00, 75.59it/s]\n"
          ],
          "name": "stderr"
        }
      ]
    },
    {
      "cell_type": "markdown",
      "metadata": {
        "id": "4kRIoxNBChbJ",
        "colab_type": "text"
      },
      "source": [
        "### [5.3] Finding optimal value for number of components (n) to be retained."
      ]
    },
    {
      "cell_type": "code",
      "metadata": {
        "id": "oeWt8Zj0ChbK",
        "colab_type": "code",
        "colab": {}
      },
      "source": [
        "# Please write all the code with proper documentation"
      ],
      "execution_count": 0,
      "outputs": []
    },
    {
      "cell_type": "code",
      "metadata": {
        "id": "Ll8_ipxySRi8",
        "colab_type": "code",
        "colab": {}
      },
      "source": [
        "#https://towardsdatascience.com/pca-and-svd-explained-with-numpy-5d13b0d2a4d8\n",
        "#https://stats.stackexchange.com/questions/134282/relationship-between-svd-and-pca-how-to-use-svd-to-perform-pca\n",
        "#from search\n",
        "def plotCumulativeVariance(self, co_occurrence_matrix):\n",
        "        #Applying TruncatedSVD\n",
        "        from sklearn.decomposition import TruncatedSVD\n",
        "        max_features = co_occurrence_matrix.shape[1]-1\n",
        "        svd = TruncatedSVD(n_components=max_features)\n",
        "        svd_data = svd.fit_transform(co_occurrence_matrix)\n",
        "        percentage_var_explained = svd.explained_variance_ / np.sum(svd.explained_variance_)\n",
        "        cum_var_explained = np.cumsum(percentage_var_explained)\n",
        "        # Plot the TrunvatedSVD spectrum\n",
        "        plt.figure(1, figsize=(6, 4))\n",
        "        plt.clf()\n",
        "        plt.plot(cum_var_explained, linewidth=2)\n",
        "        plt.axis('tight')\n",
        "        plt.grid()\n",
        "        plt.xlabel('n_components')\n",
        "        plt.ylabel('Cumulative_explained_variance')\n",
        "        plt.title(\"Cumulative_explained_variance VS n_components\")\n",
        "        plt.show()"
      ],
      "execution_count": 0,
      "outputs": []
    },
    {
      "cell_type": "code",
      "metadata": {
        "id": "nmjbImd2TR6z",
        "colab_type": "code",
        "outputId": "cf91cd9a-5b42-46c2-fff9-42cbab6e03f3",
        "colab": {
          "base_uri": "https://localhost:8080/",
          "height": 296
        }
      },
      "source": [
        "plotCumulativeVariance(6,Cv_matrix)"
      ],
      "execution_count": 0,
      "outputs": [
        {
          "output_type": "display_data",
          "data": {
            "image/png": "[encoded data removed]",
            "text/plain": [
              "<Figure size 432x288 with 1 Axes>"
            ]
          },
          "metadata": {
            "tags": []
          }
        }
      ]
    },
    {
      "cell_type": "markdown",
      "metadata": {
        "id": "CjqXnEtoChbl",
        "colab_type": "text"
      },
      "source": [
        "### [5.4] Applying k-means clustering"
      ]
    },
    {
      "cell_type": "code",
      "metadata": {
        "id": "Tfpn89DQChbn",
        "colab_type": "code",
        "colab": {}
      },
      "source": [
        "# Please write all the code with proper documentation"
      ],
      "execution_count": 0,
      "outputs": []
    },
    {
      "cell_type": "code",
      "metadata": {
        "id": "XCAh_EnxUl9f",
        "colab_type": "code",
        "colab": {}
      },
      "source": [
        "#Code from previous assignment\n",
        "from sklearn.preprocessing import StandardScaler\n",
        "from sklearn.cluster import KMeans\n",
        "from sklearn.metrics import roc_curve, auc, roc_auc_score"
      ],
      "execution_count": 0,
      "outputs": []
    },
    {
      "cell_type": "code",
      "metadata": {
        "id": "PD0Ri3zPUmAg",
        "colab_type": "code",
        "colab": {}
      },
      "source": [
        "k1 = [2,3,4,5,6,7,8,9,10]\n",
        "inertia = []\n",
        "for i in k1:\n",
        "    kmeans1 = KMeans(n_clusters=i, n_jobs=-1,init='k-means++', max_iter=100, n_init=1)\n",
        "    kmeans1.fit(final_tf_idf)\n",
        "    inertia.append(kmeans1.inertia_)"
      ],
      "execution_count": 0,
      "outputs": []
    },
    {
      "cell_type": "code",
      "metadata": {
        "id": "PzFocKxLVLkJ",
        "colab_type": "code",
        "outputId": "d6246894-9b84-460c-f19e-a20bf104335e",
        "colab": {
          "base_uri": "https://localhost:8080/",
          "height": 304
        }
      },
      "source": [
        "# Draw Loss VS K values plot\n",
        "plt.plot(k1, inertia)\n",
        "plt.xlabel('K',size=14)\n",
        "plt.ylabel('inertia',size=14)\n",
        "plt.title('plot k vs inertia',size=18)\n",
        "plt.grid()\n",
        "plt.show()"
      ],
      "execution_count": 0,
      "outputs": [
        {
          "output_type": "display_data",
          "data": {
            "image/png": "[encoded data removed]",
            "text/plain": [
              "<Figure size 432x288 with 1 Axes>"
            ]
          },
          "metadata": {
            "tags": []
          }
        }
      ]
    },
    {
      "cell_type": "code",
      "metadata": {
        "id": "Ds6wl3SyVTNp",
        "colab_type": "code",
        "outputId": "5a80fc7f-cfa0-4eb0-aa62-770fc64740fc",
        "colab": {
          "base_uri": "https://localhost:8080/",
          "height": 69
        }
      },
      "source": [
        "optk=5\n",
        "kmeans1 = KMeans(n_clusters=optk, n_jobs=-1,init='k-means++', max_iter=100, n_init=1)\n",
        "kmeans1.fit(final_tf_idf)"
      ],
      "execution_count": 0,
      "outputs": [
        {
          "output_type": "execute_result",
          "data": {
            "text/plain": [
              "KMeans(algorithm='auto', copy_x=True, init='k-means++', max_iter=100,\n",
              "       n_clusters=5, n_init=1, n_jobs=-1, precompute_distances='auto',\n",
              "       random_state=None, tol=0.0001, verbose=0)"
            ]
          },
          "metadata": {
            "tags": []
          },
          "execution_count": 35
        }
      ]
    },
    {
      "cell_type": "code",
      "metadata": {
        "id": "gvbx4gC_VLna",
        "colab_type": "code",
        "outputId": "0a10c777-0b76-4ad4-8d58-86367bcb6dff",
        "colab": {
          "base_uri": "https://localhost:8080/",
          "height": 1074
        }
      },
      "source": [
        "print(\"Top terms per cluster:\")\n",
        "order_centroids = kmeans1.cluster_centers_.argsort()[:, ::-1]\n",
        "terms = tf_idf_vect.get_feature_names()\n",
        "for i in range(optk):\n",
        "    print (\"Cluster %d:\" % i,)\n",
        "    for ind in order_centroids[i, :10]:\n",
        "      #print(\"Cluster %d:\" % terms[ind], end=\" \")\n",
        "        print (' %s' % terms[ind],)\n",
        "       \n",
        "    print()"
      ],
      "execution_count": 0,
      "outputs": [
        {
          "output_type": "stream",
          "text": [
            "Top terms per cluster:\n",
            "Cluster 0:\n",
            " tea\n",
            " green\n",
            " green tea\n",
            " not\n",
            " teas\n",
            " flavor\n",
            " drink\n",
            " like\n",
            " good\n",
            " taste\n",
            "\n",
            "Cluster 1:\n",
            " coffee\n",
            " cup\n",
            " not\n",
            " like\n",
            " flavor\n",
            " good\n",
            " cups\n",
            " taste\n",
            " strong\n",
            " great\n",
            "\n",
            "Cluster 2:\n",
            " not\n",
            " product\n",
            " good\n",
            " great\n",
            " like\n",
            " taste\n",
            " one\n",
            " love\n",
            " would\n",
            " amazon\n",
            "\n",
            "Cluster 3:\n",
            " dog\n",
            " food\n",
            " dogs\n",
            " treats\n",
            " cat\n",
            " not\n",
            " loves\n",
            " cats\n",
            " treat\n",
            " dog food\n",
            "\n",
            "Cluster 4:\n",
            " use\n",
            " not\n",
            " water\n",
            " sauce\n",
            " great\n",
            " free\n",
            " like\n",
            " mix\n",
            " gluten\n",
            " good\n",
            "\n"
          ],
          "name": "stdout"
        }
      ]
    },
    {
      "cell_type": "code",
      "metadata": {
        "id": "Jayi8vnIVLp1",
        "colab_type": "code",
        "colab": {}
      },
      "source": [
        ""
      ],
      "execution_count": 0,
      "outputs": []
    },
    {
      "cell_type": "markdown",
      "metadata": {
        "id": "U4Gb79QfChbu",
        "colab_type": "text"
      },
      "source": [
        "### [5.5] Wordclouds of clusters obtained in the above section"
      ]
    },
    {
      "cell_type": "code",
      "metadata": {
        "id": "mEWn4eD7Chbv",
        "colab_type": "code",
        "colab": {}
      },
      "source": [
        "# Please write all the code with proper documentation"
      ],
      "execution_count": 0,
      "outputs": []
    },
    {
      "cell_type": "code",
      "metadata": {
        "id": "db2TWpkEVW61",
        "colab_type": "code",
        "colab": {}
      },
      "source": [
        "#Plot each cluster features in a cloud\n",
        "from wordcloud import WordCloud\n",
        "import matplotlib.pyplot as plt\n",
        "%matplotlib inline\n",
        "def plot_cluster_cloud1(features, coef):\n",
        "    coef_df = pd.DataFrame(coef, columns = features)\n",
        "    print(len(coef_df))\n",
        "    # Create a figure and set of 15 subplots because our k range is in between \n",
        "    fig, axes = plt.subplots(3, 1, figsize = (10, 15))\n",
        "    fig.suptitle(\"Top 20 words for each cluster \", fontsize = 30)\n",
        "    cent = range(len(coef_df))\n",
        "    for ax, i in zip(axes.flat, cent):\n",
        "        wordcloud = WordCloud(background_color = \"white\").generate_from_frequencies(coef_df.iloc[i,:].sort_values(ascending = False)[0:20])\n",
        "        ax.imshow(wordcloud)\n",
        "        ax.set_title(\"Cluster {} word cloud\".format(i+1), fontsize = 30)\n",
        "        ax.axis(\"off\")\n",
        "    plt.tight_layout()\n",
        "    fig.subplots_adjust(top = 0.90)\n",
        "    plt.show()"
      ],
      "execution_count": 0,
      "outputs": []
    },
    {
      "cell_type": "code",
      "metadata": {
        "id": "s2Y5cX5UVW9u",
        "colab_type": "code",
        "colab": {}
      },
      "source": [
        "features = tf_idf_vect.get_feature_names()\n",
        "coef = kmeans1.cluster_centers_\n"
      ],
      "execution_count": 0,
      "outputs": []
    },
    {
      "cell_type": "code",
      "metadata": {
        "id": "LCf2vEu_VcMP",
        "colab_type": "code",
        "outputId": "8c4292a9-ecc4-47d7-9268-4870736a0a7e",
        "colab": {
          "base_uri": "https://localhost:8080/",
          "height": 1097
        }
      },
      "source": [
        "plot_cluster_cloud1(features, coef)"
      ],
      "execution_count": 0,
      "outputs": [
        {
          "output_type": "stream",
          "text": [
            "5\n"
          ],
          "name": "stdout"
        },
        {
          "output_type": "display_data",
          "data": {
            "image/png": "[encoded data removed]",
            "text/plain": [
              "<Figure size 720x1080 with 3 Axes>"
            ]
          },
          "metadata": {
            "tags": []
          }
        }
      ]
    },
    {
      "cell_type": "markdown",
      "metadata": {
        "id": "jXT2kiRgChb0",
        "colab_type": "text"
      },
      "source": [
        "### [5.6] Function that returns most similar words for a given word."
      ]
    },
    {
      "cell_type": "code",
      "metadata": {
        "id": "IdTy3BRYChb1",
        "colab_type": "code",
        "colab": {}
      },
      "source": [
        "# Please write all the code with proper documentation"
      ],
      "execution_count": 0,
      "outputs": []
    },
    {
      "cell_type": "code",
      "metadata": {
        "id": "peIFfY8Apa5F",
        "colab_type": "code",
        "colab": {}
      },
      "source": [
        "#https://www.programcreek.com/python/example/100424/sklearn.metrics.pairwise.cosine_similarity\n",
        "#http://scikit-learn.org/stable/modules/metrics.html#cosine-similarity\n",
        "from sklearn.metrics.pairwise import cosine_similarity\n",
        "def similar_word_10(word):\n",
        "    similarity = cosine_similarity(Cv_matrix)\n",
        "    word_vect = similarity[top_feat.index(word)]\n",
        "    print(\"Similar Word to\",word)\n",
        "    index = word_vect.argsort()[::-1][1:11]\n",
        "    for j in range(len(index)):\n",
        "        print((j+1),\"Word\",top_feat[index[j]] ,\"is similar to\",word,\"\\n\")"
      ],
      "execution_count": 0,
      "outputs": []
    },
    {
      "cell_type": "code",
      "metadata": {
        "id": "DuhW_oTMpa8r",
        "colab_type": "code",
        "outputId": "b243f5ca-1231-474a-cf9f-c8bd3b5bdbef",
        "colab": {
          "base_uri": "https://localhost:8080/",
          "height": 381
        }
      },
      "source": [
        "similar_word_10(top_feat[1])"
      ],
      "execution_count": 0,
      "outputs": [
        {
          "output_type": "stream",
          "text": [
            "Similar Word to able find\n",
            "1 Word funny is similar to able find \n",
            "\n",
            "2 Word friend is similar to able find \n",
            "\n",
            "3 Word friends is similar to able find \n",
            "\n",
            "4 Word front is similar to able find \n",
            "\n",
            "5 Word frozen is similar to able find \n",
            "\n",
            "6 Word fructose is similar to able find \n",
            "\n",
            "7 Word fructose corn is similar to able find \n",
            "\n",
            "8 Word fruit is similar to able find \n",
            "\n",
            "9 Word fruits is similar to able find \n",
            "\n",
            "10 Word fruity is similar to able find \n",
            "\n"
          ],
          "name": "stdout"
        }
      ]
    },
    {
      "cell_type": "code",
      "metadata": {
        "id": "mFpK8RVipc0j",
        "colab_type": "code",
        "colab": {}
      },
      "source": [
        ""
      ],
      "execution_count": 0,
      "outputs": []
    },
    {
      "cell_type": "markdown",
      "metadata": {
        "id": "jRkMCPCyChb6",
        "colab_type": "text"
      },
      "source": [
        "# [6] Conclusions"
      ]
    },
    {
      "cell_type": "code",
      "metadata": {
        "id": "LhWddXu6Chb7",
        "colab_type": "code",
        "colab": {}
      },
      "source": [
        "# Please write down few lines about what you observed from this assignment. \n",
        "# Also please do mention the optimal values that you obtained for number of components & number of clusters."
      ],
      "execution_count": 0,
      "outputs": []
    },
    {
      "cell_type": "markdown",
      "metadata": {
        "id": "tIDIdn9yhLvA",
        "colab_type": "text"
      },
      "source": [
        "# **Observations**\n",
        " The datastae is vectorised using TFIDF. Co-occurence matrix is calculated. Truncated SVD is applied.Optimal value is ranging from 0.9 to 1 near to 150 components.Used 100K data points for modelling.\n",
        " \n",
        " K-means clustering is applied to identify clusters. Optimal cluster number obtained using elbow plot. Word cloud is plotted. Similar words are printed."
      ]
    }
  ]
}