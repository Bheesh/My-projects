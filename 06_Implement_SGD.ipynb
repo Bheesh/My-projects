{
  "nbformat": 4,
  "nbformat_minor": 0,
  "metadata": {
    "colab": {
      "name": "06 Implement SGD.ipynb",
      "version": "0.3.2",
      "provenance": [],
      "collapsed_sections": []
    },
    "kernelspec": {
      "name": "python3",
      "display_name": "Python 3"
    },
    "accelerator": "GPU"
  },
  "cells": [
    {
      "cell_type": "code",
      "metadata": {
        "id": "REYPoTJ1Af7u",
        "colab_type": "code",
        "colab": {}
      },
      "source": [
        "import warnings\n",
        "warnings.filterwarnings(\"ignore\")\n",
        "from sklearn.datasets import load_boston\n",
        "from random import seed\n",
        "from random import randrange\n",
        "from csv import reader\n",
        "from math import sqrt\n",
        "from sklearn import preprocessing\n",
        "import pandas as pd\n",
        "import numpy as np\n",
        "import matplotlib.pyplot as plt\n",
        "from prettytable import PrettyTable\n",
        "from sklearn.linear_model import SGDRegressor\n",
        "from sklearn import preprocessing\n",
        "from sklearn.metrics import mean_squared_error"
      ],
      "execution_count": 0,
      "outputs": []
    },
    {
      "cell_type": "code",
      "metadata": {
        "id": "NTQ2iH-kAwbo",
        "colab_type": "code",
        "colab": {}
      },
      "source": [
        "X = load_boston().data\n",
        "Y = load_boston().target"
      ],
      "execution_count": 0,
      "outputs": []
    },
    {
      "cell_type": "code",
      "metadata": {
        "id": "R-RZIMylSwko",
        "colab_type": "code",
        "outputId": "0dc9d818-db63-4d4f-acd0-2b305fb3881f",
        "colab": {
          "base_uri": "https://localhost:8080/",
          "height": 33
        }
      },
      "source": [
        "X.shape\n"
      ],
      "execution_count": 4,
      "outputs": [
        {
          "output_type": "execute_result",
          "data": {
            "text/plain": [
              "(506, 13)"
            ]
          },
          "metadata": {
            "tags": []
          },
          "execution_count": 4
        }
      ]
    },
    {
      "cell_type": "code",
      "metadata": {
        "id": "tALFaW3VSztX",
        "colab_type": "code",
        "outputId": "14d7d87a-fe8f-4ecd-9f57-1310f143a15a",
        "colab": {
          "base_uri": "https://localhost:8080/",
          "height": 33
        }
      },
      "source": [
        "Y.shape"
      ],
      "execution_count": 5,
      "outputs": [
        {
          "output_type": "execute_result",
          "data": {
            "text/plain": [
              "(506,)"
            ]
          },
          "metadata": {
            "tags": []
          },
          "execution_count": 5
        }
      ]
    },
    {
      "cell_type": "code",
      "metadata": {
        "id": "gSEvtlV8HFKv",
        "colab_type": "code",
        "colab": {}
      },
      "source": [
        "from sklearn.model_selection import train_test_split\n",
        "\n",
        "X_train, X_test, Y_train, Y_test = train_test_split(X, Y, test_size = 0.2, random_state=5)\n"
      ],
      "execution_count": 0,
      "outputs": []
    },
    {
      "cell_type": "code",
      "metadata": {
        "id": "yy7lSi2WvErN",
        "colab_type": "code",
        "outputId": "5eca1f57-fd68-4645-f7c1-ffaccc8934b0",
        "colab": {
          "base_uri": "https://localhost:8080/",
          "height": 82
        }
      },
      "source": [
        "print(X_train.shape)\n",
        "print(X_test.shape)\n",
        "print(Y_train.shape)\n",
        "print(Y_test.shape)"
      ],
      "execution_count": 7,
      "outputs": [
        {
          "output_type": "stream",
          "text": [
            "(404, 13)\n",
            "(102, 13)\n",
            "(404,)\n",
            "(102,)\n"
          ],
          "name": "stdout"
        }
      ]
    },
    {
      "cell_type": "code",
      "metadata": {
        "id": "FgUW39s6Be0U",
        "colab_type": "code",
        "colab": {}
      },
      "source": [
        "# Data standardization\n",
        "from sklearn.preprocessing import StandardScaler\n",
        "std = StandardScaler()\n",
        "X_train = std.fit_transform(X_train)\n",
        "X_test = std.transform(X_test)"
      ],
      "execution_count": 0,
      "outputs": []
    },
    {
      "cell_type": "code",
      "metadata": {
        "id": "WIzLCpzfm7iJ",
        "colab_type": "code",
        "colab": {
          "base_uri": "https://localhost:8080/",
          "height": 82
        },
        "outputId": "9bb3ecc8-fcfe-4aa7-8a3c-7f5b9d9ab0cb"
      },
      "source": [
        "print(X_train.shape)\n",
        "print(X_test.shape)\n",
        "print(Y_train.shape)\n",
        "print(Y_test.shape)"
      ],
      "execution_count": 9,
      "outputs": [
        {
          "output_type": "stream",
          "text": [
            "(404, 13)\n",
            "(102, 13)\n",
            "(404,)\n",
            "(102,)\n"
          ],
          "name": "stdout"
        }
      ]
    },
    {
      "cell_type": "code",
      "metadata": {
        "id": "RiHZmmLJE8Do",
        "colab_type": "code",
        "colab": {}
      },
      "source": [
        "df=pd.DataFrame(X_train)"
      ],
      "execution_count": 0,
      "outputs": []
    },
    {
      "cell_type": "code",
      "metadata": {
        "id": "ZtXf6dI5MRr-",
        "colab_type": "code",
        "colab": {
          "base_uri": "https://localhost:8080/",
          "height": 191
        },
        "outputId": "878fadb1-c067-400c-af22-1330a929f30d"
      },
      "source": [
        "df['price']=Y_train\n",
        "df.head()"
      ],
      "execution_count": 11,
      "outputs": [
        {
          "output_type": "execute_result",
          "data": {
            "text/html": [
              "<div>\n",
              "<style scoped>\n",
              "    .dataframe tbody tr th:only-of-type {\n",
              "        vertical-align: middle;\n",
              "    }\n",
              "\n",
              "    .dataframe tbody tr th {\n",
              "        vertical-align: top;\n",
              "    }\n",
              "\n",
              "    .dataframe thead th {\n",
              "        text-align: right;\n",
              "    }\n",
              "</style>\n",
              "<table border=\"1\" class=\"dataframe\">\n",
              "  <thead>\n",
              "    <tr style=\"text-align: right;\">\n",
              "      <th></th>\n",
              "      <th>0</th>\n",
              "      <th>1</th>\n",
              "      <th>2</th>\n",
              "      <th>3</th>\n",
              "      <th>4</th>\n",
              "      <th>5</th>\n",
              "      <th>6</th>\n",
              "      <th>7</th>\n",
              "      <th>8</th>\n",
              "      <th>9</th>\n",
              "      <th>10</th>\n",
              "      <th>11</th>\n",
              "      <th>12</th>\n",
              "      <th>price</th>\n",
              "    </tr>\n",
              "  </thead>\n",
              "  <tbody>\n",
              "    <tr>\n",
              "      <th>0</th>\n",
              "      <td>-0.276470</td>\n",
              "      <td>-0.507766</td>\n",
              "      <td>-0.402012</td>\n",
              "      <td>-0.272888</td>\n",
              "      <td>-0.118484</td>\n",
              "      <td>-0.848834</td>\n",
              "      <td>0.963877</td>\n",
              "      <td>-0.022455</td>\n",
              "      <td>-0.636453</td>\n",
              "      <td>-0.583618</td>\n",
              "      <td>1.175619</td>\n",
              "      <td>-0.000302</td>\n",
              "      <td>0.835288</td>\n",
              "      <td>13.1</td>\n",
              "    </tr>\n",
              "    <tr>\n",
              "      <th>1</th>\n",
              "      <td>-0.407464</td>\n",
              "      <td>3.331365</td>\n",
              "      <td>-1.431888</td>\n",
              "      <td>3.664502</td>\n",
              "      <td>-1.314148</td>\n",
              "      <td>2.361809</td>\n",
              "      <td>-1.516597</td>\n",
              "      <td>0.999022</td>\n",
              "      <td>-0.981745</td>\n",
              "      <td>-1.231926</td>\n",
              "      <td>-2.202859</td>\n",
              "      <td>0.412907</td>\n",
              "      <td>-1.325495</td>\n",
              "      <td>50.0</td>\n",
              "    </tr>\n",
              "    <tr>\n",
              "      <th>2</th>\n",
              "      <td>8.064832</td>\n",
              "      <td>-0.507766</td>\n",
              "      <td>1.078157</td>\n",
              "      <td>-0.272888</td>\n",
              "      <td>1.112090</td>\n",
              "      <td>-0.478931</td>\n",
              "      <td>1.140549</td>\n",
              "      <td>-0.988813</td>\n",
              "      <td>1.665490</td>\n",
              "      <td>1.551633</td>\n",
              "      <td>0.810378</td>\n",
              "      <td>-3.849276</td>\n",
              "      <td>1.158196</td>\n",
              "      <td>8.8</td>\n",
              "    </tr>\n",
              "    <tr>\n",
              "      <th>3</th>\n",
              "      <td>-0.403977</td>\n",
              "      <td>-0.507766</td>\n",
              "      <td>0.161225</td>\n",
              "      <td>-0.272888</td>\n",
              "      <td>0.186977</td>\n",
              "      <td>-0.243407</td>\n",
              "      <td>0.317257</td>\n",
              "      <td>-0.752702</td>\n",
              "      <td>-0.981745</td>\n",
              "      <td>-0.785842</td>\n",
              "      <td>1.175619</td>\n",
              "      <td>0.428424</td>\n",
              "      <td>-0.483373</td>\n",
              "      <td>20.6</td>\n",
              "    </tr>\n",
              "    <tr>\n",
              "      <th>4</th>\n",
              "      <td>0.696610</td>\n",
              "      <td>-0.507766</td>\n",
              "      <td>1.078157</td>\n",
              "      <td>-0.272888</td>\n",
              "      <td>1.234274</td>\n",
              "      <td>0.166954</td>\n",
              "      <td>1.140549</td>\n",
              "      <td>-1.068474</td>\n",
              "      <td>1.665490</td>\n",
              "      <td>1.551633</td>\n",
              "      <td>0.810378</td>\n",
              "      <td>0.194665</td>\n",
              "      <td>1.114099</td>\n",
              "      <td>12.1</td>\n",
              "    </tr>\n",
              "  </tbody>\n",
              "</table>\n",
              "</div>"
            ],
            "text/plain": [
              "          0         1         2         3  ...        10        11        12  price\n",
              "0 -0.276470 -0.507766 -0.402012 -0.272888  ...  1.175619 -0.000302  0.835288   13.1\n",
              "1 -0.407464  3.331365 -1.431888  3.664502  ... -2.202859  0.412907 -1.325495   50.0\n",
              "2  8.064832 -0.507766  1.078157 -0.272888  ...  0.810378 -3.849276  1.158196    8.8\n",
              "3 -0.403977 -0.507766  0.161225 -0.272888  ...  1.175619  0.428424 -0.483373   20.6\n",
              "4  0.696610 -0.507766  1.078157 -0.272888  ...  0.810378  0.194665  1.114099   12.1\n",
              "\n",
              "[5 rows x 14 columns]"
            ]
          },
          "metadata": {
            "tags": []
          },
          "execution_count": 11
        }
      ]
    },
    {
      "cell_type": "markdown",
      "metadata": {
        "id": "vAg5Qm__GDtL",
        "colab_type": "text"
      },
      "source": [
        "## **Linear model from Sklearn**"
      ]
    },
    {
      "cell_type": "code",
      "metadata": {
        "id": "vOXCWZtrFWYm",
        "colab_type": "code",
        "outputId": "78ff759b-db5f-433b-adba-d32cb9c3d5f5",
        "colab": {
          "base_uri": "https://localhost:8080/",
          "height": 33
        }
      },
      "source": [
        "from sklearn.linear_model import LinearRegression\n",
        "lin_model = LinearRegression()\n",
        "lin_model.fit(X_train, Y_train)"
      ],
      "execution_count": 12,
      "outputs": [
        {
          "output_type": "execute_result",
          "data": {
            "text/plain": [
              "LinearRegression(copy_X=True, fit_intercept=True, n_jobs=None, normalize=False)"
            ]
          },
          "metadata": {
            "tags": []
          },
          "execution_count": 12
        }
      ]
    },
    {
      "cell_type": "code",
      "metadata": {
        "id": "kJsv-r3TvYb7",
        "colab_type": "code",
        "outputId": "9ed483d3-25cc-4cc7-d49a-422e175946a5",
        "colab": {
          "base_uri": "https://localhost:8080/",
          "height": 311
        }
      },
      "source": [
        "from sklearn.linear_model import LinearRegression\n",
        "\n",
        "lm = LinearRegression()\n",
        "lm.fit(X_train, Y_train)\n",
        "\n",
        "Y_pred = lm.predict(X_test)\n",
        "\n",
        "plt.scatter(Y_test, Y_pred)\n",
        "plt.xlabel(\"Prices:\")\n",
        "plt.ylabel(\"Predicted prices: \")\n",
        "plt.title(\"Prices vs Predicted prices: \")\n",
        "\n",
        "mse_lr = mean_squared_error(Y_test, Y_pred)\n",
        "print(mse_lr)"
      ],
      "execution_count": 13,
      "outputs": [
        {
          "output_type": "stream",
          "text": [
            "20.86929218377082\n"
          ],
          "name": "stdout"
        },
        {
          "output_type": "display_data",
          "data": {
            "image/png": "[encoded data removed]",
            "text/plain": [
              "<Figure size 432x288 with 1 Axes>"
            ]
          },
          "metadata": {
            "tags": []
          }
        }
      ]
    },
    {
      "cell_type": "code",
      "metadata": {
        "id": "QOfIxGX_ZHTI",
        "colab_type": "code",
        "colab": {
          "base_uri": "https://localhost:8080/",
          "height": 33
        },
        "outputId": "99bbc68e-81cd-4cd5-fc05-cc6e4ae1b913"
      },
      "source": [
        "mse_lr = mean_squared_error(Y_test, Y_pred)\n",
        "print(mse_lr)"
      ],
      "execution_count": 14,
      "outputs": [
        {
          "output_type": "stream",
          "text": [
            "20.86929218377082\n"
          ],
          "name": "stdout"
        }
      ]
    },
    {
      "cell_type": "markdown",
      "metadata": {
        "id": "ICIvgizsX7tz",
        "colab_type": "text"
      },
      "source": [
        "# **SKLearn SGDRegressor**"
      ]
    },
    {
      "cell_type": "code",
      "metadata": {
        "id": "Pg123yfxZoAl",
        "colab_type": "code",
        "colab": {}
      },
      "source": [
        ""
      ],
      "execution_count": 0,
      "outputs": []
    },
    {
      "cell_type": "code",
      "metadata": {
        "id": "SPUtLE33wKZr",
        "colab_type": "code",
        "outputId": "f1d2adfe-96d1-4e8e-a485-1fa82f5f2db3",
        "colab": {
          "base_uri": "https://localhost:8080/",
          "height": 473
        }
      },
      "source": [
        "sgdRegressor = SGDRegressor(penalty='l2',)\n",
        "sgdRegressor.fit(X_train,Y_train)\n",
        "\n",
        "predicted_sgd =  sgdRegressor.predict(X_test)\n",
        "\n",
        "print(\"MSE\",mean_squared_error(Y_test, predicted_sgd))\n",
        "\n",
        "\n",
        "print()\n",
        "plt.figure(figsize=(10,6))\n",
        "plt.rc('axes', labelsize=14) \n",
        "plt.scatter(Y_test,predicted_sgd,s=75,color=\"blue\",alpha=0.7)\n",
        "plt.xlabel(\"Prices:\")\n",
        "plt.ylabel(\"Predicted prices: \")\n",
        "plt.title(\"Prices vs Predicted prices: \")\n",
        "plt.show()\n",
        "print()\n",
        "print()"
      ],
      "execution_count": 15,
      "outputs": [
        {
          "output_type": "stream",
          "text": [
            "MSE 21.05326679398608\n",
            "\n"
          ],
          "name": "stdout"
        },
        {
          "output_type": "display_data",
          "data": {
            "image/png": "[encoded data removed]",
            "text/plain": [
              "<Figure size 720x432 with 1 Axes>"
            ]
          },
          "metadata": {
            "tags": []
          }
        },
        {
          "output_type": "stream",
          "text": [
            "\n",
            "\n"
          ],
          "name": "stdout"
        }
      ]
    },
    {
      "cell_type": "code",
      "metadata": {
        "id": "aSUhWktCHPCB",
        "colab_type": "code",
        "outputId": "7d2a0c7c-2236-4646-c8e2-e2edf264eeb8",
        "colab": {
          "base_uri": "https://localhost:8080/",
          "height": 33
        }
      },
      "source": [
        "mse_sgd = mean_squared_error(Y_test, predicted_sgd)\n",
        "print(mse_sgd)"
      ],
      "execution_count": 16,
      "outputs": [
        {
          "output_type": "stream",
          "text": [
            "21.05326679398608\n"
          ],
          "name": "stdout"
        }
      ]
    },
    {
      "cell_type": "code",
      "metadata": {
        "id": "KmdkiLn7Syfs",
        "colab_type": "code",
        "colab": {
          "base_uri": "https://localhost:8080/",
          "height": 66
        },
        "outputId": "39f54a73-771b-48b1-fdbf-ee0069a805d7"
      },
      "source": [
        "print (sgdRegressor.coef_)"
      ],
      "execution_count": 17,
      "outputs": [
        {
          "output_type": "stream",
          "text": [
            "[-1.10812782  1.05016701 -0.3214819   0.7393729  -1.71084504  2.45712183\n",
            " -0.03471135 -2.98742943  2.30374108 -1.34567607 -2.07921816  1.05875575\n",
            " -4.18980498]\n"
          ],
          "name": "stdout"
        }
      ]
    },
    {
      "cell_type": "markdown",
      "metadata": {
        "id": "yNcajDlO0cN7",
        "colab_type": "text"
      },
      "source": [
        "# **Implemented SGD**"
      ]
    },
    {
      "cell_type": "code",
      "metadata": {
        "id": "VJDeFuaK-Mqs",
        "colab_type": "code",
        "colab": {}
      },
      "source": [
        "#https://www.kaggle.com/tentotheminus9/linear-regression-from-scratch-gradient-descent\n",
        "#https://www.kdnuggets.com/2017/04/simple-understand-gradient-descent-algorithm.html"
      ],
      "execution_count": 0,
      "outputs": []
    },
    {
      "cell_type": "code",
      "metadata": {
        "id": "XHeX2kgGy8Ci",
        "colab_type": "code",
        "outputId": "1b98d31c-19cb-4990-a236-2f4dadcb0945",
        "colab": {
          "base_uri": "https://localhost:8080/",
          "height": 33
        }
      },
      "source": [
        "#GRADIENT DESCENT\n",
        "#Example\n",
        "\n",
        "'''alpha = 0.01 #Step size\n",
        "iterations = 2000 #No. of iterations\n",
        "m = Y.size #No. of data points\n",
        "np.random.seed(123) #Set the seed\n",
        "theta = np.random.rand(13) #Pick some random values to start with\n",
        "\n",
        "\n",
        "#GRADIENT DESCENT\n",
        "def gradient_descent(X, Y, theta, iterations, alpha):\n",
        "    past_costs = []\n",
        "    past_thetas = [theta]\n",
        "    for i in range(iterations):\n",
        "        prediction = np.dot(X, theta)\n",
        "        error = prediction - y\n",
        "        cost = 1/(2*m) * np.dot(error.T, error)\n",
        "        past_costs.append(cost)\n",
        "        theta = theta - (alpha * (1/m) * np.dot(X.T, error))\n",
        "        past_thetas.append(theta)\n",
        "        \n",
        "    return past_thetas, past_costs\n",
        "\n",
        "#Pass the relevant variables to the function and get the new values back...\n",
        "past_thetas, past_costs = gradient_descent(X, Y, theta, iterations, alpha)\n",
        "theta = past_thetas[-1]\n",
        "\n",
        "#Print the results...\n",
        "print(\"Gradient Descent: {:.2f}, {:.2f}\".format(theta[0], theta[1]))'''"
      ],
      "execution_count": 0,
      "outputs": [
        {
          "output_type": "stream",
          "text": [
            "Gradient Descent: nan, nan\n"
          ],
          "name": "stdout"
        }
      ]
    },
    {
      "cell_type": "code",
      "metadata": {
        "id": "BS69C5iqC73U",
        "colab_type": "code",
        "colab": {}
      },
      "source": [
        "'''for i in range(n_iterations):\n",
        "  gradients = 2/m * X_train1.T.dot(X_train1.dot(theta) - Y_train.reshape(-1,1))\n",
        "  if np.linalg.norm(X_train1) < tol:\n",
        "    break\n",
        "  theta = theta - (eta * gradients)\n",
        "print(gradients)'''"
      ],
      "execution_count": 0,
      "outputs": []
    },
    {
      "cell_type": "code",
      "metadata": {
        "id": "1LYpaDp7QoN5",
        "colab_type": "code",
        "colab": {}
      },
      "source": [
        "'''%matplotlib inline\n",
        "import matplotlib as mpl\n",
        "mpl.rcParams['figure.dpi']= 120\n",
        "import matplotlib.pyplot as plt\n",
        "import numpy as np\n",
        "\n",
        "def train(batch_size, lr, epochs, period):\n",
        "    assert period >= batch_size and period % batch_size == 0\n",
        "    w, b = init_params()\n",
        "    total_loss = [np.mean(square_loss(net(X, w, b), y).asnumpy())]\n",
        "    # Epoch starts from 1.\n",
        "    for epoch in range(1, epochs + 1):\n",
        "        # Decay learning rate.\n",
        "        if epoch > 2:\n",
        "            lr *= 0.1\n",
        "        for batch_i, data, label in data_iter(batch_size):\n",
        "            with autograd.record():\n",
        "                output = net(data, w, b)\n",
        "                loss = square_loss(output, label)\n",
        "            loss.backward()\n",
        "            sgd([w, b], lr, batch_size)\n",
        "            if batch_i * batch_size % period == 0:\n",
        "                total_loss.append(\n",
        "                    np.mean(square_loss(net(X, w, b), y).asnumpy()))\n",
        "        print(\"Batch size %d, Learning rate %f, Epoch %d, loss %.4e\" %\n",
        "              (batch_size, lr, epoch, total_loss[-1]))\n",
        "    print('w:', np.reshape(w.asnumpy(), (1, -1)),\n",
        "          'b:', b.asnumpy()[0], '\\n')\n",
        "    x_axis = np.linspace(0, epochs, len(total_loss), endpoint=True)\n",
        "    plt.semilogy(x_axis, total_loss)\n",
        "    plt.xlabel('epoch')\n",
        "    plt.ylabel('loss')\n",
        "    plt.show()''''''"
      ],
      "execution_count": 0,
      "outputs": []
    },
    {
      "cell_type": "code",
      "metadata": {
        "id": "Qki6cpdMQqpk",
        "colab_type": "code",
        "outputId": "96aa6688-240c-4517-cffc-413ebe8c301c",
        "colab": {
          "base_uri": "https://localhost:8080/",
          "height": 542
        }
      },
      "source": [
        "#train(batch_size=1, lr=0.2, epochs=3, period=10)"
      ],
      "execution_count": 0,
      "outputs": [
        {
          "output_type": "stream",
          "text": [
            "Batch size 1, Learning rate 0.200000, Epoch 1, loss 8.4869e-05\n",
            "Batch size 1, Learning rate 0.200000, Epoch 2, loss 5.1585e-05\n",
            "Batch size 1, Learning rate 0.020000, Epoch 3, loss 4.8704e-05\n",
            "w: [[ 2.001223 -3.40109 ]] b: 4.2015486 \n",
            "\n"
          ],
          "name": "stdout"
        },
        {
          "output_type": "display_data",
          "data": {
            "image/png": "[encoded data removed]",
            "text/plain": [
              "<Figure size 720x480 with 1 Axes>"
            ]
          },
          "metadata": {
            "tags": []
          }
        }
      ]
    },
    {
      "cell_type": "code",
      "metadata": {
        "id": "vmrMu9p39pER",
        "colab_type": "code",
        "colab": {}
      },
      "source": [
        "#https://stackoverflow.com/questions/48843721/python-gd-and-sgd-implementation-on-linear-regression"
      ],
      "execution_count": 0,
      "outputs": []
    },
    {
      "cell_type": "code",
      "metadata": {
        "id": "2qmryQDr9qZZ",
        "colab_type": "code",
        "colab": {}
      },
      "source": [
        "#https://stackoverflow.com/questions/49865952/implementing-gradient-descent-in-python-and-receiving-an-overflow-error"
      ],
      "execution_count": 0,
      "outputs": []
    },
    {
      "cell_type": "code",
      "metadata": {
        "id": "y3kH8PMsoaqH",
        "colab_type": "code",
        "colab": {}
      },
      "source": [
        "#Initialising values\n",
        "W=np.zeros(shape=(1,13))\n",
        "B=0\n",
        "step=500\n",
        "lr=0.01\n",
        "n=40\n",
        "\n",
        "\n",
        "while step>=0:\n",
        "    w,b,vec_cal,int_cal=W,B,np.zeros(shape=(1,13)),0\n",
        "    #Taking sample\n",
        "    batch=df.sample(40) \n",
        "    p=np.array(batch.drop('price',axis=1))\n",
        "    q=np.array(batch['price'])\n",
        "    #Gradient function calculation as of formula\n",
        "    for i in range(n):\n",
        "        vec_cal+=(-2)*p[i]*(q[i]-(np.dot(w,p[i])+b))\n",
        "        int_cal+=(-2)*(q[i]-(np.dot(w,p[i])+b))\n",
        "        \n",
        "    W=(w-lr*(vec_cal)/n)\n",
        "    B=(b-lr*(int_cal)/n)\n",
        "    \n",
        "    step-=1\n",
        "   "
      ],
      "execution_count": 0,
      "outputs": []
    },
    {
      "cell_type": "code",
      "metadata": {
        "id": "PnYn0Evj1sP-",
        "colab_type": "code",
        "colab": {
          "base_uri": "https://localhost:8080/",
          "height": 82
        },
        "outputId": "d28f6692-8f20-4d92-a034-29382dc50355"
      },
      "source": [
        "print(W)\n",
        "print(B)"
      ],
      "execution_count": 95,
      "outputs": [
        {
          "output_type": "stream",
          "text": [
            "[[-0.91164295  0.829762   -0.38271736  0.77480466 -1.33841202  2.53801258\n",
            "  -0.14505936 -2.73783934  1.77572633 -0.71655839 -1.92644488  0.97063177\n",
            "  -4.21214335]]\n",
            "[22.54369796]\n"
          ],
          "name": "stdout"
        }
      ]
    },
    {
      "cell_type": "code",
      "metadata": {
        "id": "n4ihB3AGfdza",
        "colab_type": "code",
        "colab": {}
      },
      "source": [
        "y_pred=[]\n",
        "for i in range(len(X_test)):\n",
        "    der=np.dot(W,X_test[i])+B  \n",
        "    y_pred.append(np.asscalar(der))"
      ],
      "execution_count": 0,
      "outputs": []
    },
    {
      "cell_type": "code",
      "metadata": {
        "id": "gdLWOQSubnQ9",
        "colab_type": "code",
        "colab": {
          "base_uri": "https://localhost:8080/",
          "height": 33
        },
        "outputId": "ee9d3b45-127d-41eb-f4f9-5ddf9b21956b"
      },
      "source": [
        "MSE_ms=mean_squared_error(Y_test,y_pred)\n",
        "print('mean squared error =',MSE_ms)\n"
      ],
      "execution_count": 92,
      "outputs": [
        {
          "output_type": "stream",
          "text": [
            "mean squared error = 20.523230432385088\n"
          ],
          "name": "stdout"
        }
      ]
    },
    {
      "cell_type": "code",
      "metadata": {
        "id": "jnwVU54I9Qzd",
        "colab_type": "code",
        "outputId": "1531619d-4b11-4089-91e4-30c8452becb2",
        "colab": {
          "base_uri": "https://localhost:8080/",
          "height": 300
        }
      },
      "source": [
        "# plot of actual price vs predicted price from manual SGD\n",
        "\n",
        "plt.scatter(Y_test,y_pred)\n",
        "plt.xlabel('Actual price')\n",
        "plt.ylabel('Predictd price')\n",
        "plt.title('Actual price vs Predicted price')\n",
        "plt.show()"
      ],
      "execution_count": 51,
      "outputs": [
        {
          "output_type": "display_data",
          "data": {
            "image/png": "[encoded data removed]",
            "text/plain": [
              "<Figure size 432x288 with 1 Axes>"
            ]
          },
          "metadata": {
            "tags": []
          }
        }
      ]
    },
    {
      "cell_type": "code",
      "metadata": {
        "id": "KhG1KXwphu7N",
        "colab_type": "code",
        "colab": {}
      },
      "source": [
        "'''import numpy as np\n",
        "import pandas as pd\n",
        "\n",
        "#X = [0.5, 2.5]\n",
        "#Y = [0.2, 0.9]\n",
        "\n",
        "X = load_boston().data\n",
        "Y = load_boston().target\n",
        "\n",
        "def f(w, b, x): #sigmoid with parameter w,b\n",
        "    return 1.0/(1.0 * np.exp(-(w * x + b)))\n",
        "\n",
        "\n",
        "def error(w, b):\n",
        "    err = 0.0\n",
        "    for x, y in zip(X, Y):\n",
        "        fx = f(w, b, x)\n",
        "        err += 0.5 * (fx - y)**2\n",
        "    return err\n",
        "\n",
        "def grad_b(w, b, x, y):\n",
        "    fx = f(w, b, x)\n",
        "    return (fx - y) * fx * (1 - fx)\n",
        "\n",
        "def grad_w(w, b, x, y):\n",
        "    fx = f(w, b, x)\n",
        "    return (fx - y) * fx * (1 - fx) * x\n",
        "\n",
        "def do_gradient_descent():\n",
        "    w, b, eta, max_epochs = 1, 1, 0.01, 100\n",
        "    for i in range(max_epochs):\n",
        "        dw, db = 0, 0\n",
        "        for x, y in zip(X, Y):\n",
        "            dw += grad_w(w, b, x, y)\n",
        "            db += grad_b(w, b, x, y)\n",
        "        w = w - eta * dw\n",
        "        print(w)\n",
        "        b = b - eta * db\n",
        "        print(b)\n",
        "    er = error(w, b)\n",
        "    #print(er)\n",
        "    return er\n",
        "##Calling Gradient Descent function\n",
        "do_gradient_descent()'''"
      ],
      "execution_count": 0,
      "outputs": []
    },
    {
      "cell_type": "code",
      "metadata": {
        "id": "k07d67x1xvoF",
        "colab_type": "code",
        "colab": {}
      },
      "source": [
        "#https://gluon.mxnet.io/chapter06_optimization/gd-sgd-scratch.html"
      ],
      "execution_count": 0,
      "outputs": []
    },
    {
      "cell_type": "code",
      "metadata": {
        "id": "8943_Bt19v9_",
        "colab_type": "code",
        "outputId": "9f9b54f5-5a7f-4b05-be57-9441aeccfdc1",
        "colab": {
          "base_uri": "https://localhost:8080/",
          "height": 441
        }
      },
      "source": [
        "\n",
        "plt.figure(figsize=(8,6))\n",
        "plt.rc('axes', labelsize=14) \n",
        "plt.scatter(Y_test, predicted_sgd,s=75,color=\"blue\", alpha=0.5,label='SGDRegressor')\n",
        "plt.scatter(Y_test, y_pred,s=75,color=\"red\", alpha=0.5,label='Manual SGDRegressor')\n",
        "plt.xlabel(\"Actual Prices:\")\n",
        "plt.ylabel(\"Predicted prices: \")\n",
        "plt.title(\"Actual Prices vs Predicted prices:\")\n",
        "plt.legend(loc='upper left');\n",
        "plt.show()\n",
        "print()\n",
        "print()"
      ],
      "execution_count": 52,
      "outputs": [
        {
          "output_type": "display_data",
          "data": {
            "image/png": "[encoded data removed]",
            "text/plain": [
              "<Figure size 576x432 with 1 Axes>"
            ]
          },
          "metadata": {
            "tags": []
          }
        },
        {
          "output_type": "stream",
          "text": [
            "\n",
            "\n"
          ],
          "name": "stdout"
        }
      ]
    },
    {
      "cell_type": "code",
      "metadata": {
        "id": "lQ46nNikQP_o",
        "colab_type": "code",
        "colab": {
          "base_uri": "https://localhost:8080/",
          "height": 115
        },
        "outputId": "288fa8c7-b704-4812-f696-decdc5517778"
      },
      "source": [
        "from prettytable import PrettyTable\n",
        "\n",
        "\n",
        "\n",
        "p = PrettyTable()\n",
        "\n",
        "p.field_names = [\"Implementation\", \"MSE value\",  ]\n",
        "\n",
        "p.add_row([\"Manual SGD\", 20.523230432385088, ] )\n",
        "p.add_row([\"SKLEARN SGD\",21.05326679398608 ])\n",
        "\n",
        "\n",
        "# Printing the Table\n",
        "print(p)"
      ],
      "execution_count": 96,
      "outputs": [
        {
          "output_type": "stream",
          "text": [
            "+----------------+--------------------+\n",
            "| Implementation |     MSE value      |\n",
            "+----------------+--------------------+\n",
            "|   Manual SGD   | 20.523230432385088 |\n",
            "|  SKLEARN SGD   | 21.05326679398608  |\n",
            "+----------------+--------------------+\n"
          ],
          "name": "stdout"
        }
      ]
    },
    {
      "cell_type": "markdown",
      "metadata": {
        "id": "jzzU6vbzwTAN",
        "colab_type": "text"
      },
      "source": [
        "# **Conclusion:**\n",
        "\n",
        "Implenetation of Linear regression done using SKlearn library. SGDRegressor was trained. Manual SGD regressor is applied with various modes. Derivative calcualtion is carried out in the model.\n",
        "The points int the plot appear close .The MSE values are compared in oretty table and the values are more closer .\n",
        "As the steps and sample  increased the MSE value is decreased"
      ]
    }
  ]
}